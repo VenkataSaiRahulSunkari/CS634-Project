{
 "cells": [
  {
   "cell_type": "markdown",
   "id": "402b5ff7",
   "metadata": {},
   "source": [
    "Import dependencies"
   ]
  },
  {
   "cell_type": "code",
   "execution_count": 3,
   "id": "f95225eb",
   "metadata": {},
   "outputs": [],
   "source": [
    "import numpy as np\n",
    "import pandas as pd"
   ]
  },
  {
   "cell_type": "markdown",
   "id": "d21a0d3f",
   "metadata": {},
   "source": [
    "Load the dataset from csv file: farudTrain.csv"
   ]
  },
  {
   "cell_type": "code",
   "execution_count": 4,
   "id": "43da1a4b",
   "metadata": {},
   "outputs": [],
   "source": [
    "train_data = pd.read_csv('fraudTrain.csv')"
   ]
  },
  {
   "cell_type": "code",
   "execution_count": 5,
   "id": "2cf4a666",
   "metadata": {},
   "outputs": [
    {
     "data": {
      "text/html": [
       "<div>\n",
       "<style scoped>\n",
       "    .dataframe tbody tr th:only-of-type {\n",
       "        vertical-align: middle;\n",
       "    }\n",
       "\n",
       "    .dataframe tbody tr th {\n",
       "        vertical-align: top;\n",
       "    }\n",
       "\n",
       "    .dataframe thead th {\n",
       "        text-align: right;\n",
       "    }\n",
       "</style>\n",
       "<table border=\"1\" class=\"dataframe\">\n",
       "  <thead>\n",
       "    <tr style=\"text-align: right;\">\n",
       "      <th></th>\n",
       "      <th>Unnamed: 0</th>\n",
       "      <th>trans_date_trans_time</th>\n",
       "      <th>cc_num</th>\n",
       "      <th>merchant</th>\n",
       "      <th>category</th>\n",
       "      <th>amt</th>\n",
       "      <th>first</th>\n",
       "      <th>last</th>\n",
       "      <th>gender</th>\n",
       "      <th>street</th>\n",
       "      <th>...</th>\n",
       "      <th>lat</th>\n",
       "      <th>long</th>\n",
       "      <th>city_pop</th>\n",
       "      <th>job</th>\n",
       "      <th>dob</th>\n",
       "      <th>trans_num</th>\n",
       "      <th>unix_time</th>\n",
       "      <th>merch_lat</th>\n",
       "      <th>merch_long</th>\n",
       "      <th>is_fraud</th>\n",
       "    </tr>\n",
       "  </thead>\n",
       "  <tbody>\n",
       "    <tr>\n",
       "      <th>0</th>\n",
       "      <td>0</td>\n",
       "      <td>2019-01-01 00:00:18</td>\n",
       "      <td>2703186189652095</td>\n",
       "      <td>fraud_Rippin, Kub and Mann</td>\n",
       "      <td>misc_net</td>\n",
       "      <td>4.97</td>\n",
       "      <td>Jennifer</td>\n",
       "      <td>Banks</td>\n",
       "      <td>F</td>\n",
       "      <td>561 Perry Cove</td>\n",
       "      <td>...</td>\n",
       "      <td>36.0788</td>\n",
       "      <td>-81.1781</td>\n",
       "      <td>3495</td>\n",
       "      <td>Psychologist, counselling</td>\n",
       "      <td>1988-03-09</td>\n",
       "      <td>0b242abb623afc578575680df30655b9</td>\n",
       "      <td>1325376018</td>\n",
       "      <td>36.011293</td>\n",
       "      <td>-82.048315</td>\n",
       "      <td>0</td>\n",
       "    </tr>\n",
       "    <tr>\n",
       "      <th>1</th>\n",
       "      <td>1</td>\n",
       "      <td>2019-01-01 00:00:44</td>\n",
       "      <td>630423337322</td>\n",
       "      <td>fraud_Heller, Gutmann and Zieme</td>\n",
       "      <td>grocery_pos</td>\n",
       "      <td>107.23</td>\n",
       "      <td>Stephanie</td>\n",
       "      <td>Gill</td>\n",
       "      <td>F</td>\n",
       "      <td>43039 Riley Greens Suite 393</td>\n",
       "      <td>...</td>\n",
       "      <td>48.8878</td>\n",
       "      <td>-118.2105</td>\n",
       "      <td>149</td>\n",
       "      <td>Special educational needs teacher</td>\n",
       "      <td>1978-06-21</td>\n",
       "      <td>1f76529f8574734946361c461b024d99</td>\n",
       "      <td>1325376044</td>\n",
       "      <td>49.159047</td>\n",
       "      <td>-118.186462</td>\n",
       "      <td>0</td>\n",
       "    </tr>\n",
       "    <tr>\n",
       "      <th>2</th>\n",
       "      <td>2</td>\n",
       "      <td>2019-01-01 00:00:51</td>\n",
       "      <td>38859492057661</td>\n",
       "      <td>fraud_Lind-Buckridge</td>\n",
       "      <td>entertainment</td>\n",
       "      <td>220.11</td>\n",
       "      <td>Edward</td>\n",
       "      <td>Sanchez</td>\n",
       "      <td>M</td>\n",
       "      <td>594 White Dale Suite 530</td>\n",
       "      <td>...</td>\n",
       "      <td>42.1808</td>\n",
       "      <td>-112.2620</td>\n",
       "      <td>4154</td>\n",
       "      <td>Nature conservation officer</td>\n",
       "      <td>1962-01-19</td>\n",
       "      <td>a1a22d70485983eac12b5b88dad1cf95</td>\n",
       "      <td>1325376051</td>\n",
       "      <td>43.150704</td>\n",
       "      <td>-112.154481</td>\n",
       "      <td>0</td>\n",
       "    </tr>\n",
       "    <tr>\n",
       "      <th>3</th>\n",
       "      <td>3</td>\n",
       "      <td>2019-01-01 00:01:16</td>\n",
       "      <td>3534093764340240</td>\n",
       "      <td>fraud_Kutch, Hermiston and Farrell</td>\n",
       "      <td>gas_transport</td>\n",
       "      <td>45.00</td>\n",
       "      <td>Jeremy</td>\n",
       "      <td>White</td>\n",
       "      <td>M</td>\n",
       "      <td>9443 Cynthia Court Apt. 038</td>\n",
       "      <td>...</td>\n",
       "      <td>46.2306</td>\n",
       "      <td>-112.1138</td>\n",
       "      <td>1939</td>\n",
       "      <td>Patent attorney</td>\n",
       "      <td>1967-01-12</td>\n",
       "      <td>6b849c168bdad6f867558c3793159a81</td>\n",
       "      <td>1325376076</td>\n",
       "      <td>47.034331</td>\n",
       "      <td>-112.561071</td>\n",
       "      <td>0</td>\n",
       "    </tr>\n",
       "    <tr>\n",
       "      <th>4</th>\n",
       "      <td>4</td>\n",
       "      <td>2019-01-01 00:03:06</td>\n",
       "      <td>375534208663984</td>\n",
       "      <td>fraud_Keeling-Crist</td>\n",
       "      <td>misc_pos</td>\n",
       "      <td>41.96</td>\n",
       "      <td>Tyler</td>\n",
       "      <td>Garcia</td>\n",
       "      <td>M</td>\n",
       "      <td>408 Bradley Rest</td>\n",
       "      <td>...</td>\n",
       "      <td>38.4207</td>\n",
       "      <td>-79.4629</td>\n",
       "      <td>99</td>\n",
       "      <td>Dance movement psychotherapist</td>\n",
       "      <td>1986-03-28</td>\n",
       "      <td>a41d7549acf90789359a9aa5346dcb46</td>\n",
       "      <td>1325376186</td>\n",
       "      <td>38.674999</td>\n",
       "      <td>-78.632459</td>\n",
       "      <td>0</td>\n",
       "    </tr>\n",
       "  </tbody>\n",
       "</table>\n",
       "<p>5 rows × 23 columns</p>\n",
       "</div>"
      ],
      "text/plain": [
       "   Unnamed: 0 trans_date_trans_time            cc_num  \\\n",
       "0           0   2019-01-01 00:00:18  2703186189652095   \n",
       "1           1   2019-01-01 00:00:44      630423337322   \n",
       "2           2   2019-01-01 00:00:51    38859492057661   \n",
       "3           3   2019-01-01 00:01:16  3534093764340240   \n",
       "4           4   2019-01-01 00:03:06   375534208663984   \n",
       "\n",
       "                             merchant       category     amt      first  \\\n",
       "0          fraud_Rippin, Kub and Mann       misc_net    4.97   Jennifer   \n",
       "1     fraud_Heller, Gutmann and Zieme    grocery_pos  107.23  Stephanie   \n",
       "2                fraud_Lind-Buckridge  entertainment  220.11     Edward   \n",
       "3  fraud_Kutch, Hermiston and Farrell  gas_transport   45.00     Jeremy   \n",
       "4                 fraud_Keeling-Crist       misc_pos   41.96      Tyler   \n",
       "\n",
       "      last gender                        street  ...      lat      long  \\\n",
       "0    Banks      F                561 Perry Cove  ...  36.0788  -81.1781   \n",
       "1     Gill      F  43039 Riley Greens Suite 393  ...  48.8878 -118.2105   \n",
       "2  Sanchez      M      594 White Dale Suite 530  ...  42.1808 -112.2620   \n",
       "3    White      M   9443 Cynthia Court Apt. 038  ...  46.2306 -112.1138   \n",
       "4   Garcia      M              408 Bradley Rest  ...  38.4207  -79.4629   \n",
       "\n",
       "   city_pop                                job         dob  \\\n",
       "0      3495          Psychologist, counselling  1988-03-09   \n",
       "1       149  Special educational needs teacher  1978-06-21   \n",
       "2      4154        Nature conservation officer  1962-01-19   \n",
       "3      1939                    Patent attorney  1967-01-12   \n",
       "4        99     Dance movement psychotherapist  1986-03-28   \n",
       "\n",
       "                          trans_num   unix_time  merch_lat  merch_long  \\\n",
       "0  0b242abb623afc578575680df30655b9  1325376018  36.011293  -82.048315   \n",
       "1  1f76529f8574734946361c461b024d99  1325376044  49.159047 -118.186462   \n",
       "2  a1a22d70485983eac12b5b88dad1cf95  1325376051  43.150704 -112.154481   \n",
       "3  6b849c168bdad6f867558c3793159a81  1325376076  47.034331 -112.561071   \n",
       "4  a41d7549acf90789359a9aa5346dcb46  1325376186  38.674999  -78.632459   \n",
       "\n",
       "   is_fraud  \n",
       "0         0  \n",
       "1         0  \n",
       "2         0  \n",
       "3         0  \n",
       "4         0  \n",
       "\n",
       "[5 rows x 23 columns]"
      ]
     },
     "execution_count": 5,
     "metadata": {},
     "output_type": "execute_result"
    }
   ],
   "source": [
    "train_data.head()"
   ]
  },
  {
   "cell_type": "code",
   "execution_count": 6,
   "id": "7804dfa3",
   "metadata": {},
   "outputs": [
    {
     "name": "stdout",
     "output_type": "stream",
     "text": [
      "<class 'pandas.core.frame.DataFrame'>\n",
      "RangeIndex: 1296675 entries, 0 to 1296674\n",
      "Data columns (total 23 columns):\n",
      " #   Column                 Non-Null Count    Dtype  \n",
      "---  ------                 --------------    -----  \n",
      " 0   Unnamed: 0             1296675 non-null  int64  \n",
      " 1   trans_date_trans_time  1296675 non-null  object \n",
      " 2   cc_num                 1296675 non-null  int64  \n",
      " 3   merchant               1296675 non-null  object \n",
      " 4   category               1296675 non-null  object \n",
      " 5   amt                    1296675 non-null  float64\n",
      " 6   first                  1296675 non-null  object \n",
      " 7   last                   1296675 non-null  object \n",
      " 8   gender                 1296675 non-null  object \n",
      " 9   street                 1296675 non-null  object \n",
      " 10  city                   1296675 non-null  object \n",
      " 11  state                  1296675 non-null  object \n",
      " 12  zip                    1296675 non-null  int64  \n",
      " 13  lat                    1296675 non-null  float64\n",
      " 14  long                   1296675 non-null  float64\n",
      " 15  city_pop               1296675 non-null  int64  \n",
      " 16  job                    1296675 non-null  object \n",
      " 17  dob                    1296675 non-null  object \n",
      " 18  trans_num              1296675 non-null  object \n",
      " 19  unix_time              1296675 non-null  int64  \n",
      " 20  merch_lat              1296675 non-null  float64\n",
      " 21  merch_long             1296675 non-null  float64\n",
      " 22  is_fraud               1296675 non-null  int64  \n",
      "dtypes: float64(5), int64(6), object(12)\n",
      "memory usage: 227.5+ MB\n"
     ]
    }
   ],
   "source": [
    "# get dataset info\n",
    "train_data.info()"
   ]
  },
  {
   "cell_type": "markdown",
   "id": "183cb41a",
   "metadata": {},
   "source": [
    "is_fraud is the class label of the data. 0 is for legitimate transaction, while 1 is for fradulent transaction."
   ]
  },
  {
   "cell_type": "code",
   "execution_count": 7,
   "id": "5281f9e9",
   "metadata": {},
   "outputs": [
    {
     "data": {
      "text/plain": [
       "Unnamed: 0               0\n",
       "trans_date_trans_time    0\n",
       "cc_num                   0\n",
       "merchant                 0\n",
       "category                 0\n",
       "amt                      0\n",
       "first                    0\n",
       "last                     0\n",
       "gender                   0\n",
       "street                   0\n",
       "city                     0\n",
       "state                    0\n",
       "zip                      0\n",
       "lat                      0\n",
       "long                     0\n",
       "city_pop                 0\n",
       "job                      0\n",
       "dob                      0\n",
       "trans_num                0\n",
       "unix_time                0\n",
       "merch_lat                0\n",
       "merch_long               0\n",
       "is_fraud                 0\n",
       "dtype: int64"
      ]
     },
     "execution_count": 7,
     "metadata": {},
     "output_type": "execute_result"
    }
   ],
   "source": [
    "# check for missing values in each column\n",
    "train_data.isnull().sum()"
   ]
  },
  {
   "cell_type": "markdown",
   "id": "38e8d2dc",
   "metadata": {},
   "source": [
    "**no missing values**"
   ]
  },
  {
   "cell_type": "code",
   "execution_count": 14,
   "id": "b9c7e131",
   "metadata": {},
   "outputs": [
    {
     "data": {
      "text/plain": [
       "0    1289169\n",
       "1       7506\n",
       "Name: is_fraud, dtype: int64"
      ]
     },
     "execution_count": 14,
     "metadata": {},
     "output_type": "execute_result"
    }
   ],
   "source": [
    "# Compare the total number of legitimate transactions and fraudulent trarnsactions\n",
    "train_data['is_fraud'].value_counts()"
   ]
  },
  {
   "cell_type": "code",
   "execution_count": 40,
   "id": "a6f70f8a",
   "metadata": {},
   "outputs": [
    {
     "data": {
      "text/html": [
       "<div>\n",
       "<style scoped>\n",
       "    .dataframe tbody tr th:only-of-type {\n",
       "        vertical-align: middle;\n",
       "    }\n",
       "\n",
       "    .dataframe tbody tr th {\n",
       "        vertical-align: top;\n",
       "    }\n",
       "\n",
       "    .dataframe thead th {\n",
       "        text-align: right;\n",
       "    }\n",
       "</style>\n",
       "<table border=\"1\" class=\"dataframe\">\n",
       "  <thead>\n",
       "    <tr style=\"text-align: right;\">\n",
       "      <th></th>\n",
       "      <th>Unnamed: 0</th>\n",
       "      <th>cc_num</th>\n",
       "      <th>amt</th>\n",
       "      <th>zip</th>\n",
       "      <th>lat</th>\n",
       "      <th>long</th>\n",
       "      <th>city_pop</th>\n",
       "      <th>unix_time</th>\n",
       "      <th>merch_lat</th>\n",
       "      <th>merch_long</th>\n",
       "      <th>is_fraud</th>\n",
       "    </tr>\n",
       "  </thead>\n",
       "  <tbody>\n",
       "    <tr>\n",
       "      <th>count</th>\n",
       "      <td>1.296675e+06</td>\n",
       "      <td>1.296675e+06</td>\n",
       "      <td>1.296675e+06</td>\n",
       "      <td>1.296675e+06</td>\n",
       "      <td>1.296675e+06</td>\n",
       "      <td>1.296675e+06</td>\n",
       "      <td>1.296675e+06</td>\n",
       "      <td>1.296675e+06</td>\n",
       "      <td>1.296675e+06</td>\n",
       "      <td>1.296675e+06</td>\n",
       "      <td>1.296675e+06</td>\n",
       "    </tr>\n",
       "    <tr>\n",
       "      <th>mean</th>\n",
       "      <td>6.483370e+05</td>\n",
       "      <td>4.171920e+17</td>\n",
       "      <td>7.035104e+01</td>\n",
       "      <td>4.880067e+04</td>\n",
       "      <td>3.853762e+01</td>\n",
       "      <td>-9.022634e+01</td>\n",
       "      <td>8.882444e+04</td>\n",
       "      <td>1.349244e+09</td>\n",
       "      <td>3.853734e+01</td>\n",
       "      <td>-9.022646e+01</td>\n",
       "      <td>5.788652e-03</td>\n",
       "    </tr>\n",
       "    <tr>\n",
       "      <th>std</th>\n",
       "      <td>3.743180e+05</td>\n",
       "      <td>1.308806e+18</td>\n",
       "      <td>1.603160e+02</td>\n",
       "      <td>2.689322e+04</td>\n",
       "      <td>5.075808e+00</td>\n",
       "      <td>1.375908e+01</td>\n",
       "      <td>3.019564e+05</td>\n",
       "      <td>1.284128e+07</td>\n",
       "      <td>5.109788e+00</td>\n",
       "      <td>1.377109e+01</td>\n",
       "      <td>7.586269e-02</td>\n",
       "    </tr>\n",
       "    <tr>\n",
       "      <th>min</th>\n",
       "      <td>0.000000e+00</td>\n",
       "      <td>6.041621e+10</td>\n",
       "      <td>1.000000e+00</td>\n",
       "      <td>1.257000e+03</td>\n",
       "      <td>2.002710e+01</td>\n",
       "      <td>-1.656723e+02</td>\n",
       "      <td>2.300000e+01</td>\n",
       "      <td>1.325376e+09</td>\n",
       "      <td>1.902779e+01</td>\n",
       "      <td>-1.666712e+02</td>\n",
       "      <td>0.000000e+00</td>\n",
       "    </tr>\n",
       "    <tr>\n",
       "      <th>25%</th>\n",
       "      <td>3.241685e+05</td>\n",
       "      <td>1.800429e+14</td>\n",
       "      <td>9.650000e+00</td>\n",
       "      <td>2.623700e+04</td>\n",
       "      <td>3.462050e+01</td>\n",
       "      <td>-9.679800e+01</td>\n",
       "      <td>7.430000e+02</td>\n",
       "      <td>1.338751e+09</td>\n",
       "      <td>3.473357e+01</td>\n",
       "      <td>-9.689728e+01</td>\n",
       "      <td>0.000000e+00</td>\n",
       "    </tr>\n",
       "    <tr>\n",
       "      <th>50%</th>\n",
       "      <td>6.483370e+05</td>\n",
       "      <td>3.521417e+15</td>\n",
       "      <td>4.752000e+01</td>\n",
       "      <td>4.817400e+04</td>\n",
       "      <td>3.935430e+01</td>\n",
       "      <td>-8.747690e+01</td>\n",
       "      <td>2.456000e+03</td>\n",
       "      <td>1.349250e+09</td>\n",
       "      <td>3.936568e+01</td>\n",
       "      <td>-8.743839e+01</td>\n",
       "      <td>0.000000e+00</td>\n",
       "    </tr>\n",
       "    <tr>\n",
       "      <th>75%</th>\n",
       "      <td>9.725055e+05</td>\n",
       "      <td>4.642255e+15</td>\n",
       "      <td>8.314000e+01</td>\n",
       "      <td>7.204200e+04</td>\n",
       "      <td>4.194040e+01</td>\n",
       "      <td>-8.015800e+01</td>\n",
       "      <td>2.032800e+04</td>\n",
       "      <td>1.359385e+09</td>\n",
       "      <td>4.195716e+01</td>\n",
       "      <td>-8.023680e+01</td>\n",
       "      <td>0.000000e+00</td>\n",
       "    </tr>\n",
       "    <tr>\n",
       "      <th>max</th>\n",
       "      <td>1.296674e+06</td>\n",
       "      <td>4.992346e+18</td>\n",
       "      <td>2.894890e+04</td>\n",
       "      <td>9.978300e+04</td>\n",
       "      <td>6.669330e+01</td>\n",
       "      <td>-6.795030e+01</td>\n",
       "      <td>2.906700e+06</td>\n",
       "      <td>1.371817e+09</td>\n",
       "      <td>6.751027e+01</td>\n",
       "      <td>-6.695090e+01</td>\n",
       "      <td>1.000000e+00</td>\n",
       "    </tr>\n",
       "  </tbody>\n",
       "</table>\n",
       "</div>"
      ],
      "text/plain": [
       "         Unnamed: 0        cc_num           amt           zip           lat  \\\n",
       "count  1.296675e+06  1.296675e+06  1.296675e+06  1.296675e+06  1.296675e+06   \n",
       "mean   6.483370e+05  4.171920e+17  7.035104e+01  4.880067e+04  3.853762e+01   \n",
       "std    3.743180e+05  1.308806e+18  1.603160e+02  2.689322e+04  5.075808e+00   \n",
       "min    0.000000e+00  6.041621e+10  1.000000e+00  1.257000e+03  2.002710e+01   \n",
       "25%    3.241685e+05  1.800429e+14  9.650000e+00  2.623700e+04  3.462050e+01   \n",
       "50%    6.483370e+05  3.521417e+15  4.752000e+01  4.817400e+04  3.935430e+01   \n",
       "75%    9.725055e+05  4.642255e+15  8.314000e+01  7.204200e+04  4.194040e+01   \n",
       "max    1.296674e+06  4.992346e+18  2.894890e+04  9.978300e+04  6.669330e+01   \n",
       "\n",
       "               long      city_pop     unix_time     merch_lat    merch_long  \\\n",
       "count  1.296675e+06  1.296675e+06  1.296675e+06  1.296675e+06  1.296675e+06   \n",
       "mean  -9.022634e+01  8.882444e+04  1.349244e+09  3.853734e+01 -9.022646e+01   \n",
       "std    1.375908e+01  3.019564e+05  1.284128e+07  5.109788e+00  1.377109e+01   \n",
       "min   -1.656723e+02  2.300000e+01  1.325376e+09  1.902779e+01 -1.666712e+02   \n",
       "25%   -9.679800e+01  7.430000e+02  1.338751e+09  3.473357e+01 -9.689728e+01   \n",
       "50%   -8.747690e+01  2.456000e+03  1.349250e+09  3.936568e+01 -8.743839e+01   \n",
       "75%   -8.015800e+01  2.032800e+04  1.359385e+09  4.195716e+01 -8.023680e+01   \n",
       "max   -6.795030e+01  2.906700e+06  1.371817e+09  6.751027e+01 -6.695090e+01   \n",
       "\n",
       "           is_fraud  \n",
       "count  1.296675e+06  \n",
       "mean   5.788652e-03  \n",
       "std    7.586269e-02  \n",
       "min    0.000000e+00  \n",
       "25%    0.000000e+00  \n",
       "50%    0.000000e+00  \n",
       "75%    0.000000e+00  \n",
       "max    1.000000e+00  "
      ]
     },
     "execution_count": 40,
     "metadata": {},
     "output_type": "execute_result"
    }
   ],
   "source": [
    "train_data.describe()"
   ]
  },
  {
   "cell_type": "markdown",
   "id": "90909ad7",
   "metadata": {},
   "source": [
    "So, there are 1289169 number of legitimate transactions while only 7506 number of fraudulent transactions which accounts for only ~0.6% of the total number of transactions. \n",
    "The dataset is drastically imbalanced."
   ]
  },
  {
   "cell_type": "code",
   "execution_count": 15,
   "id": "8b098294",
   "metadata": {},
   "outputs": [
    {
     "data": {
      "application/vnd.plotly.v1+json": {
       "config": {
        "plotlyServerURL": "https://plot.ly"
       },
       "data": [
        {
         "hole": 0.3,
         "hoverinfo": "label+percent",
         "labels": [
          "Legit",
          "Fraud"
         ],
         "marker": {
          "colors": [
           "orange",
           "white"
          ],
          "line": {
           "color": "white",
           "width": 0.1
          }
         },
         "textfont": {
          "size": 20
         },
         "textinfo": "percent",
         "type": "pie",
         "values": [
          0.9942113482561166,
          0.005788651743883394
         ]
        }
       ],
       "layout": {
        "font": {
         "color": "white"
        },
        "legend": {
         "title": {
          "font": {
           "color": "yellow"
          }
         }
        },
        "paper_bgcolor": "black",
        "plot_bgcolor": "black",
        "template": {
         "data": {
          "bar": [
           {
            "error_x": {
             "color": "#2a3f5f"
            },
            "error_y": {
             "color": "#2a3f5f"
            },
            "marker": {
             "line": {
              "color": "#E5ECF6",
              "width": 0.5
             },
             "pattern": {
              "fillmode": "overlay",
              "size": 10,
              "solidity": 0.2
             }
            },
            "type": "bar"
           }
          ],
          "barpolar": [
           {
            "marker": {
             "line": {
              "color": "#E5ECF6",
              "width": 0.5
             },
             "pattern": {
              "fillmode": "overlay",
              "size": 10,
              "solidity": 0.2
             }
            },
            "type": "barpolar"
           }
          ],
          "carpet": [
           {
            "aaxis": {
             "endlinecolor": "#2a3f5f",
             "gridcolor": "white",
             "linecolor": "white",
             "minorgridcolor": "white",
             "startlinecolor": "#2a3f5f"
            },
            "baxis": {
             "endlinecolor": "#2a3f5f",
             "gridcolor": "white",
             "linecolor": "white",
             "minorgridcolor": "white",
             "startlinecolor": "#2a3f5f"
            },
            "type": "carpet"
           }
          ],
          "choropleth": [
           {
            "colorbar": {
             "outlinewidth": 0,
             "ticks": ""
            },
            "type": "choropleth"
           }
          ],
          "contour": [
           {
            "colorbar": {
             "outlinewidth": 0,
             "ticks": ""
            },
            "colorscale": [
             [
              0,
              "#0d0887"
             ],
             [
              0.1111111111111111,
              "#46039f"
             ],
             [
              0.2222222222222222,
              "#7201a8"
             ],
             [
              0.3333333333333333,
              "#9c179e"
             ],
             [
              0.4444444444444444,
              "#bd3786"
             ],
             [
              0.5555555555555556,
              "#d8576b"
             ],
             [
              0.6666666666666666,
              "#ed7953"
             ],
             [
              0.7777777777777778,
              "#fb9f3a"
             ],
             [
              0.8888888888888888,
              "#fdca26"
             ],
             [
              1,
              "#f0f921"
             ]
            ],
            "type": "contour"
           }
          ],
          "contourcarpet": [
           {
            "colorbar": {
             "outlinewidth": 0,
             "ticks": ""
            },
            "type": "contourcarpet"
           }
          ],
          "heatmap": [
           {
            "colorbar": {
             "outlinewidth": 0,
             "ticks": ""
            },
            "colorscale": [
             [
              0,
              "#0d0887"
             ],
             [
              0.1111111111111111,
              "#46039f"
             ],
             [
              0.2222222222222222,
              "#7201a8"
             ],
             [
              0.3333333333333333,
              "#9c179e"
             ],
             [
              0.4444444444444444,
              "#bd3786"
             ],
             [
              0.5555555555555556,
              "#d8576b"
             ],
             [
              0.6666666666666666,
              "#ed7953"
             ],
             [
              0.7777777777777778,
              "#fb9f3a"
             ],
             [
              0.8888888888888888,
              "#fdca26"
             ],
             [
              1,
              "#f0f921"
             ]
            ],
            "type": "heatmap"
           }
          ],
          "heatmapgl": [
           {
            "colorbar": {
             "outlinewidth": 0,
             "ticks": ""
            },
            "colorscale": [
             [
              0,
              "#0d0887"
             ],
             [
              0.1111111111111111,
              "#46039f"
             ],
             [
              0.2222222222222222,
              "#7201a8"
             ],
             [
              0.3333333333333333,
              "#9c179e"
             ],
             [
              0.4444444444444444,
              "#bd3786"
             ],
             [
              0.5555555555555556,
              "#d8576b"
             ],
             [
              0.6666666666666666,
              "#ed7953"
             ],
             [
              0.7777777777777778,
              "#fb9f3a"
             ],
             [
              0.8888888888888888,
              "#fdca26"
             ],
             [
              1,
              "#f0f921"
             ]
            ],
            "type": "heatmapgl"
           }
          ],
          "histogram": [
           {
            "marker": {
             "pattern": {
              "fillmode": "overlay",
              "size": 10,
              "solidity": 0.2
             }
            },
            "type": "histogram"
           }
          ],
          "histogram2d": [
           {
            "colorbar": {
             "outlinewidth": 0,
             "ticks": ""
            },
            "colorscale": [
             [
              0,
              "#0d0887"
             ],
             [
              0.1111111111111111,
              "#46039f"
             ],
             [
              0.2222222222222222,
              "#7201a8"
             ],
             [
              0.3333333333333333,
              "#9c179e"
             ],
             [
              0.4444444444444444,
              "#bd3786"
             ],
             [
              0.5555555555555556,
              "#d8576b"
             ],
             [
              0.6666666666666666,
              "#ed7953"
             ],
             [
              0.7777777777777778,
              "#fb9f3a"
             ],
             [
              0.8888888888888888,
              "#fdca26"
             ],
             [
              1,
              "#f0f921"
             ]
            ],
            "type": "histogram2d"
           }
          ],
          "histogram2dcontour": [
           {
            "colorbar": {
             "outlinewidth": 0,
             "ticks": ""
            },
            "colorscale": [
             [
              0,
              "#0d0887"
             ],
             [
              0.1111111111111111,
              "#46039f"
             ],
             [
              0.2222222222222222,
              "#7201a8"
             ],
             [
              0.3333333333333333,
              "#9c179e"
             ],
             [
              0.4444444444444444,
              "#bd3786"
             ],
             [
              0.5555555555555556,
              "#d8576b"
             ],
             [
              0.6666666666666666,
              "#ed7953"
             ],
             [
              0.7777777777777778,
              "#fb9f3a"
             ],
             [
              0.8888888888888888,
              "#fdca26"
             ],
             [
              1,
              "#f0f921"
             ]
            ],
            "type": "histogram2dcontour"
           }
          ],
          "mesh3d": [
           {
            "colorbar": {
             "outlinewidth": 0,
             "ticks": ""
            },
            "type": "mesh3d"
           }
          ],
          "parcoords": [
           {
            "line": {
             "colorbar": {
              "outlinewidth": 0,
              "ticks": ""
             }
            },
            "type": "parcoords"
           }
          ],
          "pie": [
           {
            "automargin": true,
            "type": "pie"
           }
          ],
          "scatter": [
           {
            "marker": {
             "colorbar": {
              "outlinewidth": 0,
              "ticks": ""
             }
            },
            "type": "scatter"
           }
          ],
          "scatter3d": [
           {
            "line": {
             "colorbar": {
              "outlinewidth": 0,
              "ticks": ""
             }
            },
            "marker": {
             "colorbar": {
              "outlinewidth": 0,
              "ticks": ""
             }
            },
            "type": "scatter3d"
           }
          ],
          "scattercarpet": [
           {
            "marker": {
             "colorbar": {
              "outlinewidth": 0,
              "ticks": ""
             }
            },
            "type": "scattercarpet"
           }
          ],
          "scattergeo": [
           {
            "marker": {
             "colorbar": {
              "outlinewidth": 0,
              "ticks": ""
             }
            },
            "type": "scattergeo"
           }
          ],
          "scattergl": [
           {
            "marker": {
             "colorbar": {
              "outlinewidth": 0,
              "ticks": ""
             }
            },
            "type": "scattergl"
           }
          ],
          "scattermapbox": [
           {
            "marker": {
             "colorbar": {
              "outlinewidth": 0,
              "ticks": ""
             }
            },
            "type": "scattermapbox"
           }
          ],
          "scatterpolar": [
           {
            "marker": {
             "colorbar": {
              "outlinewidth": 0,
              "ticks": ""
             }
            },
            "type": "scatterpolar"
           }
          ],
          "scatterpolargl": [
           {
            "marker": {
             "colorbar": {
              "outlinewidth": 0,
              "ticks": ""
             }
            },
            "type": "scatterpolargl"
           }
          ],
          "scatterternary": [
           {
            "marker": {
             "colorbar": {
              "outlinewidth": 0,
              "ticks": ""
             }
            },
            "type": "scatterternary"
           }
          ],
          "surface": [
           {
            "colorbar": {
             "outlinewidth": 0,
             "ticks": ""
            },
            "colorscale": [
             [
              0,
              "#0d0887"
             ],
             [
              0.1111111111111111,
              "#46039f"
             ],
             [
              0.2222222222222222,
              "#7201a8"
             ],
             [
              0.3333333333333333,
              "#9c179e"
             ],
             [
              0.4444444444444444,
              "#bd3786"
             ],
             [
              0.5555555555555556,
              "#d8576b"
             ],
             [
              0.6666666666666666,
              "#ed7953"
             ],
             [
              0.7777777777777778,
              "#fb9f3a"
             ],
             [
              0.8888888888888888,
              "#fdca26"
             ],
             [
              1,
              "#f0f921"
             ]
            ],
            "type": "surface"
           }
          ],
          "table": [
           {
            "cells": {
             "fill": {
              "color": "#EBF0F8"
             },
             "line": {
              "color": "white"
             }
            },
            "header": {
             "fill": {
              "color": "#C8D4E3"
             },
             "line": {
              "color": "white"
             }
            },
            "type": "table"
           }
          ]
         },
         "layout": {
          "annotationdefaults": {
           "arrowcolor": "#2a3f5f",
           "arrowhead": 0,
           "arrowwidth": 1
          },
          "autotypenumbers": "strict",
          "coloraxis": {
           "colorbar": {
            "outlinewidth": 0,
            "ticks": ""
           }
          },
          "colorscale": {
           "diverging": [
            [
             0,
             "#8e0152"
            ],
            [
             0.1,
             "#c51b7d"
            ],
            [
             0.2,
             "#de77ae"
            ],
            [
             0.3,
             "#f1b6da"
            ],
            [
             0.4,
             "#fde0ef"
            ],
            [
             0.5,
             "#f7f7f7"
            ],
            [
             0.6,
             "#e6f5d0"
            ],
            [
             0.7,
             "#b8e186"
            ],
            [
             0.8,
             "#7fbc41"
            ],
            [
             0.9,
             "#4d9221"
            ],
            [
             1,
             "#276419"
            ]
           ],
           "sequential": [
            [
             0,
             "#0d0887"
            ],
            [
             0.1111111111111111,
             "#46039f"
            ],
            [
             0.2222222222222222,
             "#7201a8"
            ],
            [
             0.3333333333333333,
             "#9c179e"
            ],
            [
             0.4444444444444444,
             "#bd3786"
            ],
            [
             0.5555555555555556,
             "#d8576b"
            ],
            [
             0.6666666666666666,
             "#ed7953"
            ],
            [
             0.7777777777777778,
             "#fb9f3a"
            ],
            [
             0.8888888888888888,
             "#fdca26"
            ],
            [
             1,
             "#f0f921"
            ]
           ],
           "sequentialminus": [
            [
             0,
             "#0d0887"
            ],
            [
             0.1111111111111111,
             "#46039f"
            ],
            [
             0.2222222222222222,
             "#7201a8"
            ],
            [
             0.3333333333333333,
             "#9c179e"
            ],
            [
             0.4444444444444444,
             "#bd3786"
            ],
            [
             0.5555555555555556,
             "#d8576b"
            ],
            [
             0.6666666666666666,
             "#ed7953"
            ],
            [
             0.7777777777777778,
             "#fb9f3a"
            ],
            [
             0.8888888888888888,
             "#fdca26"
            ],
            [
             1,
             "#f0f921"
            ]
           ]
          },
          "colorway": [
           "#636efa",
           "#EF553B",
           "#00cc96",
           "#ab63fa",
           "#FFA15A",
           "#19d3f3",
           "#FF6692",
           "#B6E880",
           "#FF97FF",
           "#FECB52"
          ],
          "font": {
           "color": "#2a3f5f"
          },
          "geo": {
           "bgcolor": "white",
           "lakecolor": "white",
           "landcolor": "#E5ECF6",
           "showlakes": true,
           "showland": true,
           "subunitcolor": "white"
          },
          "hoverlabel": {
           "align": "left"
          },
          "hovermode": "closest",
          "mapbox": {
           "style": "light"
          },
          "paper_bgcolor": "white",
          "plot_bgcolor": "#E5ECF6",
          "polar": {
           "angularaxis": {
            "gridcolor": "white",
            "linecolor": "white",
            "ticks": ""
           },
           "bgcolor": "#E5ECF6",
           "radialaxis": {
            "gridcolor": "white",
            "linecolor": "white",
            "ticks": ""
           }
          },
          "scene": {
           "xaxis": {
            "backgroundcolor": "#E5ECF6",
            "gridcolor": "white",
            "gridwidth": 2,
            "linecolor": "white",
            "showbackground": true,
            "ticks": "",
            "zerolinecolor": "white"
           },
           "yaxis": {
            "backgroundcolor": "#E5ECF6",
            "gridcolor": "white",
            "gridwidth": 2,
            "linecolor": "white",
            "showbackground": true,
            "ticks": "",
            "zerolinecolor": "white"
           },
           "zaxis": {
            "backgroundcolor": "#E5ECF6",
            "gridcolor": "white",
            "gridwidth": 2,
            "linecolor": "white",
            "showbackground": true,
            "ticks": "",
            "zerolinecolor": "white"
           }
          },
          "shapedefaults": {
           "line": {
            "color": "#2a3f5f"
           }
          },
          "ternary": {
           "aaxis": {
            "gridcolor": "white",
            "linecolor": "white",
            "ticks": ""
           },
           "baxis": {
            "gridcolor": "white",
            "linecolor": "white",
            "ticks": ""
           },
           "bgcolor": "#E5ECF6",
           "caxis": {
            "gridcolor": "white",
            "linecolor": "white",
            "ticks": ""
           }
          },
          "title": {
           "x": 0.05
          },
          "xaxis": {
           "automargin": true,
           "gridcolor": "white",
           "linecolor": "white",
           "ticks": "",
           "title": {
            "standoff": 15
           },
           "zerolinecolor": "white",
           "zerolinewidth": 2
          },
          "yaxis": {
           "automargin": true,
           "gridcolor": "white",
           "linecolor": "white",
           "ticks": "",
           "title": {
            "standoff": 15
           },
           "zerolinecolor": "white",
           "zerolinewidth": 2
          }
         }
        },
        "title": {
         "font": {
          "color": "white"
         },
         "text": "Credit Card Fraud"
        }
       }
      },
      "text/html": [
       "<div>                            <div id=\"89fe01cf-d9dd-4c32-8c7c-265df94e0f2f\" class=\"plotly-graph-div\" style=\"height:525px; width:100%;\"></div>            <script type=\"text/javascript\">                require([\"plotly\"], function(Plotly) {                    window.PLOTLYENV=window.PLOTLYENV || {};                                    if (document.getElementById(\"89fe01cf-d9dd-4c32-8c7c-265df94e0f2f\")) {                    Plotly.newPlot(                        \"89fe01cf-d9dd-4c32-8c7c-265df94e0f2f\",                        [{\"hole\":0.3,\"labels\":[\"Legit\",\"Fraud\"],\"values\":[0.9942113482561166,0.005788651743883394],\"type\":\"pie\",\"textfont\":{\"size\":20},\"marker\":{\"line\":{\"color\":\"white\",\"width\":0.1},\"colors\":[\"orange\",\"white\"]},\"hoverinfo\":\"label+percent\",\"textinfo\":\"percent\"}],                        {\"template\":{\"data\":{\"bar\":[{\"error_x\":{\"color\":\"#2a3f5f\"},\"error_y\":{\"color\":\"#2a3f5f\"},\"marker\":{\"line\":{\"color\":\"#E5ECF6\",\"width\":0.5},\"pattern\":{\"fillmode\":\"overlay\",\"size\":10,\"solidity\":0.2}},\"type\":\"bar\"}],\"barpolar\":[{\"marker\":{\"line\":{\"color\":\"#E5ECF6\",\"width\":0.5},\"pattern\":{\"fillmode\":\"overlay\",\"size\":10,\"solidity\":0.2}},\"type\":\"barpolar\"}],\"carpet\":[{\"aaxis\":{\"endlinecolor\":\"#2a3f5f\",\"gridcolor\":\"white\",\"linecolor\":\"white\",\"minorgridcolor\":\"white\",\"startlinecolor\":\"#2a3f5f\"},\"baxis\":{\"endlinecolor\":\"#2a3f5f\",\"gridcolor\":\"white\",\"linecolor\":\"white\",\"minorgridcolor\":\"white\",\"startlinecolor\":\"#2a3f5f\"},\"type\":\"carpet\"}],\"choropleth\":[{\"colorbar\":{\"outlinewidth\":0,\"ticks\":\"\"},\"type\":\"choropleth\"}],\"contour\":[{\"colorbar\":{\"outlinewidth\":0,\"ticks\":\"\"},\"colorscale\":[[0.0,\"#0d0887\"],[0.1111111111111111,\"#46039f\"],[0.2222222222222222,\"#7201a8\"],[0.3333333333333333,\"#9c179e\"],[0.4444444444444444,\"#bd3786\"],[0.5555555555555556,\"#d8576b\"],[0.6666666666666666,\"#ed7953\"],[0.7777777777777778,\"#fb9f3a\"],[0.8888888888888888,\"#fdca26\"],[1.0,\"#f0f921\"]],\"type\":\"contour\"}],\"contourcarpet\":[{\"colorbar\":{\"outlinewidth\":0,\"ticks\":\"\"},\"type\":\"contourcarpet\"}],\"heatmap\":[{\"colorbar\":{\"outlinewidth\":0,\"ticks\":\"\"},\"colorscale\":[[0.0,\"#0d0887\"],[0.1111111111111111,\"#46039f\"],[0.2222222222222222,\"#7201a8\"],[0.3333333333333333,\"#9c179e\"],[0.4444444444444444,\"#bd3786\"],[0.5555555555555556,\"#d8576b\"],[0.6666666666666666,\"#ed7953\"],[0.7777777777777778,\"#fb9f3a\"],[0.8888888888888888,\"#fdca26\"],[1.0,\"#f0f921\"]],\"type\":\"heatmap\"}],\"heatmapgl\":[{\"colorbar\":{\"outlinewidth\":0,\"ticks\":\"\"},\"colorscale\":[[0.0,\"#0d0887\"],[0.1111111111111111,\"#46039f\"],[0.2222222222222222,\"#7201a8\"],[0.3333333333333333,\"#9c179e\"],[0.4444444444444444,\"#bd3786\"],[0.5555555555555556,\"#d8576b\"],[0.6666666666666666,\"#ed7953\"],[0.7777777777777778,\"#fb9f3a\"],[0.8888888888888888,\"#fdca26\"],[1.0,\"#f0f921\"]],\"type\":\"heatmapgl\"}],\"histogram\":[{\"marker\":{\"pattern\":{\"fillmode\":\"overlay\",\"size\":10,\"solidity\":0.2}},\"type\":\"histogram\"}],\"histogram2d\":[{\"colorbar\":{\"outlinewidth\":0,\"ticks\":\"\"},\"colorscale\":[[0.0,\"#0d0887\"],[0.1111111111111111,\"#46039f\"],[0.2222222222222222,\"#7201a8\"],[0.3333333333333333,\"#9c179e\"],[0.4444444444444444,\"#bd3786\"],[0.5555555555555556,\"#d8576b\"],[0.6666666666666666,\"#ed7953\"],[0.7777777777777778,\"#fb9f3a\"],[0.8888888888888888,\"#fdca26\"],[1.0,\"#f0f921\"]],\"type\":\"histogram2d\"}],\"histogram2dcontour\":[{\"colorbar\":{\"outlinewidth\":0,\"ticks\":\"\"},\"colorscale\":[[0.0,\"#0d0887\"],[0.1111111111111111,\"#46039f\"],[0.2222222222222222,\"#7201a8\"],[0.3333333333333333,\"#9c179e\"],[0.4444444444444444,\"#bd3786\"],[0.5555555555555556,\"#d8576b\"],[0.6666666666666666,\"#ed7953\"],[0.7777777777777778,\"#fb9f3a\"],[0.8888888888888888,\"#fdca26\"],[1.0,\"#f0f921\"]],\"type\":\"histogram2dcontour\"}],\"mesh3d\":[{\"colorbar\":{\"outlinewidth\":0,\"ticks\":\"\"},\"type\":\"mesh3d\"}],\"parcoords\":[{\"line\":{\"colorbar\":{\"outlinewidth\":0,\"ticks\":\"\"}},\"type\":\"parcoords\"}],\"pie\":[{\"automargin\":true,\"type\":\"pie\"}],\"scatter\":[{\"marker\":{\"colorbar\":{\"outlinewidth\":0,\"ticks\":\"\"}},\"type\":\"scatter\"}],\"scatter3d\":[{\"line\":{\"colorbar\":{\"outlinewidth\":0,\"ticks\":\"\"}},\"marker\":{\"colorbar\":{\"outlinewidth\":0,\"ticks\":\"\"}},\"type\":\"scatter3d\"}],\"scattercarpet\":[{\"marker\":{\"colorbar\":{\"outlinewidth\":0,\"ticks\":\"\"}},\"type\":\"scattercarpet\"}],\"scattergeo\":[{\"marker\":{\"colorbar\":{\"outlinewidth\":0,\"ticks\":\"\"}},\"type\":\"scattergeo\"}],\"scattergl\":[{\"marker\":{\"colorbar\":{\"outlinewidth\":0,\"ticks\":\"\"}},\"type\":\"scattergl\"}],\"scattermapbox\":[{\"marker\":{\"colorbar\":{\"outlinewidth\":0,\"ticks\":\"\"}},\"type\":\"scattermapbox\"}],\"scatterpolar\":[{\"marker\":{\"colorbar\":{\"outlinewidth\":0,\"ticks\":\"\"}},\"type\":\"scatterpolar\"}],\"scatterpolargl\":[{\"marker\":{\"colorbar\":{\"outlinewidth\":0,\"ticks\":\"\"}},\"type\":\"scatterpolargl\"}],\"scatterternary\":[{\"marker\":{\"colorbar\":{\"outlinewidth\":0,\"ticks\":\"\"}},\"type\":\"scatterternary\"}],\"surface\":[{\"colorbar\":{\"outlinewidth\":0,\"ticks\":\"\"},\"colorscale\":[[0.0,\"#0d0887\"],[0.1111111111111111,\"#46039f\"],[0.2222222222222222,\"#7201a8\"],[0.3333333333333333,\"#9c179e\"],[0.4444444444444444,\"#bd3786\"],[0.5555555555555556,\"#d8576b\"],[0.6666666666666666,\"#ed7953\"],[0.7777777777777778,\"#fb9f3a\"],[0.8888888888888888,\"#fdca26\"],[1.0,\"#f0f921\"]],\"type\":\"surface\"}],\"table\":[{\"cells\":{\"fill\":{\"color\":\"#EBF0F8\"},\"line\":{\"color\":\"white\"}},\"header\":{\"fill\":{\"color\":\"#C8D4E3\"},\"line\":{\"color\":\"white\"}},\"type\":\"table\"}]},\"layout\":{\"annotationdefaults\":{\"arrowcolor\":\"#2a3f5f\",\"arrowhead\":0,\"arrowwidth\":1},\"autotypenumbers\":\"strict\",\"coloraxis\":{\"colorbar\":{\"outlinewidth\":0,\"ticks\":\"\"}},\"colorscale\":{\"diverging\":[[0,\"#8e0152\"],[0.1,\"#c51b7d\"],[0.2,\"#de77ae\"],[0.3,\"#f1b6da\"],[0.4,\"#fde0ef\"],[0.5,\"#f7f7f7\"],[0.6,\"#e6f5d0\"],[0.7,\"#b8e186\"],[0.8,\"#7fbc41\"],[0.9,\"#4d9221\"],[1,\"#276419\"]],\"sequential\":[[0.0,\"#0d0887\"],[0.1111111111111111,\"#46039f\"],[0.2222222222222222,\"#7201a8\"],[0.3333333333333333,\"#9c179e\"],[0.4444444444444444,\"#bd3786\"],[0.5555555555555556,\"#d8576b\"],[0.6666666666666666,\"#ed7953\"],[0.7777777777777778,\"#fb9f3a\"],[0.8888888888888888,\"#fdca26\"],[1.0,\"#f0f921\"]],\"sequentialminus\":[[0.0,\"#0d0887\"],[0.1111111111111111,\"#46039f\"],[0.2222222222222222,\"#7201a8\"],[0.3333333333333333,\"#9c179e\"],[0.4444444444444444,\"#bd3786\"],[0.5555555555555556,\"#d8576b\"],[0.6666666666666666,\"#ed7953\"],[0.7777777777777778,\"#fb9f3a\"],[0.8888888888888888,\"#fdca26\"],[1.0,\"#f0f921\"]]},\"colorway\":[\"#636efa\",\"#EF553B\",\"#00cc96\",\"#ab63fa\",\"#FFA15A\",\"#19d3f3\",\"#FF6692\",\"#B6E880\",\"#FF97FF\",\"#FECB52\"],\"font\":{\"color\":\"#2a3f5f\"},\"geo\":{\"bgcolor\":\"white\",\"lakecolor\":\"white\",\"landcolor\":\"#E5ECF6\",\"showlakes\":true,\"showland\":true,\"subunitcolor\":\"white\"},\"hoverlabel\":{\"align\":\"left\"},\"hovermode\":\"closest\",\"mapbox\":{\"style\":\"light\"},\"paper_bgcolor\":\"white\",\"plot_bgcolor\":\"#E5ECF6\",\"polar\":{\"angularaxis\":{\"gridcolor\":\"white\",\"linecolor\":\"white\",\"ticks\":\"\"},\"bgcolor\":\"#E5ECF6\",\"radialaxis\":{\"gridcolor\":\"white\",\"linecolor\":\"white\",\"ticks\":\"\"}},\"scene\":{\"xaxis\":{\"backgroundcolor\":\"#E5ECF6\",\"gridcolor\":\"white\",\"gridwidth\":2,\"linecolor\":\"white\",\"showbackground\":true,\"ticks\":\"\",\"zerolinecolor\":\"white\"},\"yaxis\":{\"backgroundcolor\":\"#E5ECF6\",\"gridcolor\":\"white\",\"gridwidth\":2,\"linecolor\":\"white\",\"showbackground\":true,\"ticks\":\"\",\"zerolinecolor\":\"white\"},\"zaxis\":{\"backgroundcolor\":\"#E5ECF6\",\"gridcolor\":\"white\",\"gridwidth\":2,\"linecolor\":\"white\",\"showbackground\":true,\"ticks\":\"\",\"zerolinecolor\":\"white\"}},\"shapedefaults\":{\"line\":{\"color\":\"#2a3f5f\"}},\"ternary\":{\"aaxis\":{\"gridcolor\":\"white\",\"linecolor\":\"white\",\"ticks\":\"\"},\"baxis\":{\"gridcolor\":\"white\",\"linecolor\":\"white\",\"ticks\":\"\"},\"bgcolor\":\"#E5ECF6\",\"caxis\":{\"gridcolor\":\"white\",\"linecolor\":\"white\",\"ticks\":\"\"}},\"title\":{\"x\":0.05},\"xaxis\":{\"automargin\":true,\"gridcolor\":\"white\",\"linecolor\":\"white\",\"ticks\":\"\",\"title\":{\"standoff\":15},\"zerolinecolor\":\"white\",\"zerolinewidth\":2},\"yaxis\":{\"automargin\":true,\"gridcolor\":\"white\",\"linecolor\":\"white\",\"ticks\":\"\",\"title\":{\"standoff\":15},\"zerolinecolor\":\"white\",\"zerolinewidth\":2}}},\"title\":{\"font\":{\"color\":\"white\"},\"text\":\"Credit Card Fraud\"},\"legend\":{\"title\":{\"font\":{\"color\":\"yellow\"}}},\"font\":{\"color\":\"white\"},\"paper_bgcolor\":\"black\",\"plot_bgcolor\":\"black\"},                        {\"responsive\": true}                    ).then(function(){\n",
       "                            \n",
       "var gd = document.getElementById('89fe01cf-d9dd-4c32-8c7c-265df94e0f2f');\n",
       "var x = new MutationObserver(function (mutations, observer) {{\n",
       "        var display = window.getComputedStyle(gd).display;\n",
       "        if (!display || display === 'none') {{\n",
       "            console.log([gd, 'removed!']);\n",
       "            Plotly.purge(gd);\n",
       "            observer.disconnect();\n",
       "        }}\n",
       "}});\n",
       "\n",
       "// Listen for the removal of the full notebook cells\n",
       "var notebookContainer = gd.closest('#notebook-container');\n",
       "if (notebookContainer) {{\n",
       "    x.observe(notebookContainer, {childList: true});\n",
       "}}\n",
       "\n",
       "// Listen for the clearing of the current output cell\n",
       "var outputEl = gd.closest('.output');\n",
       "if (outputEl) {{\n",
       "    x.observe(outputEl, {childList: true});\n",
       "}}\n",
       "\n",
       "                        })                };                });            </script>        </div>"
      ]
     },
     "metadata": {},
     "output_type": "display_data"
    }
   ],
   "source": [
    "# Plot the pie graph for depicting the imbalance in the data.\n",
    "import plotly.graph_objects as go\n",
    "colors = ['orange', 'white']\n",
    "labels = ['Legit', 'Fraud']\n",
    "values = train_data['is_fraud'].value_counts()/train_data['is_fraud'].shape[0]\n",
    "fig = go.Figure(data=[go.Pie(labels = labels,\n",
    "                           values = values, hole = .3)])\n",
    "fig.update_traces(hoverinfo='label+percent', textinfo='percent', textfont_size=20,\n",
    "                  marker=dict(colors=colors, line=dict(color='white', width=0.1)))\n",
    "fig.update_layout(\n",
    "    title_text=\"Credit Card Fraud\",\n",
    "    title_font_color=\"white\",\n",
    "    legend_title_font_color=\"yellow\",\n",
    "    paper_bgcolor=\"black\",\n",
    "    plot_bgcolor='black',\n",
    "    font_color=\"white\",\n",
    ")\n",
    "fig.show()"
   ]
  },
  {
   "cell_type": "code",
   "execution_count": 18,
   "id": "ad53f225",
   "metadata": {},
   "outputs": [],
   "source": [
    "# Separating the training data into the 2 class labels\n",
    "l_train_data = train_data[train_data.is_fraud == 0] # legitimate transactions\n",
    "f_train_data = train_data[train_data.is_fraud == 1] # fraudulent transactions"
   ]
  },
  {
   "cell_type": "code",
   "execution_count": 17,
   "id": "0b24bb63",
   "metadata": {},
   "outputs": [
    {
     "name": "stdout",
     "output_type": "stream",
     "text": [
      "<class 'pandas.core.frame.DataFrame'>\n",
      "Int64Index: 1289169 entries, 0 to 1296674\n",
      "Data columns (total 23 columns):\n",
      " #   Column                 Non-Null Count    Dtype  \n",
      "---  ------                 --------------    -----  \n",
      " 0   Unnamed: 0             1289169 non-null  int64  \n",
      " 1   trans_date_trans_time  1289169 non-null  object \n",
      " 2   cc_num                 1289169 non-null  int64  \n",
      " 3   merchant               1289169 non-null  object \n",
      " 4   category               1289169 non-null  object \n",
      " 5   amt                    1289169 non-null  float64\n",
      " 6   first                  1289169 non-null  object \n",
      " 7   last                   1289169 non-null  object \n",
      " 8   gender                 1289169 non-null  object \n",
      " 9   street                 1289169 non-null  object \n",
      " 10  city                   1289169 non-null  object \n",
      " 11  state                  1289169 non-null  object \n",
      " 12  zip                    1289169 non-null  int64  \n",
      " 13  lat                    1289169 non-null  float64\n",
      " 14  long                   1289169 non-null  float64\n",
      " 15  city_pop               1289169 non-null  int64  \n",
      " 16  job                    1289169 non-null  object \n",
      " 17  dob                    1289169 non-null  object \n",
      " 18  trans_num              1289169 non-null  object \n",
      " 19  unix_time              1289169 non-null  int64  \n",
      " 20  merch_lat              1289169 non-null  float64\n",
      " 21  merch_long             1289169 non-null  float64\n",
      " 22  is_fraud               1289169 non-null  int64  \n",
      "dtypes: float64(5), int64(6), object(12)\n",
      "memory usage: 236.1+ MB\n",
      "<class 'pandas.core.frame.DataFrame'>\n",
      "Int64Index: 7506 entries, 2449 to 1295733\n",
      "Data columns (total 23 columns):\n",
      " #   Column                 Non-Null Count  Dtype  \n",
      "---  ------                 --------------  -----  \n",
      " 0   Unnamed: 0             7506 non-null   int64  \n",
      " 1   trans_date_trans_time  7506 non-null   object \n",
      " 2   cc_num                 7506 non-null   int64  \n",
      " 3   merchant               7506 non-null   object \n",
      " 4   category               7506 non-null   object \n",
      " 5   amt                    7506 non-null   float64\n",
      " 6   first                  7506 non-null   object \n",
      " 7   last                   7506 non-null   object \n",
      " 8   gender                 7506 non-null   object \n",
      " 9   street                 7506 non-null   object \n",
      " 10  city                   7506 non-null   object \n",
      " 11  state                  7506 non-null   object \n",
      " 12  zip                    7506 non-null   int64  \n",
      " 13  lat                    7506 non-null   float64\n",
      " 14  long                   7506 non-null   float64\n",
      " 15  city_pop               7506 non-null   int64  \n",
      " 16  job                    7506 non-null   object \n",
      " 17  dob                    7506 non-null   object \n",
      " 18  trans_num              7506 non-null   object \n",
      " 19  unix_time              7506 non-null   int64  \n",
      " 20  merch_lat              7506 non-null   float64\n",
      " 21  merch_long             7506 non-null   float64\n",
      " 22  is_fraud               7506 non-null   int64  \n",
      "dtypes: float64(5), int64(6), object(12)\n",
      "memory usage: 1.4+ MB\n"
     ]
    }
   ],
   "source": [
    "# Getting the info of newly formed\n",
    "l_train_data.info()\n",
    "f_train_data.info()"
   ]
  },
  {
   "cell_type": "code",
   "execution_count": 20,
   "id": "0b569568",
   "metadata": {},
   "outputs": [
    {
     "name": "stdout",
     "output_type": "stream",
     "text": [
      "Duplicated values dropped successfully\n"
     ]
    }
   ],
   "source": [
    "train_data_copy = train_data.copy()\n",
    "train_data_copy.drop_duplicates(inplace=True)\n",
    "print(\"Duplicated values dropped successfully\")"
   ]
  },
  {
   "cell_type": "code",
   "execution_count": 21,
   "id": "69aea98c",
   "metadata": {},
   "outputs": [
    {
     "name": "stdout",
     "output_type": "stream",
     "text": [
      "<class 'pandas.core.frame.DataFrame'>\n",
      "Int64Index: 1296675 entries, 0 to 1296674\n",
      "Data columns (total 23 columns):\n",
      " #   Column                 Non-Null Count    Dtype  \n",
      "---  ------                 --------------    -----  \n",
      " 0   Unnamed: 0             1296675 non-null  int64  \n",
      " 1   trans_date_trans_time  1296675 non-null  object \n",
      " 2   cc_num                 1296675 non-null  int64  \n",
      " 3   merchant               1296675 non-null  object \n",
      " 4   category               1296675 non-null  object \n",
      " 5   amt                    1296675 non-null  float64\n",
      " 6   first                  1296675 non-null  object \n",
      " 7   last                   1296675 non-null  object \n",
      " 8   gender                 1296675 non-null  object \n",
      " 9   street                 1296675 non-null  object \n",
      " 10  city                   1296675 non-null  object \n",
      " 11  state                  1296675 non-null  object \n",
      " 12  zip                    1296675 non-null  int64  \n",
      " 13  lat                    1296675 non-null  float64\n",
      " 14  long                   1296675 non-null  float64\n",
      " 15  city_pop               1296675 non-null  int64  \n",
      " 16  job                    1296675 non-null  object \n",
      " 17  dob                    1296675 non-null  object \n",
      " 18  trans_num              1296675 non-null  object \n",
      " 19  unix_time              1296675 non-null  int64  \n",
      " 20  merch_lat              1296675 non-null  float64\n",
      " 21  merch_long             1296675 non-null  float64\n",
      " 22  is_fraud               1296675 non-null  int64  \n",
      "dtypes: float64(5), int64(6), object(12)\n",
      "memory usage: 237.4+ MB\n"
     ]
    }
   ],
   "source": [
    "train_data_copy.info()"
   ]
  },
  {
   "cell_type": "markdown",
   "id": "dc34dda4",
   "metadata": {},
   "source": [
    "There are no duplicates in this dataset."
   ]
  },
  {
   "cell_type": "code",
   "execution_count": 23,
   "id": "04b5c70e",
   "metadata": {},
   "outputs": [
    {
     "name": "stdout",
     "output_type": "stream",
     "text": [
      "[[0.0008135  0.00111051 0.00097478 ... 0.00075947 0.00096661 0.00105193]]\n"
     ]
    }
   ],
   "source": [
    "# Normalize a sample column merch_lat\n",
    "from sklearn import preprocessing\n",
    "merch_lat = train_data['merch_lat'].tolist()\n",
    "normalized_merch_lat = preprocessing.normalize([merch_lat])\n",
    "print(normalized_merch_lat)"
   ]
  },
  {
   "cell_type": "code",
   "execution_count": 24,
   "id": "54882a83",
   "metadata": {},
   "outputs": [
    {
     "data": {
      "text/plain": [
       "count    1.296675e+06\n",
       "mean     7.035104e+01\n",
       "std      1.603160e+02\n",
       "min      1.000000e+00\n",
       "25%      9.650000e+00\n",
       "50%      4.752000e+01\n",
       "75%      8.314000e+01\n",
       "max      2.894890e+04\n",
       "Name: amt, dtype: float64"
      ]
     },
     "execution_count": 24,
     "metadata": {},
     "output_type": "execute_result"
    }
   ],
   "source": [
    "train_data['amt'].describe()"
   ]
  },
  {
   "cell_type": "code",
   "execution_count": 26,
   "id": "7319aad6",
   "metadata": {},
   "outputs": [
    {
     "name": "stdout",
     "output_type": "stream",
     "text": [
      "Describe amount in legit dataframe\n"
     ]
    },
    {
     "data": {
      "text/plain": [
       "count    1.289169e+06\n",
       "mean     6.766711e+01\n",
       "std      1.540080e+02\n",
       "min      1.000000e+00\n",
       "25%      9.610000e+00\n",
       "50%      4.728000e+01\n",
       "75%      8.254000e+01\n",
       "max      2.894890e+04\n",
       "Name: amt, dtype: float64"
      ]
     },
     "execution_count": 26,
     "metadata": {},
     "output_type": "execute_result"
    }
   ],
   "source": [
    "print(\"Describe amount in legit dataframe\")\n",
    "l_train_data['amt'].describe()"
   ]
  },
  {
   "cell_type": "code",
   "execution_count": 27,
   "id": "9ad0cbbb",
   "metadata": {},
   "outputs": [
    {
     "name": "stdout",
     "output_type": "stream",
     "text": [
      "Describe amount in fraud dataframe\n"
     ]
    },
    {
     "data": {
      "text/plain": [
       "count    7506.000000\n",
       "mean      531.320092\n",
       "std       390.560070\n",
       "min         1.060000\n",
       "25%       245.662500\n",
       "50%       396.505000\n",
       "75%       900.875000\n",
       "max      1376.040000\n",
       "Name: amt, dtype: float64"
      ]
     },
     "execution_count": 27,
     "metadata": {},
     "output_type": "execute_result"
    }
   ],
   "source": [
    "print(\"Describe amount in fraud dataframe\")\n",
    "f_train_data['amt'].describe()"
   ]
  },
  {
   "cell_type": "code",
   "execution_count": 32,
   "id": "e0d42b78",
   "metadata": {},
   "outputs": [
    {
     "name": "stdout",
     "output_type": "stream",
     "text": [
      "(1289169, 23)\n",
      "(7506, 23)\n"
     ]
    }
   ],
   "source": [
    "print(l_train_data.shape)\n",
    "print(f_train_data.shape)"
   ]
  },
  {
   "cell_type": "markdown",
   "id": "dae27cf7",
   "metadata": {},
   "source": [
    "Under-sampling"
   ]
  },
  {
   "cell_type": "code",
   "execution_count": 33,
   "id": "ddcd7a4b",
   "metadata": {},
   "outputs": [],
   "source": [
    "l_train_data_sample = l_train_data.sample(7506)"
   ]
  },
  {
   "cell_type": "code",
   "execution_count": 34,
   "id": "5d06e389",
   "metadata": {},
   "outputs": [
    {
     "data": {
      "text/html": [
       "<div>\n",
       "<style scoped>\n",
       "    .dataframe tbody tr th:only-of-type {\n",
       "        vertical-align: middle;\n",
       "    }\n",
       "\n",
       "    .dataframe tbody tr th {\n",
       "        vertical-align: top;\n",
       "    }\n",
       "\n",
       "    .dataframe thead th {\n",
       "        text-align: right;\n",
       "    }\n",
       "</style>\n",
       "<table border=\"1\" class=\"dataframe\">\n",
       "  <thead>\n",
       "    <tr style=\"text-align: right;\">\n",
       "      <th></th>\n",
       "      <th>Unnamed: 0</th>\n",
       "      <th>trans_date_trans_time</th>\n",
       "      <th>cc_num</th>\n",
       "      <th>merchant</th>\n",
       "      <th>category</th>\n",
       "      <th>amt</th>\n",
       "      <th>first</th>\n",
       "      <th>last</th>\n",
       "      <th>gender</th>\n",
       "      <th>street</th>\n",
       "      <th>...</th>\n",
       "      <th>lat</th>\n",
       "      <th>long</th>\n",
       "      <th>city_pop</th>\n",
       "      <th>job</th>\n",
       "      <th>dob</th>\n",
       "      <th>trans_num</th>\n",
       "      <th>unix_time</th>\n",
       "      <th>merch_lat</th>\n",
       "      <th>merch_long</th>\n",
       "      <th>is_fraud</th>\n",
       "    </tr>\n",
       "  </thead>\n",
       "  <tbody>\n",
       "    <tr>\n",
       "      <th>70154</th>\n",
       "      <td>70154</td>\n",
       "      <td>2019-02-11 08:00:35</td>\n",
       "      <td>2286236465059468</td>\n",
       "      <td>fraud_Huel, Hammes and Witting</td>\n",
       "      <td>grocery_pos</td>\n",
       "      <td>149.61</td>\n",
       "      <td>Morgan</td>\n",
       "      <td>Murray</td>\n",
       "      <td>F</td>\n",
       "      <td>2788 Brittney Island</td>\n",
       "      <td>...</td>\n",
       "      <td>38.5319</td>\n",
       "      <td>-93.9221</td>\n",
       "      <td>467</td>\n",
       "      <td>Agricultural consultant</td>\n",
       "      <td>1950-05-27</td>\n",
       "      <td>c81c08727d3985cba9e0d9e31e22e8a5</td>\n",
       "      <td>1328947235</td>\n",
       "      <td>38.988585</td>\n",
       "      <td>-94.096963</td>\n",
       "      <td>0</td>\n",
       "    </tr>\n",
       "    <tr>\n",
       "      <th>720897</th>\n",
       "      <td>720897</td>\n",
       "      <td>2019-11-03 22:12:31</td>\n",
       "      <td>4509922033272157</td>\n",
       "      <td>fraud_Daugherty LLC</td>\n",
       "      <td>kids_pets</td>\n",
       "      <td>53.29</td>\n",
       "      <td>Monica</td>\n",
       "      <td>West</td>\n",
       "      <td>F</td>\n",
       "      <td>22084 Smith Roads Suite 776</td>\n",
       "      <td>...</td>\n",
       "      <td>43.2893</td>\n",
       "      <td>-97.1904</td>\n",
       "      <td>811</td>\n",
       "      <td>Neurosurgeon</td>\n",
       "      <td>1972-03-28</td>\n",
       "      <td>bd48c2966be9f5b4110e9f7f99332be3</td>\n",
       "      <td>1351980751</td>\n",
       "      <td>43.103151</td>\n",
       "      <td>-97.929334</td>\n",
       "      <td>0</td>\n",
       "    </tr>\n",
       "    <tr>\n",
       "      <th>944693</th>\n",
       "      <td>944693</td>\n",
       "      <td>2020-01-12 18:13:53</td>\n",
       "      <td>3575540972310993</td>\n",
       "      <td>fraud_Abshire PLC</td>\n",
       "      <td>entertainment</td>\n",
       "      <td>118.82</td>\n",
       "      <td>Rachel</td>\n",
       "      <td>Villarreal</td>\n",
       "      <td>F</td>\n",
       "      <td>250 Carrie Throughway</td>\n",
       "      <td>...</td>\n",
       "      <td>34.3396</td>\n",
       "      <td>-89.5736</td>\n",
       "      <td>4198</td>\n",
       "      <td>Curator</td>\n",
       "      <td>2001-06-22</td>\n",
       "      <td>8d16322bbd07068d6e31b27e7a8d7829</td>\n",
       "      <td>1358014433</td>\n",
       "      <td>33.822330</td>\n",
       "      <td>-89.406917</td>\n",
       "      <td>0</td>\n",
       "    </tr>\n",
       "    <tr>\n",
       "      <th>711925</th>\n",
       "      <td>711925</td>\n",
       "      <td>2019-10-31 06:58:33</td>\n",
       "      <td>2266735643685262</td>\n",
       "      <td>fraud_O'Keefe-Hudson</td>\n",
       "      <td>grocery_pos</td>\n",
       "      <td>28.57</td>\n",
       "      <td>Carlos</td>\n",
       "      <td>Chung</td>\n",
       "      <td>M</td>\n",
       "      <td>8957 Russell Key</td>\n",
       "      <td>...</td>\n",
       "      <td>34.4959</td>\n",
       "      <td>-86.2590</td>\n",
       "      <td>5901</td>\n",
       "      <td>Curator</td>\n",
       "      <td>1972-07-25</td>\n",
       "      <td>acd9d2c71ea65bebb38d7cbdf9751469</td>\n",
       "      <td>1351666713</td>\n",
       "      <td>35.212151</td>\n",
       "      <td>-86.316608</td>\n",
       "      <td>0</td>\n",
       "    </tr>\n",
       "    <tr>\n",
       "      <th>997995</th>\n",
       "      <td>997995</td>\n",
       "      <td>2020-02-12 22:42:13</td>\n",
       "      <td>36485887555770</td>\n",
       "      <td>fraud_Brown PLC</td>\n",
       "      <td>misc_net</td>\n",
       "      <td>69.14</td>\n",
       "      <td>Michael</td>\n",
       "      <td>Gross</td>\n",
       "      <td>M</td>\n",
       "      <td>230 Ryan Tunnel Apt. 025</td>\n",
       "      <td>...</td>\n",
       "      <td>40.4971</td>\n",
       "      <td>-82.8342</td>\n",
       "      <td>267</td>\n",
       "      <td>Facilities manager</td>\n",
       "      <td>2005-01-29</td>\n",
       "      <td>f6113959b7113fd2a5a188ecfb4797b5</td>\n",
       "      <td>1360708933</td>\n",
       "      <td>39.844280</td>\n",
       "      <td>-81.975934</td>\n",
       "      <td>0</td>\n",
       "    </tr>\n",
       "  </tbody>\n",
       "</table>\n",
       "<p>5 rows × 23 columns</p>\n",
       "</div>"
      ],
      "text/plain": [
       "        Unnamed: 0 trans_date_trans_time            cc_num  \\\n",
       "70154        70154   2019-02-11 08:00:35  2286236465059468   \n",
       "720897      720897   2019-11-03 22:12:31  4509922033272157   \n",
       "944693      944693   2020-01-12 18:13:53  3575540972310993   \n",
       "711925      711925   2019-10-31 06:58:33  2266735643685262   \n",
       "997995      997995   2020-02-12 22:42:13    36485887555770   \n",
       "\n",
       "                              merchant       category     amt    first  \\\n",
       "70154   fraud_Huel, Hammes and Witting    grocery_pos  149.61   Morgan   \n",
       "720897             fraud_Daugherty LLC      kids_pets   53.29   Monica   \n",
       "944693               fraud_Abshire PLC  entertainment  118.82   Rachel   \n",
       "711925            fraud_O'Keefe-Hudson    grocery_pos   28.57   Carlos   \n",
       "997995                 fraud_Brown PLC       misc_net   69.14  Michael   \n",
       "\n",
       "              last gender                       street  ...      lat     long  \\\n",
       "70154       Murray      F         2788 Brittney Island  ...  38.5319 -93.9221   \n",
       "720897        West      F  22084 Smith Roads Suite 776  ...  43.2893 -97.1904   \n",
       "944693  Villarreal      F        250 Carrie Throughway  ...  34.3396 -89.5736   \n",
       "711925       Chung      M             8957 Russell Key  ...  34.4959 -86.2590   \n",
       "997995       Gross      M     230 Ryan Tunnel Apt. 025  ...  40.4971 -82.8342   \n",
       "\n",
       "        city_pop                      job         dob  \\\n",
       "70154        467  Agricultural consultant  1950-05-27   \n",
       "720897       811             Neurosurgeon  1972-03-28   \n",
       "944693      4198                  Curator  2001-06-22   \n",
       "711925      5901                  Curator  1972-07-25   \n",
       "997995       267       Facilities manager  2005-01-29   \n",
       "\n",
       "                               trans_num   unix_time  merch_lat merch_long  \\\n",
       "70154   c81c08727d3985cba9e0d9e31e22e8a5  1328947235  38.988585 -94.096963   \n",
       "720897  bd48c2966be9f5b4110e9f7f99332be3  1351980751  43.103151 -97.929334   \n",
       "944693  8d16322bbd07068d6e31b27e7a8d7829  1358014433  33.822330 -89.406917   \n",
       "711925  acd9d2c71ea65bebb38d7cbdf9751469  1351666713  35.212151 -86.316608   \n",
       "997995  f6113959b7113fd2a5a188ecfb4797b5  1360708933  39.844280 -81.975934   \n",
       "\n",
       "        is_fraud  \n",
       "70154          0  \n",
       "720897         0  \n",
       "944693         0  \n",
       "711925         0  \n",
       "997995         0  \n",
       "\n",
       "[5 rows x 23 columns]"
      ]
     },
     "execution_count": 34,
     "metadata": {},
     "output_type": "execute_result"
    }
   ],
   "source": [
    "l_train_data_sample.head()"
   ]
  },
  {
   "cell_type": "code",
   "execution_count": 35,
   "id": "82ed9c73",
   "metadata": {},
   "outputs": [
    {
     "name": "stdout",
     "output_type": "stream",
     "text": [
      "(7506, 23)\n"
     ]
    }
   ],
   "source": [
    "print(l_train_data_sample.shape)"
   ]
  },
  {
   "cell_type": "code",
   "execution_count": 36,
   "id": "bda1d743",
   "metadata": {},
   "outputs": [],
   "source": [
    "# Concatenating both the datasets to form a new dataset by rows (i.e. axis=0. If we want to concatenate by columns, axis=1)\n",
    "sample_train_data = pd.concat([l_train_data_sample, f_train_data], axis=0)"
   ]
  },
  {
   "cell_type": "code",
   "execution_count": 38,
   "id": "94a5fcd0",
   "metadata": {},
   "outputs": [
    {
     "data": {
      "text/plain": [
       "0    7506\n",
       "1    7506\n",
       "Name: is_fraud, dtype: int64"
      ]
     },
     "execution_count": 38,
     "metadata": {},
     "output_type": "execute_result"
    }
   ],
   "source": [
    "sample_train_data['is_fraud'].value_counts()"
   ]
  },
  {
   "cell_type": "code",
   "execution_count": 39,
   "id": "35284b7d",
   "metadata": {},
   "outputs": [
    {
     "data": {
      "text/html": [
       "<div>\n",
       "<style scoped>\n",
       "    .dataframe tbody tr th:only-of-type {\n",
       "        vertical-align: middle;\n",
       "    }\n",
       "\n",
       "    .dataframe tbody tr th {\n",
       "        vertical-align: top;\n",
       "    }\n",
       "\n",
       "    .dataframe thead th {\n",
       "        text-align: right;\n",
       "    }\n",
       "</style>\n",
       "<table border=\"1\" class=\"dataframe\">\n",
       "  <thead>\n",
       "    <tr style=\"text-align: right;\">\n",
       "      <th></th>\n",
       "      <th>Unnamed: 0</th>\n",
       "      <th>trans_date_trans_time</th>\n",
       "      <th>cc_num</th>\n",
       "      <th>merchant</th>\n",
       "      <th>category</th>\n",
       "      <th>amt</th>\n",
       "      <th>first</th>\n",
       "      <th>last</th>\n",
       "      <th>gender</th>\n",
       "      <th>street</th>\n",
       "      <th>...</th>\n",
       "      <th>lat</th>\n",
       "      <th>long</th>\n",
       "      <th>city_pop</th>\n",
       "      <th>job</th>\n",
       "      <th>dob</th>\n",
       "      <th>trans_num</th>\n",
       "      <th>unix_time</th>\n",
       "      <th>merch_lat</th>\n",
       "      <th>merch_long</th>\n",
       "      <th>is_fraud</th>\n",
       "    </tr>\n",
       "  </thead>\n",
       "  <tbody>\n",
       "    <tr>\n",
       "      <th>70154</th>\n",
       "      <td>70154</td>\n",
       "      <td>2019-02-11 08:00:35</td>\n",
       "      <td>2286236465059468</td>\n",
       "      <td>fraud_Huel, Hammes and Witting</td>\n",
       "      <td>grocery_pos</td>\n",
       "      <td>149.61</td>\n",
       "      <td>Morgan</td>\n",
       "      <td>Murray</td>\n",
       "      <td>F</td>\n",
       "      <td>2788 Brittney Island</td>\n",
       "      <td>...</td>\n",
       "      <td>38.5319</td>\n",
       "      <td>-93.9221</td>\n",
       "      <td>467</td>\n",
       "      <td>Agricultural consultant</td>\n",
       "      <td>1950-05-27</td>\n",
       "      <td>c81c08727d3985cba9e0d9e31e22e8a5</td>\n",
       "      <td>1328947235</td>\n",
       "      <td>38.988585</td>\n",
       "      <td>-94.096963</td>\n",
       "      <td>0</td>\n",
       "    </tr>\n",
       "    <tr>\n",
       "      <th>720897</th>\n",
       "      <td>720897</td>\n",
       "      <td>2019-11-03 22:12:31</td>\n",
       "      <td>4509922033272157</td>\n",
       "      <td>fraud_Daugherty LLC</td>\n",
       "      <td>kids_pets</td>\n",
       "      <td>53.29</td>\n",
       "      <td>Monica</td>\n",
       "      <td>West</td>\n",
       "      <td>F</td>\n",
       "      <td>22084 Smith Roads Suite 776</td>\n",
       "      <td>...</td>\n",
       "      <td>43.2893</td>\n",
       "      <td>-97.1904</td>\n",
       "      <td>811</td>\n",
       "      <td>Neurosurgeon</td>\n",
       "      <td>1972-03-28</td>\n",
       "      <td>bd48c2966be9f5b4110e9f7f99332be3</td>\n",
       "      <td>1351980751</td>\n",
       "      <td>43.103151</td>\n",
       "      <td>-97.929334</td>\n",
       "      <td>0</td>\n",
       "    </tr>\n",
       "    <tr>\n",
       "      <th>944693</th>\n",
       "      <td>944693</td>\n",
       "      <td>2020-01-12 18:13:53</td>\n",
       "      <td>3575540972310993</td>\n",
       "      <td>fraud_Abshire PLC</td>\n",
       "      <td>entertainment</td>\n",
       "      <td>118.82</td>\n",
       "      <td>Rachel</td>\n",
       "      <td>Villarreal</td>\n",
       "      <td>F</td>\n",
       "      <td>250 Carrie Throughway</td>\n",
       "      <td>...</td>\n",
       "      <td>34.3396</td>\n",
       "      <td>-89.5736</td>\n",
       "      <td>4198</td>\n",
       "      <td>Curator</td>\n",
       "      <td>2001-06-22</td>\n",
       "      <td>8d16322bbd07068d6e31b27e7a8d7829</td>\n",
       "      <td>1358014433</td>\n",
       "      <td>33.822330</td>\n",
       "      <td>-89.406917</td>\n",
       "      <td>0</td>\n",
       "    </tr>\n",
       "    <tr>\n",
       "      <th>711925</th>\n",
       "      <td>711925</td>\n",
       "      <td>2019-10-31 06:58:33</td>\n",
       "      <td>2266735643685262</td>\n",
       "      <td>fraud_O'Keefe-Hudson</td>\n",
       "      <td>grocery_pos</td>\n",
       "      <td>28.57</td>\n",
       "      <td>Carlos</td>\n",
       "      <td>Chung</td>\n",
       "      <td>M</td>\n",
       "      <td>8957 Russell Key</td>\n",
       "      <td>...</td>\n",
       "      <td>34.4959</td>\n",
       "      <td>-86.2590</td>\n",
       "      <td>5901</td>\n",
       "      <td>Curator</td>\n",
       "      <td>1972-07-25</td>\n",
       "      <td>acd9d2c71ea65bebb38d7cbdf9751469</td>\n",
       "      <td>1351666713</td>\n",
       "      <td>35.212151</td>\n",
       "      <td>-86.316608</td>\n",
       "      <td>0</td>\n",
       "    </tr>\n",
       "    <tr>\n",
       "      <th>997995</th>\n",
       "      <td>997995</td>\n",
       "      <td>2020-02-12 22:42:13</td>\n",
       "      <td>36485887555770</td>\n",
       "      <td>fraud_Brown PLC</td>\n",
       "      <td>misc_net</td>\n",
       "      <td>69.14</td>\n",
       "      <td>Michael</td>\n",
       "      <td>Gross</td>\n",
       "      <td>M</td>\n",
       "      <td>230 Ryan Tunnel Apt. 025</td>\n",
       "      <td>...</td>\n",
       "      <td>40.4971</td>\n",
       "      <td>-82.8342</td>\n",
       "      <td>267</td>\n",
       "      <td>Facilities manager</td>\n",
       "      <td>2005-01-29</td>\n",
       "      <td>f6113959b7113fd2a5a188ecfb4797b5</td>\n",
       "      <td>1360708933</td>\n",
       "      <td>39.844280</td>\n",
       "      <td>-81.975934</td>\n",
       "      <td>0</td>\n",
       "    </tr>\n",
       "  </tbody>\n",
       "</table>\n",
       "<p>5 rows × 23 columns</p>\n",
       "</div>"
      ],
      "text/plain": [
       "        Unnamed: 0 trans_date_trans_time            cc_num  \\\n",
       "70154        70154   2019-02-11 08:00:35  2286236465059468   \n",
       "720897      720897   2019-11-03 22:12:31  4509922033272157   \n",
       "944693      944693   2020-01-12 18:13:53  3575540972310993   \n",
       "711925      711925   2019-10-31 06:58:33  2266735643685262   \n",
       "997995      997995   2020-02-12 22:42:13    36485887555770   \n",
       "\n",
       "                              merchant       category     amt    first  \\\n",
       "70154   fraud_Huel, Hammes and Witting    grocery_pos  149.61   Morgan   \n",
       "720897             fraud_Daugherty LLC      kids_pets   53.29   Monica   \n",
       "944693               fraud_Abshire PLC  entertainment  118.82   Rachel   \n",
       "711925            fraud_O'Keefe-Hudson    grocery_pos   28.57   Carlos   \n",
       "997995                 fraud_Brown PLC       misc_net   69.14  Michael   \n",
       "\n",
       "              last gender                       street  ...      lat     long  \\\n",
       "70154       Murray      F         2788 Brittney Island  ...  38.5319 -93.9221   \n",
       "720897        West      F  22084 Smith Roads Suite 776  ...  43.2893 -97.1904   \n",
       "944693  Villarreal      F        250 Carrie Throughway  ...  34.3396 -89.5736   \n",
       "711925       Chung      M             8957 Russell Key  ...  34.4959 -86.2590   \n",
       "997995       Gross      M     230 Ryan Tunnel Apt. 025  ...  40.4971 -82.8342   \n",
       "\n",
       "        city_pop                      job         dob  \\\n",
       "70154        467  Agricultural consultant  1950-05-27   \n",
       "720897       811             Neurosurgeon  1972-03-28   \n",
       "944693      4198                  Curator  2001-06-22   \n",
       "711925      5901                  Curator  1972-07-25   \n",
       "997995       267       Facilities manager  2005-01-29   \n",
       "\n",
       "                               trans_num   unix_time  merch_lat merch_long  \\\n",
       "70154   c81c08727d3985cba9e0d9e31e22e8a5  1328947235  38.988585 -94.096963   \n",
       "720897  bd48c2966be9f5b4110e9f7f99332be3  1351980751  43.103151 -97.929334   \n",
       "944693  8d16322bbd07068d6e31b27e7a8d7829  1358014433  33.822330 -89.406917   \n",
       "711925  acd9d2c71ea65bebb38d7cbdf9751469  1351666713  35.212151 -86.316608   \n",
       "997995  f6113959b7113fd2a5a188ecfb4797b5  1360708933  39.844280 -81.975934   \n",
       "\n",
       "        is_fraud  \n",
       "70154          0  \n",
       "720897         0  \n",
       "944693         0  \n",
       "711925         0  \n",
       "997995         0  \n",
       "\n",
       "[5 rows x 23 columns]"
      ]
     },
     "execution_count": 39,
     "metadata": {},
     "output_type": "execute_result"
    }
   ],
   "source": [
    "sample_train_data.head()"
   ]
  },
  {
   "cell_type": "code",
   "execution_count": 41,
   "id": "9482c168",
   "metadata": {},
   "outputs": [],
   "source": [
    "sample_train_data['trans_date_trans_time'] = pd.to_datetime(sample_train_data['trans_date_trans_time'])\n",
    "sample_train_data['trans_date'] = sample_train_data['trans_date_trans_time'].dt.strftime('%Y-%m-%d')\n",
    "sample_train_data['trans_date']=pd.to_datetime(sample_train_data['trans_date'])\n",
    "\n",
    "sample_train_data['dob'] = pd.to_datetime(sample_train_data['dob'])"
   ]
  },
  {
   "cell_type": "code",
   "execution_count": 42,
   "id": "1aa9340c",
   "metadata": {},
   "outputs": [
    {
     "data": {
      "text/html": [
       "<div>\n",
       "<style scoped>\n",
       "    .dataframe tbody tr th:only-of-type {\n",
       "        vertical-align: middle;\n",
       "    }\n",
       "\n",
       "    .dataframe tbody tr th {\n",
       "        vertical-align: top;\n",
       "    }\n",
       "\n",
       "    .dataframe thead th {\n",
       "        text-align: right;\n",
       "    }\n",
       "</style>\n",
       "<table border=\"1\" class=\"dataframe\">\n",
       "  <thead>\n",
       "    <tr style=\"text-align: right;\">\n",
       "      <th></th>\n",
       "      <th>Unnamed: 0</th>\n",
       "      <th>trans_date_trans_time</th>\n",
       "      <th>cc_num</th>\n",
       "      <th>merchant</th>\n",
       "      <th>category</th>\n",
       "      <th>amt</th>\n",
       "      <th>first</th>\n",
       "      <th>last</th>\n",
       "      <th>gender</th>\n",
       "      <th>street</th>\n",
       "      <th>...</th>\n",
       "      <th>long</th>\n",
       "      <th>city_pop</th>\n",
       "      <th>job</th>\n",
       "      <th>dob</th>\n",
       "      <th>trans_num</th>\n",
       "      <th>unix_time</th>\n",
       "      <th>merch_lat</th>\n",
       "      <th>merch_long</th>\n",
       "      <th>is_fraud</th>\n",
       "      <th>trans_date</th>\n",
       "    </tr>\n",
       "  </thead>\n",
       "  <tbody>\n",
       "    <tr>\n",
       "      <th>70154</th>\n",
       "      <td>70154</td>\n",
       "      <td>2019-02-11 08:00:35</td>\n",
       "      <td>2286236465059468</td>\n",
       "      <td>fraud_Huel, Hammes and Witting</td>\n",
       "      <td>grocery_pos</td>\n",
       "      <td>149.61</td>\n",
       "      <td>Morgan</td>\n",
       "      <td>Murray</td>\n",
       "      <td>F</td>\n",
       "      <td>2788 Brittney Island</td>\n",
       "      <td>...</td>\n",
       "      <td>-93.9221</td>\n",
       "      <td>467</td>\n",
       "      <td>Agricultural consultant</td>\n",
       "      <td>1950-05-27</td>\n",
       "      <td>c81c08727d3985cba9e0d9e31e22e8a5</td>\n",
       "      <td>1328947235</td>\n",
       "      <td>38.988585</td>\n",
       "      <td>-94.096963</td>\n",
       "      <td>0</td>\n",
       "      <td>2019-02-11</td>\n",
       "    </tr>\n",
       "    <tr>\n",
       "      <th>720897</th>\n",
       "      <td>720897</td>\n",
       "      <td>2019-11-03 22:12:31</td>\n",
       "      <td>4509922033272157</td>\n",
       "      <td>fraud_Daugherty LLC</td>\n",
       "      <td>kids_pets</td>\n",
       "      <td>53.29</td>\n",
       "      <td>Monica</td>\n",
       "      <td>West</td>\n",
       "      <td>F</td>\n",
       "      <td>22084 Smith Roads Suite 776</td>\n",
       "      <td>...</td>\n",
       "      <td>-97.1904</td>\n",
       "      <td>811</td>\n",
       "      <td>Neurosurgeon</td>\n",
       "      <td>1972-03-28</td>\n",
       "      <td>bd48c2966be9f5b4110e9f7f99332be3</td>\n",
       "      <td>1351980751</td>\n",
       "      <td>43.103151</td>\n",
       "      <td>-97.929334</td>\n",
       "      <td>0</td>\n",
       "      <td>2019-11-03</td>\n",
       "    </tr>\n",
       "    <tr>\n",
       "      <th>944693</th>\n",
       "      <td>944693</td>\n",
       "      <td>2020-01-12 18:13:53</td>\n",
       "      <td>3575540972310993</td>\n",
       "      <td>fraud_Abshire PLC</td>\n",
       "      <td>entertainment</td>\n",
       "      <td>118.82</td>\n",
       "      <td>Rachel</td>\n",
       "      <td>Villarreal</td>\n",
       "      <td>F</td>\n",
       "      <td>250 Carrie Throughway</td>\n",
       "      <td>...</td>\n",
       "      <td>-89.5736</td>\n",
       "      <td>4198</td>\n",
       "      <td>Curator</td>\n",
       "      <td>2001-06-22</td>\n",
       "      <td>8d16322bbd07068d6e31b27e7a8d7829</td>\n",
       "      <td>1358014433</td>\n",
       "      <td>33.822330</td>\n",
       "      <td>-89.406917</td>\n",
       "      <td>0</td>\n",
       "      <td>2020-01-12</td>\n",
       "    </tr>\n",
       "    <tr>\n",
       "      <th>711925</th>\n",
       "      <td>711925</td>\n",
       "      <td>2019-10-31 06:58:33</td>\n",
       "      <td>2266735643685262</td>\n",
       "      <td>fraud_O'Keefe-Hudson</td>\n",
       "      <td>grocery_pos</td>\n",
       "      <td>28.57</td>\n",
       "      <td>Carlos</td>\n",
       "      <td>Chung</td>\n",
       "      <td>M</td>\n",
       "      <td>8957 Russell Key</td>\n",
       "      <td>...</td>\n",
       "      <td>-86.2590</td>\n",
       "      <td>5901</td>\n",
       "      <td>Curator</td>\n",
       "      <td>1972-07-25</td>\n",
       "      <td>acd9d2c71ea65bebb38d7cbdf9751469</td>\n",
       "      <td>1351666713</td>\n",
       "      <td>35.212151</td>\n",
       "      <td>-86.316608</td>\n",
       "      <td>0</td>\n",
       "      <td>2019-10-31</td>\n",
       "    </tr>\n",
       "    <tr>\n",
       "      <th>997995</th>\n",
       "      <td>997995</td>\n",
       "      <td>2020-02-12 22:42:13</td>\n",
       "      <td>36485887555770</td>\n",
       "      <td>fraud_Brown PLC</td>\n",
       "      <td>misc_net</td>\n",
       "      <td>69.14</td>\n",
       "      <td>Michael</td>\n",
       "      <td>Gross</td>\n",
       "      <td>M</td>\n",
       "      <td>230 Ryan Tunnel Apt. 025</td>\n",
       "      <td>...</td>\n",
       "      <td>-82.8342</td>\n",
       "      <td>267</td>\n",
       "      <td>Facilities manager</td>\n",
       "      <td>2005-01-29</td>\n",
       "      <td>f6113959b7113fd2a5a188ecfb4797b5</td>\n",
       "      <td>1360708933</td>\n",
       "      <td>39.844280</td>\n",
       "      <td>-81.975934</td>\n",
       "      <td>0</td>\n",
       "      <td>2020-02-12</td>\n",
       "    </tr>\n",
       "  </tbody>\n",
       "</table>\n",
       "<p>5 rows × 24 columns</p>\n",
       "</div>"
      ],
      "text/plain": [
       "        Unnamed: 0 trans_date_trans_time            cc_num  \\\n",
       "70154        70154   2019-02-11 08:00:35  2286236465059468   \n",
       "720897      720897   2019-11-03 22:12:31  4509922033272157   \n",
       "944693      944693   2020-01-12 18:13:53  3575540972310993   \n",
       "711925      711925   2019-10-31 06:58:33  2266735643685262   \n",
       "997995      997995   2020-02-12 22:42:13    36485887555770   \n",
       "\n",
       "                              merchant       category     amt    first  \\\n",
       "70154   fraud_Huel, Hammes and Witting    grocery_pos  149.61   Morgan   \n",
       "720897             fraud_Daugherty LLC      kids_pets   53.29   Monica   \n",
       "944693               fraud_Abshire PLC  entertainment  118.82   Rachel   \n",
       "711925            fraud_O'Keefe-Hudson    grocery_pos   28.57   Carlos   \n",
       "997995                 fraud_Brown PLC       misc_net   69.14  Michael   \n",
       "\n",
       "              last gender                       street  ...     long city_pop  \\\n",
       "70154       Murray      F         2788 Brittney Island  ... -93.9221      467   \n",
       "720897        West      F  22084 Smith Roads Suite 776  ... -97.1904      811   \n",
       "944693  Villarreal      F        250 Carrie Throughway  ... -89.5736     4198   \n",
       "711925       Chung      M             8957 Russell Key  ... -86.2590     5901   \n",
       "997995       Gross      M     230 Ryan Tunnel Apt. 025  ... -82.8342      267   \n",
       "\n",
       "                            job        dob                         trans_num  \\\n",
       "70154   Agricultural consultant 1950-05-27  c81c08727d3985cba9e0d9e31e22e8a5   \n",
       "720897             Neurosurgeon 1972-03-28  bd48c2966be9f5b4110e9f7f99332be3   \n",
       "944693                  Curator 2001-06-22  8d16322bbd07068d6e31b27e7a8d7829   \n",
       "711925                  Curator 1972-07-25  acd9d2c71ea65bebb38d7cbdf9751469   \n",
       "997995       Facilities manager 2005-01-29  f6113959b7113fd2a5a188ecfb4797b5   \n",
       "\n",
       "         unix_time  merch_lat merch_long is_fraud  trans_date  \n",
       "70154   1328947235  38.988585 -94.096963        0  2019-02-11  \n",
       "720897  1351980751  43.103151 -97.929334        0  2019-11-03  \n",
       "944693  1358014433  33.822330 -89.406917        0  2020-01-12  \n",
       "711925  1351666713  35.212151 -86.316608        0  2019-10-31  \n",
       "997995  1360708933  39.844280 -81.975934        0  2020-02-12  \n",
       "\n",
       "[5 rows x 24 columns]"
      ]
     },
     "execution_count": 42,
     "metadata": {},
     "output_type": "execute_result"
    }
   ],
   "source": [
    "sample_train_data.head()"
   ]
  },
  {
   "cell_type": "code",
   "execution_count": 43,
   "id": "da529a82",
   "metadata": {},
   "outputs": [
    {
     "data": {
      "text/plain": [
       "70154      68.0\n",
       "720897     47.0\n",
       "944693     18.0\n",
       "711925     47.0\n",
       "997995     15.0\n",
       "           ... \n",
       "1295399    34.0\n",
       "1295491    34.0\n",
       "1295532    26.0\n",
       "1295666    50.0\n",
       "1295733    26.0\n",
       "Name: age, Length: 15012, dtype: float64"
      ]
     },
     "execution_count": 43,
     "metadata": {},
     "output_type": "execute_result"
    }
   ],
   "source": [
    "# Age\n",
    "sample_train_data['age'] = sample_train_data['trans_date']-sample_train_data['dob']\n",
    "sample_train_data['age'] = sample_train_data['age'].astype('timedelta64[Y]')\n",
    "\n",
    "sample_train_data['age']"
   ]
  },
  {
   "cell_type": "code",
   "execution_count": 44,
   "id": "b6296de1",
   "metadata": {},
   "outputs": [
    {
     "data": {
      "text/plain": [
       "(70154       2\n",
       " 720897     11\n",
       " 944693      1\n",
       " 711925     10\n",
       " 997995      2\n",
       "            ..\n",
       " 1295399     6\n",
       " 1295491     6\n",
       " 1295532     6\n",
       " 1295666     6\n",
       " 1295733     6\n",
       " Name: trans_month, Length: 15012, dtype: int64,\n",
       " 70154      2019\n",
       " 720897     2019\n",
       " 944693     2020\n",
       " 711925     2019\n",
       " 997995     2020\n",
       "            ... \n",
       " 1295399    2020\n",
       " 1295491    2020\n",
       " 1295532    2020\n",
       " 1295666    2020\n",
       " 1295733    2020\n",
       " Name: trans_year, Length: 15012, dtype: int64)"
      ]
     },
     "execution_count": 44,
     "metadata": {},
     "output_type": "execute_result"
    }
   ],
   "source": [
    "# Transaction month & year\n",
    "sample_train_data['trans_month'] = pd.DatetimeIndex(sample_train_data['trans_date']).month\n",
    "sample_train_data['trans_year'] = pd.DatetimeIndex(sample_train_data['trans_date']).year\n",
    "\n",
    "sample_train_data['trans_month'],sample_train_data['trans_year']"
   ]
  },
  {
   "cell_type": "code",
   "execution_count": 45,
   "id": "415c29d7",
   "metadata": {},
   "outputs": [
    {
     "data": {
      "text/plain": [
       "70154      0.175\n",
       "720897     0.739\n",
       "944693     0.167\n",
       "711925     0.058\n",
       "997995     0.858\n",
       "           ...  \n",
       "1295399    0.431\n",
       "1295491    0.547\n",
       "1295532    0.459\n",
       "1295666    0.744\n",
       "1295733    0.970\n",
       "Name: longitudinal_distance, Length: 15012, dtype: float64"
      ]
     },
     "execution_count": 45,
     "metadata": {},
     "output_type": "execute_result"
    }
   ],
   "source": [
    "# Distance between merchant and home\n",
    "sample_train_data['latitudinal_distance'] = abs(round(sample_train_data['merch_lat']-sample_train_data['lat'],3))\n",
    "sample_train_data['longitudinal_distance'] = abs(round(sample_train_data['merch_long']-sample_train_data['long'],3))\n",
    "\n",
    "sample_train_data['latitudinal_distance'] \n",
    "sample_train_data['longitudinal_distance']"
   ]
  },
  {
   "cell_type": "code",
   "execution_count": 46,
   "id": "900c851f",
   "metadata": {},
   "outputs": [],
   "source": [
    "# Convert gender to a numerical column\n",
    "sample_train_data.gender=sample_train_data.gender.apply(lambda x: 1 if x==\"M\" else 0)"
   ]
  },
  {
   "cell_type": "code",
   "execution_count": 47,
   "id": "8843cf1a",
   "metadata": {},
   "outputs": [
    {
     "data": {
      "text/plain": [
       "70154      0\n",
       "720897     0\n",
       "944693     0\n",
       "711925     1\n",
       "997995     1\n",
       "          ..\n",
       "1295399    0\n",
       "1295491    0\n",
       "1295532    1\n",
       "1295666    0\n",
       "1295733    1\n",
       "Name: gender, Length: 15012, dtype: int64"
      ]
     },
     "execution_count": 47,
     "metadata": {},
     "output_type": "execute_result"
    }
   ],
   "source": [
    "sample_train_data.gender"
   ]
  },
  {
   "cell_type": "code",
   "execution_count": 48,
   "id": "5ead9487",
   "metadata": {},
   "outputs": [
    {
     "data": {
      "text/html": [
       "<div>\n",
       "<style scoped>\n",
       "    .dataframe tbody tr th:only-of-type {\n",
       "        vertical-align: middle;\n",
       "    }\n",
       "\n",
       "    .dataframe tbody tr th {\n",
       "        vertical-align: top;\n",
       "    }\n",
       "\n",
       "    .dataframe thead th {\n",
       "        text-align: right;\n",
       "    }\n",
       "</style>\n",
       "<table border=\"1\" class=\"dataframe\">\n",
       "  <thead>\n",
       "    <tr style=\"text-align: right;\">\n",
       "      <th></th>\n",
       "      <th>Unnamed: 0</th>\n",
       "      <th>trans_date_trans_time</th>\n",
       "      <th>cc_num</th>\n",
       "      <th>merchant</th>\n",
       "      <th>category</th>\n",
       "      <th>amt</th>\n",
       "      <th>first</th>\n",
       "      <th>last</th>\n",
       "      <th>gender</th>\n",
       "      <th>street</th>\n",
       "      <th>...</th>\n",
       "      <th>unix_time</th>\n",
       "      <th>merch_lat</th>\n",
       "      <th>merch_long</th>\n",
       "      <th>is_fraud</th>\n",
       "      <th>trans_date</th>\n",
       "      <th>age</th>\n",
       "      <th>trans_month</th>\n",
       "      <th>trans_year</th>\n",
       "      <th>latitudinal_distance</th>\n",
       "      <th>longitudinal_distance</th>\n",
       "    </tr>\n",
       "  </thead>\n",
       "  <tbody>\n",
       "    <tr>\n",
       "      <th>70154</th>\n",
       "      <td>70154</td>\n",
       "      <td>2019-02-11 08:00:35</td>\n",
       "      <td>2286236465059468</td>\n",
       "      <td>fraud_Huel, Hammes and Witting</td>\n",
       "      <td>grocery_pos</td>\n",
       "      <td>149.61</td>\n",
       "      <td>Morgan</td>\n",
       "      <td>Murray</td>\n",
       "      <td>0</td>\n",
       "      <td>2788 Brittney Island</td>\n",
       "      <td>...</td>\n",
       "      <td>1328947235</td>\n",
       "      <td>38.988585</td>\n",
       "      <td>-94.096963</td>\n",
       "      <td>0</td>\n",
       "      <td>2019-02-11</td>\n",
       "      <td>68.0</td>\n",
       "      <td>2</td>\n",
       "      <td>2019</td>\n",
       "      <td>0.457</td>\n",
       "      <td>0.175</td>\n",
       "    </tr>\n",
       "    <tr>\n",
       "      <th>720897</th>\n",
       "      <td>720897</td>\n",
       "      <td>2019-11-03 22:12:31</td>\n",
       "      <td>4509922033272157</td>\n",
       "      <td>fraud_Daugherty LLC</td>\n",
       "      <td>kids_pets</td>\n",
       "      <td>53.29</td>\n",
       "      <td>Monica</td>\n",
       "      <td>West</td>\n",
       "      <td>0</td>\n",
       "      <td>22084 Smith Roads Suite 776</td>\n",
       "      <td>...</td>\n",
       "      <td>1351980751</td>\n",
       "      <td>43.103151</td>\n",
       "      <td>-97.929334</td>\n",
       "      <td>0</td>\n",
       "      <td>2019-11-03</td>\n",
       "      <td>47.0</td>\n",
       "      <td>11</td>\n",
       "      <td>2019</td>\n",
       "      <td>0.186</td>\n",
       "      <td>0.739</td>\n",
       "    </tr>\n",
       "    <tr>\n",
       "      <th>944693</th>\n",
       "      <td>944693</td>\n",
       "      <td>2020-01-12 18:13:53</td>\n",
       "      <td>3575540972310993</td>\n",
       "      <td>fraud_Abshire PLC</td>\n",
       "      <td>entertainment</td>\n",
       "      <td>118.82</td>\n",
       "      <td>Rachel</td>\n",
       "      <td>Villarreal</td>\n",
       "      <td>0</td>\n",
       "      <td>250 Carrie Throughway</td>\n",
       "      <td>...</td>\n",
       "      <td>1358014433</td>\n",
       "      <td>33.822330</td>\n",
       "      <td>-89.406917</td>\n",
       "      <td>0</td>\n",
       "      <td>2020-01-12</td>\n",
       "      <td>18.0</td>\n",
       "      <td>1</td>\n",
       "      <td>2020</td>\n",
       "      <td>0.517</td>\n",
       "      <td>0.167</td>\n",
       "    </tr>\n",
       "    <tr>\n",
       "      <th>711925</th>\n",
       "      <td>711925</td>\n",
       "      <td>2019-10-31 06:58:33</td>\n",
       "      <td>2266735643685262</td>\n",
       "      <td>fraud_O'Keefe-Hudson</td>\n",
       "      <td>grocery_pos</td>\n",
       "      <td>28.57</td>\n",
       "      <td>Carlos</td>\n",
       "      <td>Chung</td>\n",
       "      <td>1</td>\n",
       "      <td>8957 Russell Key</td>\n",
       "      <td>...</td>\n",
       "      <td>1351666713</td>\n",
       "      <td>35.212151</td>\n",
       "      <td>-86.316608</td>\n",
       "      <td>0</td>\n",
       "      <td>2019-10-31</td>\n",
       "      <td>47.0</td>\n",
       "      <td>10</td>\n",
       "      <td>2019</td>\n",
       "      <td>0.716</td>\n",
       "      <td>0.058</td>\n",
       "    </tr>\n",
       "    <tr>\n",
       "      <th>997995</th>\n",
       "      <td>997995</td>\n",
       "      <td>2020-02-12 22:42:13</td>\n",
       "      <td>36485887555770</td>\n",
       "      <td>fraud_Brown PLC</td>\n",
       "      <td>misc_net</td>\n",
       "      <td>69.14</td>\n",
       "      <td>Michael</td>\n",
       "      <td>Gross</td>\n",
       "      <td>1</td>\n",
       "      <td>230 Ryan Tunnel Apt. 025</td>\n",
       "      <td>...</td>\n",
       "      <td>1360708933</td>\n",
       "      <td>39.844280</td>\n",
       "      <td>-81.975934</td>\n",
       "      <td>0</td>\n",
       "      <td>2020-02-12</td>\n",
       "      <td>15.0</td>\n",
       "      <td>2</td>\n",
       "      <td>2020</td>\n",
       "      <td>0.653</td>\n",
       "      <td>0.858</td>\n",
       "    </tr>\n",
       "  </tbody>\n",
       "</table>\n",
       "<p>5 rows × 29 columns</p>\n",
       "</div>"
      ],
      "text/plain": [
       "        Unnamed: 0 trans_date_trans_time            cc_num  \\\n",
       "70154        70154   2019-02-11 08:00:35  2286236465059468   \n",
       "720897      720897   2019-11-03 22:12:31  4509922033272157   \n",
       "944693      944693   2020-01-12 18:13:53  3575540972310993   \n",
       "711925      711925   2019-10-31 06:58:33  2266735643685262   \n",
       "997995      997995   2020-02-12 22:42:13    36485887555770   \n",
       "\n",
       "                              merchant       category     amt    first  \\\n",
       "70154   fraud_Huel, Hammes and Witting    grocery_pos  149.61   Morgan   \n",
       "720897             fraud_Daugherty LLC      kids_pets   53.29   Monica   \n",
       "944693               fraud_Abshire PLC  entertainment  118.82   Rachel   \n",
       "711925            fraud_O'Keefe-Hudson    grocery_pos   28.57   Carlos   \n",
       "997995                 fraud_Brown PLC       misc_net   69.14  Michael   \n",
       "\n",
       "              last  gender                       street  ...   unix_time  \\\n",
       "70154       Murray       0         2788 Brittney Island  ...  1328947235   \n",
       "720897        West       0  22084 Smith Roads Suite 776  ...  1351980751   \n",
       "944693  Villarreal       0        250 Carrie Throughway  ...  1358014433   \n",
       "711925       Chung       1             8957 Russell Key  ...  1351666713   \n",
       "997995       Gross       1     230 Ryan Tunnel Apt. 025  ...  1360708933   \n",
       "\n",
       "        merch_lat  merch_long  is_fraud  trans_date   age trans_month  \\\n",
       "70154   38.988585  -94.096963         0  2019-02-11  68.0           2   \n",
       "720897  43.103151  -97.929334         0  2019-11-03  47.0          11   \n",
       "944693  33.822330  -89.406917         0  2020-01-12  18.0           1   \n",
       "711925  35.212151  -86.316608         0  2019-10-31  47.0          10   \n",
       "997995  39.844280  -81.975934         0  2020-02-12  15.0           2   \n",
       "\n",
       "       trans_year latitudinal_distance  longitudinal_distance  \n",
       "70154        2019                0.457                  0.175  \n",
       "720897       2019                0.186                  0.739  \n",
       "944693       2020                0.517                  0.167  \n",
       "711925       2019                0.716                  0.058  \n",
       "997995       2020                0.653                  0.858  \n",
       "\n",
       "[5 rows x 29 columns]"
      ]
     },
     "execution_count": 48,
     "metadata": {},
     "output_type": "execute_result"
    }
   ],
   "source": [
    "sample_train_data.head()"
   ]
  },
  {
   "cell_type": "code",
   "execution_count": null,
   "id": "aaa2d82b",
   "metadata": {},
   "outputs": [],
   "source": []
  }
 ],
 "metadata": {
  "kernelspec": {
   "display_name": "Python 3 (ipykernel)",
   "language": "python",
   "name": "python3"
  },
  "language_info": {
   "codemirror_mode": {
    "name": "ipython",
    "version": 3
   },
   "file_extension": ".py",
   "mimetype": "text/x-python",
   "name": "python",
   "nbconvert_exporter": "python",
   "pygments_lexer": "ipython3",
   "version": "3.9.12"
  }
 },
 "nbformat": 4,
 "nbformat_minor": 5
}
