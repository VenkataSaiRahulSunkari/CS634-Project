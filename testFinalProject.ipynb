{
 "cells": [
  {
   "cell_type": "markdown",
   "id": "89da3309",
   "metadata": {},
   "source": [
    "## Import the required libraries"
   ]
  },
  {
   "cell_type": "code",
   "execution_count": 2,
   "id": "f0bae6a8",
   "metadata": {},
   "outputs": [],
   "source": [
    "import numpy as np  # linear algebra\n",
    "import pandas as pd # data processing, reading CSV files etc."
   ]
  },
  {
   "cell_type": "markdown",
   "id": "1001cbef",
   "metadata": {},
   "source": [
    "### Assumptions\n",
    "- This notebook assumes that the training data file is available within the same folder as the notebook (.ipynb).\n",
    "- To avoid minor errors, the training data file is unaltered from the source that it is downloaded i.e. 'fraudTrain.csv'."
   ]
  },
  {
   "cell_type": "markdown",
   "id": "428aefd3",
   "metadata": {},
   "source": [
    "### Load the data\n",
    "Downloaded from the kaggle dataset: [Credit Card Transactions Fraud Detection Dataset](https://www.kaggle.com/datasets/kartik2112/fraud-detection/data) <br>\n",
    "[Download Link](https://www.kaggle.com/datasets/kartik2112/fraud-detection/download?datasetVersionNumber=1)"
   ]
  },
  {
   "cell_type": "code",
   "execution_count": 11,
   "id": "f9e70da9",
   "metadata": {},
   "outputs": [],
   "source": [
    "# trng_df is the variable given to the training dataframe\n",
    "trng_df = pd.read_csv('./fraudTrain.csv')"
   ]
  },
  {
   "cell_type": "code",
   "execution_count": 12,
   "id": "91c7adda",
   "metadata": {},
   "outputs": [
    {
     "data": {
      "text/html": [
       "<div>\n",
       "<style scoped>\n",
       "    .dataframe tbody tr th:only-of-type {\n",
       "        vertical-align: middle;\n",
       "    }\n",
       "\n",
       "    .dataframe tbody tr th {\n",
       "        vertical-align: top;\n",
       "    }\n",
       "\n",
       "    .dataframe thead th {\n",
       "        text-align: right;\n",
       "    }\n",
       "</style>\n",
       "<table border=\"1\" class=\"dataframe\">\n",
       "  <thead>\n",
       "    <tr style=\"text-align: right;\">\n",
       "      <th></th>\n",
       "      <th>Unnamed: 0</th>\n",
       "      <th>trans_date_trans_time</th>\n",
       "      <th>cc_num</th>\n",
       "      <th>merchant</th>\n",
       "      <th>category</th>\n",
       "      <th>amt</th>\n",
       "      <th>first</th>\n",
       "      <th>last</th>\n",
       "      <th>gender</th>\n",
       "      <th>street</th>\n",
       "      <th>...</th>\n",
       "      <th>lat</th>\n",
       "      <th>long</th>\n",
       "      <th>city_pop</th>\n",
       "      <th>job</th>\n",
       "      <th>dob</th>\n",
       "      <th>trans_num</th>\n",
       "      <th>unix_time</th>\n",
       "      <th>merch_lat</th>\n",
       "      <th>merch_long</th>\n",
       "      <th>is_fraud</th>\n",
       "    </tr>\n",
       "  </thead>\n",
       "  <tbody>\n",
       "    <tr>\n",
       "      <th>0</th>\n",
       "      <td>0</td>\n",
       "      <td>2019-01-01 00:00:18</td>\n",
       "      <td>2703186189652095</td>\n",
       "      <td>fraud_Rippin, Kub and Mann</td>\n",
       "      <td>misc_net</td>\n",
       "      <td>4.97</td>\n",
       "      <td>Jennifer</td>\n",
       "      <td>Banks</td>\n",
       "      <td>F</td>\n",
       "      <td>561 Perry Cove</td>\n",
       "      <td>...</td>\n",
       "      <td>36.0788</td>\n",
       "      <td>-81.1781</td>\n",
       "      <td>3495</td>\n",
       "      <td>Psychologist, counselling</td>\n",
       "      <td>1988-03-09</td>\n",
       "      <td>0b242abb623afc578575680df30655b9</td>\n",
       "      <td>1325376018</td>\n",
       "      <td>36.011293</td>\n",
       "      <td>-82.048315</td>\n",
       "      <td>0</td>\n",
       "    </tr>\n",
       "    <tr>\n",
       "      <th>1</th>\n",
       "      <td>1</td>\n",
       "      <td>2019-01-01 00:00:44</td>\n",
       "      <td>630423337322</td>\n",
       "      <td>fraud_Heller, Gutmann and Zieme</td>\n",
       "      <td>grocery_pos</td>\n",
       "      <td>107.23</td>\n",
       "      <td>Stephanie</td>\n",
       "      <td>Gill</td>\n",
       "      <td>F</td>\n",
       "      <td>43039 Riley Greens Suite 393</td>\n",
       "      <td>...</td>\n",
       "      <td>48.8878</td>\n",
       "      <td>-118.2105</td>\n",
       "      <td>149</td>\n",
       "      <td>Special educational needs teacher</td>\n",
       "      <td>1978-06-21</td>\n",
       "      <td>1f76529f8574734946361c461b024d99</td>\n",
       "      <td>1325376044</td>\n",
       "      <td>49.159047</td>\n",
       "      <td>-118.186462</td>\n",
       "      <td>0</td>\n",
       "    </tr>\n",
       "    <tr>\n",
       "      <th>2</th>\n",
       "      <td>2</td>\n",
       "      <td>2019-01-01 00:00:51</td>\n",
       "      <td>38859492057661</td>\n",
       "      <td>fraud_Lind-Buckridge</td>\n",
       "      <td>entertainment</td>\n",
       "      <td>220.11</td>\n",
       "      <td>Edward</td>\n",
       "      <td>Sanchez</td>\n",
       "      <td>M</td>\n",
       "      <td>594 White Dale Suite 530</td>\n",
       "      <td>...</td>\n",
       "      <td>42.1808</td>\n",
       "      <td>-112.2620</td>\n",
       "      <td>4154</td>\n",
       "      <td>Nature conservation officer</td>\n",
       "      <td>1962-01-19</td>\n",
       "      <td>a1a22d70485983eac12b5b88dad1cf95</td>\n",
       "      <td>1325376051</td>\n",
       "      <td>43.150704</td>\n",
       "      <td>-112.154481</td>\n",
       "      <td>0</td>\n",
       "    </tr>\n",
       "    <tr>\n",
       "      <th>3</th>\n",
       "      <td>3</td>\n",
       "      <td>2019-01-01 00:01:16</td>\n",
       "      <td>3534093764340240</td>\n",
       "      <td>fraud_Kutch, Hermiston and Farrell</td>\n",
       "      <td>gas_transport</td>\n",
       "      <td>45.00</td>\n",
       "      <td>Jeremy</td>\n",
       "      <td>White</td>\n",
       "      <td>M</td>\n",
       "      <td>9443 Cynthia Court Apt. 038</td>\n",
       "      <td>...</td>\n",
       "      <td>46.2306</td>\n",
       "      <td>-112.1138</td>\n",
       "      <td>1939</td>\n",
       "      <td>Patent attorney</td>\n",
       "      <td>1967-01-12</td>\n",
       "      <td>6b849c168bdad6f867558c3793159a81</td>\n",
       "      <td>1325376076</td>\n",
       "      <td>47.034331</td>\n",
       "      <td>-112.561071</td>\n",
       "      <td>0</td>\n",
       "    </tr>\n",
       "    <tr>\n",
       "      <th>4</th>\n",
       "      <td>4</td>\n",
       "      <td>2019-01-01 00:03:06</td>\n",
       "      <td>375534208663984</td>\n",
       "      <td>fraud_Keeling-Crist</td>\n",
       "      <td>misc_pos</td>\n",
       "      <td>41.96</td>\n",
       "      <td>Tyler</td>\n",
       "      <td>Garcia</td>\n",
       "      <td>M</td>\n",
       "      <td>408 Bradley Rest</td>\n",
       "      <td>...</td>\n",
       "      <td>38.4207</td>\n",
       "      <td>-79.4629</td>\n",
       "      <td>99</td>\n",
       "      <td>Dance movement psychotherapist</td>\n",
       "      <td>1986-03-28</td>\n",
       "      <td>a41d7549acf90789359a9aa5346dcb46</td>\n",
       "      <td>1325376186</td>\n",
       "      <td>38.674999</td>\n",
       "      <td>-78.632459</td>\n",
       "      <td>0</td>\n",
       "    </tr>\n",
       "  </tbody>\n",
       "</table>\n",
       "<p>5 rows × 23 columns</p>\n",
       "</div>"
      ],
      "text/plain": [
       "   Unnamed: 0 trans_date_trans_time            cc_num  \\\n",
       "0           0   2019-01-01 00:00:18  2703186189652095   \n",
       "1           1   2019-01-01 00:00:44      630423337322   \n",
       "2           2   2019-01-01 00:00:51    38859492057661   \n",
       "3           3   2019-01-01 00:01:16  3534093764340240   \n",
       "4           4   2019-01-01 00:03:06   375534208663984   \n",
       "\n",
       "                             merchant       category     amt      first  \\\n",
       "0          fraud_Rippin, Kub and Mann       misc_net    4.97   Jennifer   \n",
       "1     fraud_Heller, Gutmann and Zieme    grocery_pos  107.23  Stephanie   \n",
       "2                fraud_Lind-Buckridge  entertainment  220.11     Edward   \n",
       "3  fraud_Kutch, Hermiston and Farrell  gas_transport   45.00     Jeremy   \n",
       "4                 fraud_Keeling-Crist       misc_pos   41.96      Tyler   \n",
       "\n",
       "      last gender                        street  ...      lat      long  \\\n",
       "0    Banks      F                561 Perry Cove  ...  36.0788  -81.1781   \n",
       "1     Gill      F  43039 Riley Greens Suite 393  ...  48.8878 -118.2105   \n",
       "2  Sanchez      M      594 White Dale Suite 530  ...  42.1808 -112.2620   \n",
       "3    White      M   9443 Cynthia Court Apt. 038  ...  46.2306 -112.1138   \n",
       "4   Garcia      M              408 Bradley Rest  ...  38.4207  -79.4629   \n",
       "\n",
       "   city_pop                                job         dob  \\\n",
       "0      3495          Psychologist, counselling  1988-03-09   \n",
       "1       149  Special educational needs teacher  1978-06-21   \n",
       "2      4154        Nature conservation officer  1962-01-19   \n",
       "3      1939                    Patent attorney  1967-01-12   \n",
       "4        99     Dance movement psychotherapist  1986-03-28   \n",
       "\n",
       "                          trans_num   unix_time  merch_lat  merch_long  \\\n",
       "0  0b242abb623afc578575680df30655b9  1325376018  36.011293  -82.048315   \n",
       "1  1f76529f8574734946361c461b024d99  1325376044  49.159047 -118.186462   \n",
       "2  a1a22d70485983eac12b5b88dad1cf95  1325376051  43.150704 -112.154481   \n",
       "3  6b849c168bdad6f867558c3793159a81  1325376076  47.034331 -112.561071   \n",
       "4  a41d7549acf90789359a9aa5346dcb46  1325376186  38.674999  -78.632459   \n",
       "\n",
       "   is_fraud  \n",
       "0         0  \n",
       "1         0  \n",
       "2         0  \n",
       "3         0  \n",
       "4         0  \n",
       "\n",
       "[5 rows x 23 columns]"
      ]
     },
     "execution_count": 12,
     "metadata": {},
     "output_type": "execute_result"
    }
   ],
   "source": [
    "trng_df.head() # print the top 5 data items in the dataframe"
   ]
  },
  {
   "cell_type": "code",
   "execution_count": 19,
   "id": "59d3e4dd",
   "metadata": {},
   "outputs": [
    {
     "data": {
      "text/html": [
       "<style type=\"text/css\">\n",
       "#T_c2a39_row0_col0, #T_c2a39_row0_col1, #T_c2a39_row0_col2, #T_c2a39_row0_col3, #T_c2a39_row0_col4, #T_c2a39_row1_col0, #T_c2a39_row1_col1, #T_c2a39_row1_col2, #T_c2a39_row1_col3, #T_c2a39_row1_col4, #T_c2a39_row2_col0, #T_c2a39_row2_col1, #T_c2a39_row2_col2, #T_c2a39_row2_col3, #T_c2a39_row2_col4, #T_c2a39_row3_col0, #T_c2a39_row3_col1, #T_c2a39_row3_col2, #T_c2a39_row3_col3, #T_c2a39_row3_col4, #T_c2a39_row4_col0, #T_c2a39_row4_col1, #T_c2a39_row4_col2, #T_c2a39_row4_col3, #T_c2a39_row4_col4, #T_c2a39_row5_col0, #T_c2a39_row5_col1, #T_c2a39_row5_col2, #T_c2a39_row5_col3, #T_c2a39_row5_col4, #T_c2a39_row6_col0, #T_c2a39_row6_col1, #T_c2a39_row6_col2, #T_c2a39_row6_col3, #T_c2a39_row6_col4, #T_c2a39_row7_col0, #T_c2a39_row7_col1, #T_c2a39_row7_col2, #T_c2a39_row7_col3, #T_c2a39_row7_col4, #T_c2a39_row8_col0, #T_c2a39_row8_col1, #T_c2a39_row8_col2, #T_c2a39_row8_col3, #T_c2a39_row8_col4, #T_c2a39_row9_col0, #T_c2a39_row9_col1, #T_c2a39_row9_col2, #T_c2a39_row9_col3, #T_c2a39_row9_col4, #T_c2a39_row10_col0, #T_c2a39_row10_col1, #T_c2a39_row10_col2, #T_c2a39_row10_col3, #T_c2a39_row10_col4, #T_c2a39_row11_col0, #T_c2a39_row11_col1, #T_c2a39_row11_col2, #T_c2a39_row11_col3, #T_c2a39_row11_col4, #T_c2a39_row12_col0, #T_c2a39_row12_col1, #T_c2a39_row12_col2, #T_c2a39_row12_col3, #T_c2a39_row12_col4, #T_c2a39_row13_col0, #T_c2a39_row13_col1, #T_c2a39_row13_col2, #T_c2a39_row13_col3, #T_c2a39_row13_col4, #T_c2a39_row14_col0, #T_c2a39_row14_col1, #T_c2a39_row14_col2, #T_c2a39_row14_col3, #T_c2a39_row14_col4, #T_c2a39_row15_col0, #T_c2a39_row15_col1, #T_c2a39_row15_col2, #T_c2a39_row15_col3, #T_c2a39_row15_col4, #T_c2a39_row16_col0, #T_c2a39_row16_col1, #T_c2a39_row16_col2, #T_c2a39_row16_col3, #T_c2a39_row16_col4, #T_c2a39_row17_col0, #T_c2a39_row17_col1, #T_c2a39_row17_col2, #T_c2a39_row17_col3, #T_c2a39_row17_col4, #T_c2a39_row18_col0, #T_c2a39_row18_col1, #T_c2a39_row18_col2, #T_c2a39_row18_col3, #T_c2a39_row18_col4, #T_c2a39_row19_col0, #T_c2a39_row19_col1, #T_c2a39_row19_col2, #T_c2a39_row19_col3, #T_c2a39_row19_col4, #T_c2a39_row20_col0, #T_c2a39_row20_col1, #T_c2a39_row20_col2, #T_c2a39_row20_col3, #T_c2a39_row20_col4, #T_c2a39_row21_col0, #T_c2a39_row21_col1, #T_c2a39_row21_col2, #T_c2a39_row21_col3, #T_c2a39_row21_col4, #T_c2a39_row22_col0, #T_c2a39_row22_col1, #T_c2a39_row22_col2, #T_c2a39_row22_col3, #T_c2a39_row22_col4 {\n",
       "  background-color: black;\n",
       "  color: orange;\n",
       "  border-color: white;\n",
       "}\n",
       "</style>\n",
       "<table id=\"T_c2a39\">\n",
       "  <thead>\n",
       "    <tr>\n",
       "      <th class=\"blank level0\" >&nbsp;</th>\n",
       "      <th id=\"T_c2a39_level0_col0\" class=\"col_heading level0 col0\" >0</th>\n",
       "      <th id=\"T_c2a39_level0_col1\" class=\"col_heading level0 col1\" >1</th>\n",
       "      <th id=\"T_c2a39_level0_col2\" class=\"col_heading level0 col2\" >2</th>\n",
       "      <th id=\"T_c2a39_level0_col3\" class=\"col_heading level0 col3\" >3</th>\n",
       "      <th id=\"T_c2a39_level0_col4\" class=\"col_heading level0 col4\" >4</th>\n",
       "    </tr>\n",
       "  </thead>\n",
       "  <tbody>\n",
       "    <tr>\n",
       "      <th id=\"T_c2a39_level0_row0\" class=\"row_heading level0 row0\" >Unnamed: 0</th>\n",
       "      <td id=\"T_c2a39_row0_col0\" class=\"data row0 col0\" >0</td>\n",
       "      <td id=\"T_c2a39_row0_col1\" class=\"data row0 col1\" >1</td>\n",
       "      <td id=\"T_c2a39_row0_col2\" class=\"data row0 col2\" >2</td>\n",
       "      <td id=\"T_c2a39_row0_col3\" class=\"data row0 col3\" >3</td>\n",
       "      <td id=\"T_c2a39_row0_col4\" class=\"data row0 col4\" >4</td>\n",
       "    </tr>\n",
       "    <tr>\n",
       "      <th id=\"T_c2a39_level0_row1\" class=\"row_heading level0 row1\" >trans_date_trans_time</th>\n",
       "      <td id=\"T_c2a39_row1_col0\" class=\"data row1 col0\" >2019-01-01 00:00:18</td>\n",
       "      <td id=\"T_c2a39_row1_col1\" class=\"data row1 col1\" >2019-01-01 00:00:44</td>\n",
       "      <td id=\"T_c2a39_row1_col2\" class=\"data row1 col2\" >2019-01-01 00:00:51</td>\n",
       "      <td id=\"T_c2a39_row1_col3\" class=\"data row1 col3\" >2019-01-01 00:01:16</td>\n",
       "      <td id=\"T_c2a39_row1_col4\" class=\"data row1 col4\" >2019-01-01 00:03:06</td>\n",
       "    </tr>\n",
       "    <tr>\n",
       "      <th id=\"T_c2a39_level0_row2\" class=\"row_heading level0 row2\" >cc_num</th>\n",
       "      <td id=\"T_c2a39_row2_col0\" class=\"data row2 col0\" >2703186189652095</td>\n",
       "      <td id=\"T_c2a39_row2_col1\" class=\"data row2 col1\" >630423337322</td>\n",
       "      <td id=\"T_c2a39_row2_col2\" class=\"data row2 col2\" >38859492057661</td>\n",
       "      <td id=\"T_c2a39_row2_col3\" class=\"data row2 col3\" >3534093764340240</td>\n",
       "      <td id=\"T_c2a39_row2_col4\" class=\"data row2 col4\" >375534208663984</td>\n",
       "    </tr>\n",
       "    <tr>\n",
       "      <th id=\"T_c2a39_level0_row3\" class=\"row_heading level0 row3\" >merchant</th>\n",
       "      <td id=\"T_c2a39_row3_col0\" class=\"data row3 col0\" >fraud_Rippin, Kub and Mann</td>\n",
       "      <td id=\"T_c2a39_row3_col1\" class=\"data row3 col1\" >fraud_Heller, Gutmann and Zieme</td>\n",
       "      <td id=\"T_c2a39_row3_col2\" class=\"data row3 col2\" >fraud_Lind-Buckridge</td>\n",
       "      <td id=\"T_c2a39_row3_col3\" class=\"data row3 col3\" >fraud_Kutch, Hermiston and Farrell</td>\n",
       "      <td id=\"T_c2a39_row3_col4\" class=\"data row3 col4\" >fraud_Keeling-Crist</td>\n",
       "    </tr>\n",
       "    <tr>\n",
       "      <th id=\"T_c2a39_level0_row4\" class=\"row_heading level0 row4\" >category</th>\n",
       "      <td id=\"T_c2a39_row4_col0\" class=\"data row4 col0\" >misc_net</td>\n",
       "      <td id=\"T_c2a39_row4_col1\" class=\"data row4 col1\" >grocery_pos</td>\n",
       "      <td id=\"T_c2a39_row4_col2\" class=\"data row4 col2\" >entertainment</td>\n",
       "      <td id=\"T_c2a39_row4_col3\" class=\"data row4 col3\" >gas_transport</td>\n",
       "      <td id=\"T_c2a39_row4_col4\" class=\"data row4 col4\" >misc_pos</td>\n",
       "    </tr>\n",
       "    <tr>\n",
       "      <th id=\"T_c2a39_level0_row5\" class=\"row_heading level0 row5\" >amt</th>\n",
       "      <td id=\"T_c2a39_row5_col0\" class=\"data row5 col0\" >4.970000</td>\n",
       "      <td id=\"T_c2a39_row5_col1\" class=\"data row5 col1\" >107.230000</td>\n",
       "      <td id=\"T_c2a39_row5_col2\" class=\"data row5 col2\" >220.110000</td>\n",
       "      <td id=\"T_c2a39_row5_col3\" class=\"data row5 col3\" >45.000000</td>\n",
       "      <td id=\"T_c2a39_row5_col4\" class=\"data row5 col4\" >41.960000</td>\n",
       "    </tr>\n",
       "    <tr>\n",
       "      <th id=\"T_c2a39_level0_row6\" class=\"row_heading level0 row6\" >first</th>\n",
       "      <td id=\"T_c2a39_row6_col0\" class=\"data row6 col0\" >Jennifer</td>\n",
       "      <td id=\"T_c2a39_row6_col1\" class=\"data row6 col1\" >Stephanie</td>\n",
       "      <td id=\"T_c2a39_row6_col2\" class=\"data row6 col2\" >Edward</td>\n",
       "      <td id=\"T_c2a39_row6_col3\" class=\"data row6 col3\" >Jeremy</td>\n",
       "      <td id=\"T_c2a39_row6_col4\" class=\"data row6 col4\" >Tyler</td>\n",
       "    </tr>\n",
       "    <tr>\n",
       "      <th id=\"T_c2a39_level0_row7\" class=\"row_heading level0 row7\" >last</th>\n",
       "      <td id=\"T_c2a39_row7_col0\" class=\"data row7 col0\" >Banks</td>\n",
       "      <td id=\"T_c2a39_row7_col1\" class=\"data row7 col1\" >Gill</td>\n",
       "      <td id=\"T_c2a39_row7_col2\" class=\"data row7 col2\" >Sanchez</td>\n",
       "      <td id=\"T_c2a39_row7_col3\" class=\"data row7 col3\" >White</td>\n",
       "      <td id=\"T_c2a39_row7_col4\" class=\"data row7 col4\" >Garcia</td>\n",
       "    </tr>\n",
       "    <tr>\n",
       "      <th id=\"T_c2a39_level0_row8\" class=\"row_heading level0 row8\" >gender</th>\n",
       "      <td id=\"T_c2a39_row8_col0\" class=\"data row8 col0\" >F</td>\n",
       "      <td id=\"T_c2a39_row8_col1\" class=\"data row8 col1\" >F</td>\n",
       "      <td id=\"T_c2a39_row8_col2\" class=\"data row8 col2\" >M</td>\n",
       "      <td id=\"T_c2a39_row8_col3\" class=\"data row8 col3\" >M</td>\n",
       "      <td id=\"T_c2a39_row8_col4\" class=\"data row8 col4\" >M</td>\n",
       "    </tr>\n",
       "    <tr>\n",
       "      <th id=\"T_c2a39_level0_row9\" class=\"row_heading level0 row9\" >street</th>\n",
       "      <td id=\"T_c2a39_row9_col0\" class=\"data row9 col0\" >561 Perry Cove</td>\n",
       "      <td id=\"T_c2a39_row9_col1\" class=\"data row9 col1\" >43039 Riley Greens Suite 393</td>\n",
       "      <td id=\"T_c2a39_row9_col2\" class=\"data row9 col2\" >594 White Dale Suite 530</td>\n",
       "      <td id=\"T_c2a39_row9_col3\" class=\"data row9 col3\" >9443 Cynthia Court Apt. 038</td>\n",
       "      <td id=\"T_c2a39_row9_col4\" class=\"data row9 col4\" >408 Bradley Rest</td>\n",
       "    </tr>\n",
       "    <tr>\n",
       "      <th id=\"T_c2a39_level0_row10\" class=\"row_heading level0 row10\" >city</th>\n",
       "      <td id=\"T_c2a39_row10_col0\" class=\"data row10 col0\" >Moravian Falls</td>\n",
       "      <td id=\"T_c2a39_row10_col1\" class=\"data row10 col1\" >Orient</td>\n",
       "      <td id=\"T_c2a39_row10_col2\" class=\"data row10 col2\" >Malad City</td>\n",
       "      <td id=\"T_c2a39_row10_col3\" class=\"data row10 col3\" >Boulder</td>\n",
       "      <td id=\"T_c2a39_row10_col4\" class=\"data row10 col4\" >Doe Hill</td>\n",
       "    </tr>\n",
       "    <tr>\n",
       "      <th id=\"T_c2a39_level0_row11\" class=\"row_heading level0 row11\" >state</th>\n",
       "      <td id=\"T_c2a39_row11_col0\" class=\"data row11 col0\" >NC</td>\n",
       "      <td id=\"T_c2a39_row11_col1\" class=\"data row11 col1\" >WA</td>\n",
       "      <td id=\"T_c2a39_row11_col2\" class=\"data row11 col2\" >ID</td>\n",
       "      <td id=\"T_c2a39_row11_col3\" class=\"data row11 col3\" >MT</td>\n",
       "      <td id=\"T_c2a39_row11_col4\" class=\"data row11 col4\" >VA</td>\n",
       "    </tr>\n",
       "    <tr>\n",
       "      <th id=\"T_c2a39_level0_row12\" class=\"row_heading level0 row12\" >zip</th>\n",
       "      <td id=\"T_c2a39_row12_col0\" class=\"data row12 col0\" >28654</td>\n",
       "      <td id=\"T_c2a39_row12_col1\" class=\"data row12 col1\" >99160</td>\n",
       "      <td id=\"T_c2a39_row12_col2\" class=\"data row12 col2\" >83252</td>\n",
       "      <td id=\"T_c2a39_row12_col3\" class=\"data row12 col3\" >59632</td>\n",
       "      <td id=\"T_c2a39_row12_col4\" class=\"data row12 col4\" >24433</td>\n",
       "    </tr>\n",
       "    <tr>\n",
       "      <th id=\"T_c2a39_level0_row13\" class=\"row_heading level0 row13\" >lat</th>\n",
       "      <td id=\"T_c2a39_row13_col0\" class=\"data row13 col0\" >36.078800</td>\n",
       "      <td id=\"T_c2a39_row13_col1\" class=\"data row13 col1\" >48.887800</td>\n",
       "      <td id=\"T_c2a39_row13_col2\" class=\"data row13 col2\" >42.180800</td>\n",
       "      <td id=\"T_c2a39_row13_col3\" class=\"data row13 col3\" >46.230600</td>\n",
       "      <td id=\"T_c2a39_row13_col4\" class=\"data row13 col4\" >38.420700</td>\n",
       "    </tr>\n",
       "    <tr>\n",
       "      <th id=\"T_c2a39_level0_row14\" class=\"row_heading level0 row14\" >long</th>\n",
       "      <td id=\"T_c2a39_row14_col0\" class=\"data row14 col0\" >-81.178100</td>\n",
       "      <td id=\"T_c2a39_row14_col1\" class=\"data row14 col1\" >-118.210500</td>\n",
       "      <td id=\"T_c2a39_row14_col2\" class=\"data row14 col2\" >-112.262000</td>\n",
       "      <td id=\"T_c2a39_row14_col3\" class=\"data row14 col3\" >-112.113800</td>\n",
       "      <td id=\"T_c2a39_row14_col4\" class=\"data row14 col4\" >-79.462900</td>\n",
       "    </tr>\n",
       "    <tr>\n",
       "      <th id=\"T_c2a39_level0_row15\" class=\"row_heading level0 row15\" >city_pop</th>\n",
       "      <td id=\"T_c2a39_row15_col0\" class=\"data row15 col0\" >3495</td>\n",
       "      <td id=\"T_c2a39_row15_col1\" class=\"data row15 col1\" >149</td>\n",
       "      <td id=\"T_c2a39_row15_col2\" class=\"data row15 col2\" >4154</td>\n",
       "      <td id=\"T_c2a39_row15_col3\" class=\"data row15 col3\" >1939</td>\n",
       "      <td id=\"T_c2a39_row15_col4\" class=\"data row15 col4\" >99</td>\n",
       "    </tr>\n",
       "    <tr>\n",
       "      <th id=\"T_c2a39_level0_row16\" class=\"row_heading level0 row16\" >job</th>\n",
       "      <td id=\"T_c2a39_row16_col0\" class=\"data row16 col0\" >Psychologist, counselling</td>\n",
       "      <td id=\"T_c2a39_row16_col1\" class=\"data row16 col1\" >Special educational needs teacher</td>\n",
       "      <td id=\"T_c2a39_row16_col2\" class=\"data row16 col2\" >Nature conservation officer</td>\n",
       "      <td id=\"T_c2a39_row16_col3\" class=\"data row16 col3\" >Patent attorney</td>\n",
       "      <td id=\"T_c2a39_row16_col4\" class=\"data row16 col4\" >Dance movement psychotherapist</td>\n",
       "    </tr>\n",
       "    <tr>\n",
       "      <th id=\"T_c2a39_level0_row17\" class=\"row_heading level0 row17\" >dob</th>\n",
       "      <td id=\"T_c2a39_row17_col0\" class=\"data row17 col0\" >1988-03-09</td>\n",
       "      <td id=\"T_c2a39_row17_col1\" class=\"data row17 col1\" >1978-06-21</td>\n",
       "      <td id=\"T_c2a39_row17_col2\" class=\"data row17 col2\" >1962-01-19</td>\n",
       "      <td id=\"T_c2a39_row17_col3\" class=\"data row17 col3\" >1967-01-12</td>\n",
       "      <td id=\"T_c2a39_row17_col4\" class=\"data row17 col4\" >1986-03-28</td>\n",
       "    </tr>\n",
       "    <tr>\n",
       "      <th id=\"T_c2a39_level0_row18\" class=\"row_heading level0 row18\" >trans_num</th>\n",
       "      <td id=\"T_c2a39_row18_col0\" class=\"data row18 col0\" >0b242abb623afc578575680df30655b9</td>\n",
       "      <td id=\"T_c2a39_row18_col1\" class=\"data row18 col1\" >1f76529f8574734946361c461b024d99</td>\n",
       "      <td id=\"T_c2a39_row18_col2\" class=\"data row18 col2\" >a1a22d70485983eac12b5b88dad1cf95</td>\n",
       "      <td id=\"T_c2a39_row18_col3\" class=\"data row18 col3\" >6b849c168bdad6f867558c3793159a81</td>\n",
       "      <td id=\"T_c2a39_row18_col4\" class=\"data row18 col4\" >a41d7549acf90789359a9aa5346dcb46</td>\n",
       "    </tr>\n",
       "    <tr>\n",
       "      <th id=\"T_c2a39_level0_row19\" class=\"row_heading level0 row19\" >unix_time</th>\n",
       "      <td id=\"T_c2a39_row19_col0\" class=\"data row19 col0\" >1325376018</td>\n",
       "      <td id=\"T_c2a39_row19_col1\" class=\"data row19 col1\" >1325376044</td>\n",
       "      <td id=\"T_c2a39_row19_col2\" class=\"data row19 col2\" >1325376051</td>\n",
       "      <td id=\"T_c2a39_row19_col3\" class=\"data row19 col3\" >1325376076</td>\n",
       "      <td id=\"T_c2a39_row19_col4\" class=\"data row19 col4\" >1325376186</td>\n",
       "    </tr>\n",
       "    <tr>\n",
       "      <th id=\"T_c2a39_level0_row20\" class=\"row_heading level0 row20\" >merch_lat</th>\n",
       "      <td id=\"T_c2a39_row20_col0\" class=\"data row20 col0\" >36.011293</td>\n",
       "      <td id=\"T_c2a39_row20_col1\" class=\"data row20 col1\" >49.159047</td>\n",
       "      <td id=\"T_c2a39_row20_col2\" class=\"data row20 col2\" >43.150704</td>\n",
       "      <td id=\"T_c2a39_row20_col3\" class=\"data row20 col3\" >47.034331</td>\n",
       "      <td id=\"T_c2a39_row20_col4\" class=\"data row20 col4\" >38.674999</td>\n",
       "    </tr>\n",
       "    <tr>\n",
       "      <th id=\"T_c2a39_level0_row21\" class=\"row_heading level0 row21\" >merch_long</th>\n",
       "      <td id=\"T_c2a39_row21_col0\" class=\"data row21 col0\" >-82.048315</td>\n",
       "      <td id=\"T_c2a39_row21_col1\" class=\"data row21 col1\" >-118.186462</td>\n",
       "      <td id=\"T_c2a39_row21_col2\" class=\"data row21 col2\" >-112.154481</td>\n",
       "      <td id=\"T_c2a39_row21_col3\" class=\"data row21 col3\" >-112.561071</td>\n",
       "      <td id=\"T_c2a39_row21_col4\" class=\"data row21 col4\" >-78.632459</td>\n",
       "    </tr>\n",
       "    <tr>\n",
       "      <th id=\"T_c2a39_level0_row22\" class=\"row_heading level0 row22\" >is_fraud</th>\n",
       "      <td id=\"T_c2a39_row22_col0\" class=\"data row22 col0\" >0</td>\n",
       "      <td id=\"T_c2a39_row22_col1\" class=\"data row22 col1\" >0</td>\n",
       "      <td id=\"T_c2a39_row22_col2\" class=\"data row22 col2\" >0</td>\n",
       "      <td id=\"T_c2a39_row22_col3\" class=\"data row22 col3\" >0</td>\n",
       "      <td id=\"T_c2a39_row22_col4\" class=\"data row22 col4\" >0</td>\n",
       "    </tr>\n",
       "  </tbody>\n",
       "</table>\n"
      ],
      "text/plain": [
       "<pandas.io.formats.style.Styler at 0x7ff512f306a0>"
      ]
     },
     "execution_count": 19,
     "metadata": {},
     "output_type": "execute_result"
    }
   ],
   "source": [
    "trng_df.head().T.style.set_properties(**{'background-color': 'black',\n",
    "                                            'color': 'orange',\n",
    "                                            'border-color': 'white'})"
   ]
  },
  {
   "cell_type": "markdown",
   "id": "f3f9ec47",
   "metadata": {},
   "source": [
    "## Get the details and information of the training dataset\n",
    "1. Data types information\n",
    "2. Check for missing values in the dataset\n",
    "3. Evaluate the imbalance in the dataset"
   ]
  },
  {
   "cell_type": "code",
   "execution_count": 25,
   "id": "657f471f",
   "metadata": {},
   "outputs": [],
   "source": [
    "import seaborn as sns\n",
    "import plotly.express as px\n",
    "import plotly.graph_objects as go\n",
    "import matplotlib.pyplot as plt\n",
    "from sklearn.model_selection import cross_val_score\n",
    "\n",
    "from sklearn import metrics\n",
    "from collections import Counter"
   ]
  },
  {
   "cell_type": "code",
   "execution_count": 27,
   "id": "631f3af8",
   "metadata": {},
   "outputs": [
    {
     "data": {
      "application/vnd.plotly.v1+json": {
       "config": {
        "plotlyServerURL": "https://plot.ly"
       },
       "data": [
        {
         "hole": 0.2,
         "labels": [
          "Genuine",
          "Fraudulent"
         ],
         "type": "pie",
         "values": [
          0.9942113482561166,
          0.005788651743883394
         ]
        }
       ],
       "layout": {
        "template": {
         "data": {
          "bar": [
           {
            "error_x": {
             "color": "#2a3f5f"
            },
            "error_y": {
             "color": "#2a3f5f"
            },
            "marker": {
             "line": {
              "color": "#E5ECF6",
              "width": 0.5
             },
             "pattern": {
              "fillmode": "overlay",
              "size": 10,
              "solidity": 0.2
             }
            },
            "type": "bar"
           }
          ],
          "barpolar": [
           {
            "marker": {
             "line": {
              "color": "#E5ECF6",
              "width": 0.5
             },
             "pattern": {
              "fillmode": "overlay",
              "size": 10,
              "solidity": 0.2
             }
            },
            "type": "barpolar"
           }
          ],
          "carpet": [
           {
            "aaxis": {
             "endlinecolor": "#2a3f5f",
             "gridcolor": "white",
             "linecolor": "white",
             "minorgridcolor": "white",
             "startlinecolor": "#2a3f5f"
            },
            "baxis": {
             "endlinecolor": "#2a3f5f",
             "gridcolor": "white",
             "linecolor": "white",
             "minorgridcolor": "white",
             "startlinecolor": "#2a3f5f"
            },
            "type": "carpet"
           }
          ],
          "choropleth": [
           {
            "colorbar": {
             "outlinewidth": 0,
             "ticks": ""
            },
            "type": "choropleth"
           }
          ],
          "contour": [
           {
            "colorbar": {
             "outlinewidth": 0,
             "ticks": ""
            },
            "colorscale": [
             [
              0,
              "#0d0887"
             ],
             [
              0.1111111111111111,
              "#46039f"
             ],
             [
              0.2222222222222222,
              "#7201a8"
             ],
             [
              0.3333333333333333,
              "#9c179e"
             ],
             [
              0.4444444444444444,
              "#bd3786"
             ],
             [
              0.5555555555555556,
              "#d8576b"
             ],
             [
              0.6666666666666666,
              "#ed7953"
             ],
             [
              0.7777777777777778,
              "#fb9f3a"
             ],
             [
              0.8888888888888888,
              "#fdca26"
             ],
             [
              1,
              "#f0f921"
             ]
            ],
            "type": "contour"
           }
          ],
          "contourcarpet": [
           {
            "colorbar": {
             "outlinewidth": 0,
             "ticks": ""
            },
            "type": "contourcarpet"
           }
          ],
          "heatmap": [
           {
            "colorbar": {
             "outlinewidth": 0,
             "ticks": ""
            },
            "colorscale": [
             [
              0,
              "#0d0887"
             ],
             [
              0.1111111111111111,
              "#46039f"
             ],
             [
              0.2222222222222222,
              "#7201a8"
             ],
             [
              0.3333333333333333,
              "#9c179e"
             ],
             [
              0.4444444444444444,
              "#bd3786"
             ],
             [
              0.5555555555555556,
              "#d8576b"
             ],
             [
              0.6666666666666666,
              "#ed7953"
             ],
             [
              0.7777777777777778,
              "#fb9f3a"
             ],
             [
              0.8888888888888888,
              "#fdca26"
             ],
             [
              1,
              "#f0f921"
             ]
            ],
            "type": "heatmap"
           }
          ],
          "heatmapgl": [
           {
            "colorbar": {
             "outlinewidth": 0,
             "ticks": ""
            },
            "colorscale": [
             [
              0,
              "#0d0887"
             ],
             [
              0.1111111111111111,
              "#46039f"
             ],
             [
              0.2222222222222222,
              "#7201a8"
             ],
             [
              0.3333333333333333,
              "#9c179e"
             ],
             [
              0.4444444444444444,
              "#bd3786"
             ],
             [
              0.5555555555555556,
              "#d8576b"
             ],
             [
              0.6666666666666666,
              "#ed7953"
             ],
             [
              0.7777777777777778,
              "#fb9f3a"
             ],
             [
              0.8888888888888888,
              "#fdca26"
             ],
             [
              1,
              "#f0f921"
             ]
            ],
            "type": "heatmapgl"
           }
          ],
          "histogram": [
           {
            "marker": {
             "pattern": {
              "fillmode": "overlay",
              "size": 10,
              "solidity": 0.2
             }
            },
            "type": "histogram"
           }
          ],
          "histogram2d": [
           {
            "colorbar": {
             "outlinewidth": 0,
             "ticks": ""
            },
            "colorscale": [
             [
              0,
              "#0d0887"
             ],
             [
              0.1111111111111111,
              "#46039f"
             ],
             [
              0.2222222222222222,
              "#7201a8"
             ],
             [
              0.3333333333333333,
              "#9c179e"
             ],
             [
              0.4444444444444444,
              "#bd3786"
             ],
             [
              0.5555555555555556,
              "#d8576b"
             ],
             [
              0.6666666666666666,
              "#ed7953"
             ],
             [
              0.7777777777777778,
              "#fb9f3a"
             ],
             [
              0.8888888888888888,
              "#fdca26"
             ],
             [
              1,
              "#f0f921"
             ]
            ],
            "type": "histogram2d"
           }
          ],
          "histogram2dcontour": [
           {
            "colorbar": {
             "outlinewidth": 0,
             "ticks": ""
            },
            "colorscale": [
             [
              0,
              "#0d0887"
             ],
             [
              0.1111111111111111,
              "#46039f"
             ],
             [
              0.2222222222222222,
              "#7201a8"
             ],
             [
              0.3333333333333333,
              "#9c179e"
             ],
             [
              0.4444444444444444,
              "#bd3786"
             ],
             [
              0.5555555555555556,
              "#d8576b"
             ],
             [
              0.6666666666666666,
              "#ed7953"
             ],
             [
              0.7777777777777778,
              "#fb9f3a"
             ],
             [
              0.8888888888888888,
              "#fdca26"
             ],
             [
              1,
              "#f0f921"
             ]
            ],
            "type": "histogram2dcontour"
           }
          ],
          "mesh3d": [
           {
            "colorbar": {
             "outlinewidth": 0,
             "ticks": ""
            },
            "type": "mesh3d"
           }
          ],
          "parcoords": [
           {
            "line": {
             "colorbar": {
              "outlinewidth": 0,
              "ticks": ""
             }
            },
            "type": "parcoords"
           }
          ],
          "pie": [
           {
            "automargin": true,
            "type": "pie"
           }
          ],
          "scatter": [
           {
            "marker": {
             "colorbar": {
              "outlinewidth": 0,
              "ticks": ""
             }
            },
            "type": "scatter"
           }
          ],
          "scatter3d": [
           {
            "line": {
             "colorbar": {
              "outlinewidth": 0,
              "ticks": ""
             }
            },
            "marker": {
             "colorbar": {
              "outlinewidth": 0,
              "ticks": ""
             }
            },
            "type": "scatter3d"
           }
          ],
          "scattercarpet": [
           {
            "marker": {
             "colorbar": {
              "outlinewidth": 0,
              "ticks": ""
             }
            },
            "type": "scattercarpet"
           }
          ],
          "scattergeo": [
           {
            "marker": {
             "colorbar": {
              "outlinewidth": 0,
              "ticks": ""
             }
            },
            "type": "scattergeo"
           }
          ],
          "scattergl": [
           {
            "marker": {
             "colorbar": {
              "outlinewidth": 0,
              "ticks": ""
             }
            },
            "type": "scattergl"
           }
          ],
          "scattermapbox": [
           {
            "marker": {
             "colorbar": {
              "outlinewidth": 0,
              "ticks": ""
             }
            },
            "type": "scattermapbox"
           }
          ],
          "scatterpolar": [
           {
            "marker": {
             "colorbar": {
              "outlinewidth": 0,
              "ticks": ""
             }
            },
            "type": "scatterpolar"
           }
          ],
          "scatterpolargl": [
           {
            "marker": {
             "colorbar": {
              "outlinewidth": 0,
              "ticks": ""
             }
            },
            "type": "scatterpolargl"
           }
          ],
          "scatterternary": [
           {
            "marker": {
             "colorbar": {
              "outlinewidth": 0,
              "ticks": ""
             }
            },
            "type": "scatterternary"
           }
          ],
          "surface": [
           {
            "colorbar": {
             "outlinewidth": 0,
             "ticks": ""
            },
            "colorscale": [
             [
              0,
              "#0d0887"
             ],
             [
              0.1111111111111111,
              "#46039f"
             ],
             [
              0.2222222222222222,
              "#7201a8"
             ],
             [
              0.3333333333333333,
              "#9c179e"
             ],
             [
              0.4444444444444444,
              "#bd3786"
             ],
             [
              0.5555555555555556,
              "#d8576b"
             ],
             [
              0.6666666666666666,
              "#ed7953"
             ],
             [
              0.7777777777777778,
              "#fb9f3a"
             ],
             [
              0.8888888888888888,
              "#fdca26"
             ],
             [
              1,
              "#f0f921"
             ]
            ],
            "type": "surface"
           }
          ],
          "table": [
           {
            "cells": {
             "fill": {
              "color": "#EBF0F8"
             },
             "line": {
              "color": "white"
             }
            },
            "header": {
             "fill": {
              "color": "#C8D4E3"
             },
             "line": {
              "color": "white"
             }
            },
            "type": "table"
           }
          ]
         },
         "layout": {
          "annotationdefaults": {
           "arrowcolor": "#2a3f5f",
           "arrowhead": 0,
           "arrowwidth": 1
          },
          "autotypenumbers": "strict",
          "coloraxis": {
           "colorbar": {
            "outlinewidth": 0,
            "ticks": ""
           }
          },
          "colorscale": {
           "diverging": [
            [
             0,
             "#8e0152"
            ],
            [
             0.1,
             "#c51b7d"
            ],
            [
             0.2,
             "#de77ae"
            ],
            [
             0.3,
             "#f1b6da"
            ],
            [
             0.4,
             "#fde0ef"
            ],
            [
             0.5,
             "#f7f7f7"
            ],
            [
             0.6,
             "#e6f5d0"
            ],
            [
             0.7,
             "#b8e186"
            ],
            [
             0.8,
             "#7fbc41"
            ],
            [
             0.9,
             "#4d9221"
            ],
            [
             1,
             "#276419"
            ]
           ],
           "sequential": [
            [
             0,
             "#0d0887"
            ],
            [
             0.1111111111111111,
             "#46039f"
            ],
            [
             0.2222222222222222,
             "#7201a8"
            ],
            [
             0.3333333333333333,
             "#9c179e"
            ],
            [
             0.4444444444444444,
             "#bd3786"
            ],
            [
             0.5555555555555556,
             "#d8576b"
            ],
            [
             0.6666666666666666,
             "#ed7953"
            ],
            [
             0.7777777777777778,
             "#fb9f3a"
            ],
            [
             0.8888888888888888,
             "#fdca26"
            ],
            [
             1,
             "#f0f921"
            ]
           ],
           "sequentialminus": [
            [
             0,
             "#0d0887"
            ],
            [
             0.1111111111111111,
             "#46039f"
            ],
            [
             0.2222222222222222,
             "#7201a8"
            ],
            [
             0.3333333333333333,
             "#9c179e"
            ],
            [
             0.4444444444444444,
             "#bd3786"
            ],
            [
             0.5555555555555556,
             "#d8576b"
            ],
            [
             0.6666666666666666,
             "#ed7953"
            ],
            [
             0.7777777777777778,
             "#fb9f3a"
            ],
            [
             0.8888888888888888,
             "#fdca26"
            ],
            [
             1,
             "#f0f921"
            ]
           ]
          },
          "colorway": [
           "#636efa",
           "#EF553B",
           "#00cc96",
           "#ab63fa",
           "#FFA15A",
           "#19d3f3",
           "#FF6692",
           "#B6E880",
           "#FF97FF",
           "#FECB52"
          ],
          "font": {
           "color": "#2a3f5f"
          },
          "geo": {
           "bgcolor": "white",
           "lakecolor": "white",
           "landcolor": "#E5ECF6",
           "showlakes": true,
           "showland": true,
           "subunitcolor": "white"
          },
          "hoverlabel": {
           "align": "left"
          },
          "hovermode": "closest",
          "mapbox": {
           "style": "light"
          },
          "paper_bgcolor": "white",
          "plot_bgcolor": "#E5ECF6",
          "polar": {
           "angularaxis": {
            "gridcolor": "white",
            "linecolor": "white",
            "ticks": ""
           },
           "bgcolor": "#E5ECF6",
           "radialaxis": {
            "gridcolor": "white",
            "linecolor": "white",
            "ticks": ""
           }
          },
          "scene": {
           "xaxis": {
            "backgroundcolor": "#E5ECF6",
            "gridcolor": "white",
            "gridwidth": 2,
            "linecolor": "white",
            "showbackground": true,
            "ticks": "",
            "zerolinecolor": "white"
           },
           "yaxis": {
            "backgroundcolor": "#E5ECF6",
            "gridcolor": "white",
            "gridwidth": 2,
            "linecolor": "white",
            "showbackground": true,
            "ticks": "",
            "zerolinecolor": "white"
           },
           "zaxis": {
            "backgroundcolor": "#E5ECF6",
            "gridcolor": "white",
            "gridwidth": 2,
            "linecolor": "white",
            "showbackground": true,
            "ticks": "",
            "zerolinecolor": "white"
           }
          },
          "shapedefaults": {
           "line": {
            "color": "#2a3f5f"
           }
          },
          "ternary": {
           "aaxis": {
            "gridcolor": "white",
            "linecolor": "white",
            "ticks": ""
           },
           "baxis": {
            "gridcolor": "white",
            "linecolor": "white",
            "ticks": ""
           },
           "bgcolor": "#E5ECF6",
           "caxis": {
            "gridcolor": "white",
            "linecolor": "white",
            "ticks": ""
           }
          },
          "title": {
           "x": 0.05
          },
          "xaxis": {
           "automargin": true,
           "gridcolor": "white",
           "linecolor": "white",
           "ticks": "",
           "title": {
            "standoff": 15
           },
           "zerolinecolor": "white",
           "zerolinewidth": 2
          },
          "yaxis": {
           "automargin": true,
           "gridcolor": "white",
           "linecolor": "white",
           "ticks": "",
           "title": {
            "standoff": 15
           },
           "zerolinecolor": "white",
           "zerolinewidth": 2
          }
         }
        },
        "title": {
         "font": {
          "color": "black"
         },
         "text": "Credit Card Fraud"
        }
       }
      },
      "text/html": [
       "<div>                            <div id=\"a30eae8c-9653-486b-8322-2c06f79f92b6\" class=\"plotly-graph-div\" style=\"height:525px; width:100%;\"></div>            <script type=\"text/javascript\">                require([\"plotly\"], function(Plotly) {                    window.PLOTLYENV=window.PLOTLYENV || {};                                    if (document.getElementById(\"a30eae8c-9653-486b-8322-2c06f79f92b6\")) {                    Plotly.newPlot(                        \"a30eae8c-9653-486b-8322-2c06f79f92b6\",                        [{\"hole\":0.2,\"labels\":[\"Genuine\",\"Fraudulent\"],\"values\":[0.9942113482561166,0.005788651743883394],\"type\":\"pie\"}],                        {\"template\":{\"data\":{\"bar\":[{\"error_x\":{\"color\":\"#2a3f5f\"},\"error_y\":{\"color\":\"#2a3f5f\"},\"marker\":{\"line\":{\"color\":\"#E5ECF6\",\"width\":0.5},\"pattern\":{\"fillmode\":\"overlay\",\"size\":10,\"solidity\":0.2}},\"type\":\"bar\"}],\"barpolar\":[{\"marker\":{\"line\":{\"color\":\"#E5ECF6\",\"width\":0.5},\"pattern\":{\"fillmode\":\"overlay\",\"size\":10,\"solidity\":0.2}},\"type\":\"barpolar\"}],\"carpet\":[{\"aaxis\":{\"endlinecolor\":\"#2a3f5f\",\"gridcolor\":\"white\",\"linecolor\":\"white\",\"minorgridcolor\":\"white\",\"startlinecolor\":\"#2a3f5f\"},\"baxis\":{\"endlinecolor\":\"#2a3f5f\",\"gridcolor\":\"white\",\"linecolor\":\"white\",\"minorgridcolor\":\"white\",\"startlinecolor\":\"#2a3f5f\"},\"type\":\"carpet\"}],\"choropleth\":[{\"colorbar\":{\"outlinewidth\":0,\"ticks\":\"\"},\"type\":\"choropleth\"}],\"contour\":[{\"colorbar\":{\"outlinewidth\":0,\"ticks\":\"\"},\"colorscale\":[[0.0,\"#0d0887\"],[0.1111111111111111,\"#46039f\"],[0.2222222222222222,\"#7201a8\"],[0.3333333333333333,\"#9c179e\"],[0.4444444444444444,\"#bd3786\"],[0.5555555555555556,\"#d8576b\"],[0.6666666666666666,\"#ed7953\"],[0.7777777777777778,\"#fb9f3a\"],[0.8888888888888888,\"#fdca26\"],[1.0,\"#f0f921\"]],\"type\":\"contour\"}],\"contourcarpet\":[{\"colorbar\":{\"outlinewidth\":0,\"ticks\":\"\"},\"type\":\"contourcarpet\"}],\"heatmap\":[{\"colorbar\":{\"outlinewidth\":0,\"ticks\":\"\"},\"colorscale\":[[0.0,\"#0d0887\"],[0.1111111111111111,\"#46039f\"],[0.2222222222222222,\"#7201a8\"],[0.3333333333333333,\"#9c179e\"],[0.4444444444444444,\"#bd3786\"],[0.5555555555555556,\"#d8576b\"],[0.6666666666666666,\"#ed7953\"],[0.7777777777777778,\"#fb9f3a\"],[0.8888888888888888,\"#fdca26\"],[1.0,\"#f0f921\"]],\"type\":\"heatmap\"}],\"heatmapgl\":[{\"colorbar\":{\"outlinewidth\":0,\"ticks\":\"\"},\"colorscale\":[[0.0,\"#0d0887\"],[0.1111111111111111,\"#46039f\"],[0.2222222222222222,\"#7201a8\"],[0.3333333333333333,\"#9c179e\"],[0.4444444444444444,\"#bd3786\"],[0.5555555555555556,\"#d8576b\"],[0.6666666666666666,\"#ed7953\"],[0.7777777777777778,\"#fb9f3a\"],[0.8888888888888888,\"#fdca26\"],[1.0,\"#f0f921\"]],\"type\":\"heatmapgl\"}],\"histogram\":[{\"marker\":{\"pattern\":{\"fillmode\":\"overlay\",\"size\":10,\"solidity\":0.2}},\"type\":\"histogram\"}],\"histogram2d\":[{\"colorbar\":{\"outlinewidth\":0,\"ticks\":\"\"},\"colorscale\":[[0.0,\"#0d0887\"],[0.1111111111111111,\"#46039f\"],[0.2222222222222222,\"#7201a8\"],[0.3333333333333333,\"#9c179e\"],[0.4444444444444444,\"#bd3786\"],[0.5555555555555556,\"#d8576b\"],[0.6666666666666666,\"#ed7953\"],[0.7777777777777778,\"#fb9f3a\"],[0.8888888888888888,\"#fdca26\"],[1.0,\"#f0f921\"]],\"type\":\"histogram2d\"}],\"histogram2dcontour\":[{\"colorbar\":{\"outlinewidth\":0,\"ticks\":\"\"},\"colorscale\":[[0.0,\"#0d0887\"],[0.1111111111111111,\"#46039f\"],[0.2222222222222222,\"#7201a8\"],[0.3333333333333333,\"#9c179e\"],[0.4444444444444444,\"#bd3786\"],[0.5555555555555556,\"#d8576b\"],[0.6666666666666666,\"#ed7953\"],[0.7777777777777778,\"#fb9f3a\"],[0.8888888888888888,\"#fdca26\"],[1.0,\"#f0f921\"]],\"type\":\"histogram2dcontour\"}],\"mesh3d\":[{\"colorbar\":{\"outlinewidth\":0,\"ticks\":\"\"},\"type\":\"mesh3d\"}],\"parcoords\":[{\"line\":{\"colorbar\":{\"outlinewidth\":0,\"ticks\":\"\"}},\"type\":\"parcoords\"}],\"pie\":[{\"automargin\":true,\"type\":\"pie\"}],\"scatter\":[{\"marker\":{\"colorbar\":{\"outlinewidth\":0,\"ticks\":\"\"}},\"type\":\"scatter\"}],\"scatter3d\":[{\"line\":{\"colorbar\":{\"outlinewidth\":0,\"ticks\":\"\"}},\"marker\":{\"colorbar\":{\"outlinewidth\":0,\"ticks\":\"\"}},\"type\":\"scatter3d\"}],\"scattercarpet\":[{\"marker\":{\"colorbar\":{\"outlinewidth\":0,\"ticks\":\"\"}},\"type\":\"scattercarpet\"}],\"scattergeo\":[{\"marker\":{\"colorbar\":{\"outlinewidth\":0,\"ticks\":\"\"}},\"type\":\"scattergeo\"}],\"scattergl\":[{\"marker\":{\"colorbar\":{\"outlinewidth\":0,\"ticks\":\"\"}},\"type\":\"scattergl\"}],\"scattermapbox\":[{\"marker\":{\"colorbar\":{\"outlinewidth\":0,\"ticks\":\"\"}},\"type\":\"scattermapbox\"}],\"scatterpolar\":[{\"marker\":{\"colorbar\":{\"outlinewidth\":0,\"ticks\":\"\"}},\"type\":\"scatterpolar\"}],\"scatterpolargl\":[{\"marker\":{\"colorbar\":{\"outlinewidth\":0,\"ticks\":\"\"}},\"type\":\"scatterpolargl\"}],\"scatterternary\":[{\"marker\":{\"colorbar\":{\"outlinewidth\":0,\"ticks\":\"\"}},\"type\":\"scatterternary\"}],\"surface\":[{\"colorbar\":{\"outlinewidth\":0,\"ticks\":\"\"},\"colorscale\":[[0.0,\"#0d0887\"],[0.1111111111111111,\"#46039f\"],[0.2222222222222222,\"#7201a8\"],[0.3333333333333333,\"#9c179e\"],[0.4444444444444444,\"#bd3786\"],[0.5555555555555556,\"#d8576b\"],[0.6666666666666666,\"#ed7953\"],[0.7777777777777778,\"#fb9f3a\"],[0.8888888888888888,\"#fdca26\"],[1.0,\"#f0f921\"]],\"type\":\"surface\"}],\"table\":[{\"cells\":{\"fill\":{\"color\":\"#EBF0F8\"},\"line\":{\"color\":\"white\"}},\"header\":{\"fill\":{\"color\":\"#C8D4E3\"},\"line\":{\"color\":\"white\"}},\"type\":\"table\"}]},\"layout\":{\"annotationdefaults\":{\"arrowcolor\":\"#2a3f5f\",\"arrowhead\":0,\"arrowwidth\":1},\"autotypenumbers\":\"strict\",\"coloraxis\":{\"colorbar\":{\"outlinewidth\":0,\"ticks\":\"\"}},\"colorscale\":{\"diverging\":[[0,\"#8e0152\"],[0.1,\"#c51b7d\"],[0.2,\"#de77ae\"],[0.3,\"#f1b6da\"],[0.4,\"#fde0ef\"],[0.5,\"#f7f7f7\"],[0.6,\"#e6f5d0\"],[0.7,\"#b8e186\"],[0.8,\"#7fbc41\"],[0.9,\"#4d9221\"],[1,\"#276419\"]],\"sequential\":[[0.0,\"#0d0887\"],[0.1111111111111111,\"#46039f\"],[0.2222222222222222,\"#7201a8\"],[0.3333333333333333,\"#9c179e\"],[0.4444444444444444,\"#bd3786\"],[0.5555555555555556,\"#d8576b\"],[0.6666666666666666,\"#ed7953\"],[0.7777777777777778,\"#fb9f3a\"],[0.8888888888888888,\"#fdca26\"],[1.0,\"#f0f921\"]],\"sequentialminus\":[[0.0,\"#0d0887\"],[0.1111111111111111,\"#46039f\"],[0.2222222222222222,\"#7201a8\"],[0.3333333333333333,\"#9c179e\"],[0.4444444444444444,\"#bd3786\"],[0.5555555555555556,\"#d8576b\"],[0.6666666666666666,\"#ed7953\"],[0.7777777777777778,\"#fb9f3a\"],[0.8888888888888888,\"#fdca26\"],[1.0,\"#f0f921\"]]},\"colorway\":[\"#636efa\",\"#EF553B\",\"#00cc96\",\"#ab63fa\",\"#FFA15A\",\"#19d3f3\",\"#FF6692\",\"#B6E880\",\"#FF97FF\",\"#FECB52\"],\"font\":{\"color\":\"#2a3f5f\"},\"geo\":{\"bgcolor\":\"white\",\"lakecolor\":\"white\",\"landcolor\":\"#E5ECF6\",\"showlakes\":true,\"showland\":true,\"subunitcolor\":\"white\"},\"hoverlabel\":{\"align\":\"left\"},\"hovermode\":\"closest\",\"mapbox\":{\"style\":\"light\"},\"paper_bgcolor\":\"white\",\"plot_bgcolor\":\"#E5ECF6\",\"polar\":{\"angularaxis\":{\"gridcolor\":\"white\",\"linecolor\":\"white\",\"ticks\":\"\"},\"bgcolor\":\"#E5ECF6\",\"radialaxis\":{\"gridcolor\":\"white\",\"linecolor\":\"white\",\"ticks\":\"\"}},\"scene\":{\"xaxis\":{\"backgroundcolor\":\"#E5ECF6\",\"gridcolor\":\"white\",\"gridwidth\":2,\"linecolor\":\"white\",\"showbackground\":true,\"ticks\":\"\",\"zerolinecolor\":\"white\"},\"yaxis\":{\"backgroundcolor\":\"#E5ECF6\",\"gridcolor\":\"white\",\"gridwidth\":2,\"linecolor\":\"white\",\"showbackground\":true,\"ticks\":\"\",\"zerolinecolor\":\"white\"},\"zaxis\":{\"backgroundcolor\":\"#E5ECF6\",\"gridcolor\":\"white\",\"gridwidth\":2,\"linecolor\":\"white\",\"showbackground\":true,\"ticks\":\"\",\"zerolinecolor\":\"white\"}},\"shapedefaults\":{\"line\":{\"color\":\"#2a3f5f\"}},\"ternary\":{\"aaxis\":{\"gridcolor\":\"white\",\"linecolor\":\"white\",\"ticks\":\"\"},\"baxis\":{\"gridcolor\":\"white\",\"linecolor\":\"white\",\"ticks\":\"\"},\"bgcolor\":\"#E5ECF6\",\"caxis\":{\"gridcolor\":\"white\",\"linecolor\":\"white\",\"ticks\":\"\"}},\"title\":{\"x\":0.05},\"xaxis\":{\"automargin\":true,\"gridcolor\":\"white\",\"linecolor\":\"white\",\"ticks\":\"\",\"title\":{\"standoff\":15},\"zerolinecolor\":\"white\",\"zerolinewidth\":2},\"yaxis\":{\"automargin\":true,\"gridcolor\":\"white\",\"linecolor\":\"white\",\"ticks\":\"\",\"title\":{\"standoff\":15},\"zerolinecolor\":\"white\",\"zerolinewidth\":2}}},\"title\":{\"font\":{\"color\":\"black\"},\"text\":\"Credit Card Fraud\"}},                        {\"responsive\": true}                    ).then(function(){\n",
       "                            \n",
       "var gd = document.getElementById('a30eae8c-9653-486b-8322-2c06f79f92b6');\n",
       "var x = new MutationObserver(function (mutations, observer) {{\n",
       "        var display = window.getComputedStyle(gd).display;\n",
       "        if (!display || display === 'none') {{\n",
       "            console.log([gd, 'removed!']);\n",
       "            Plotly.purge(gd);\n",
       "            observer.disconnect();\n",
       "        }}\n",
       "}});\n",
       "\n",
       "// Listen for the removal of the full notebook cells\n",
       "var notebookContainer = gd.closest('#notebook-container');\n",
       "if (notebookContainer) {{\n",
       "    x.observe(notebookContainer, {childList: true});\n",
       "}}\n",
       "\n",
       "// Listen for the clearing of the current output cell\n",
       "var outputEl = gd.closest('.output');\n",
       "if (outputEl) {{\n",
       "    x.observe(outputEl, {childList: true});\n",
       "}}\n",
       "\n",
       "                        })                };                });            </script>        </div>"
      ]
     },
     "metadata": {},
     "output_type": "display_data"
    }
   ],
   "source": [
    "colors = ['orange', 'white']\n",
    "labels = ['Genuine', 'Fraudulent']\n",
    "values = trng_df['is_fraud'].value_counts()/trng_df['is_fraud'].shape[0]\n",
    "# print(values)\n",
    "fig = go.Figure(data=[go.Pie(labels = labels, values = values, hole=.2)])\n",
    "fig.update_layout(title_text='Credit Card Fraud', title_font_color='black')"
   ]
  },
  {
   "cell_type": "code",
   "execution_count": 28,
   "id": "8d297d3b",
   "metadata": {},
   "outputs": [
    {
     "data": {
      "image/png": "[encoded data removed]",
      "text/plain": [
       "<Figure size 432x288 with 1 Axes>"
      ]
     },
     "metadata": {
      "needs_background": "light"
     },
     "output_type": "display_data"
    }
   ],
   "source": [
    "plt.figure()\n",
    "ax = sns.countplot(x='is_fraud', data=trng_df, palette='pastel')\n",
    "for i in ax.containers:\n",
    "    ax.bar_label(i, )"
   ]
  },
  {
   "cell_type": "markdown",
   "id": "5882b1ff",
   "metadata": {},
   "source": [
    "## Data Cleaning"
   ]
  },
  {
   "cell_type": "code",
   "execution_count": 31,
   "id": "b7a618df",
   "metadata": {},
   "outputs": [
    {
     "name": "stdout",
     "output_type": "stream",
     "text": [
      "<class 'pandas.core.frame.DataFrame'>\n",
      "RangeIndex: 1296675 entries, 0 to 1296674\n",
      "Data columns (total 23 columns):\n",
      " #   Column                 Non-Null Count    Dtype  \n",
      "---  ------                 --------------    -----  \n",
      " 0   Unnamed: 0             1296675 non-null  int64  \n",
      " 1   trans_date_trans_time  1296675 non-null  object \n",
      " 2   cc_num                 1296675 non-null  int64  \n",
      " 3   merchant               1296675 non-null  object \n",
      " 4   category               1296675 non-null  object \n",
      " 5   amt                    1296675 non-null  float64\n",
      " 6   first                  1296675 non-null  object \n",
      " 7   last                   1296675 non-null  object \n",
      " 8   gender                 1296675 non-null  object \n",
      " 9   street                 1296675 non-null  object \n",
      " 10  city                   1296675 non-null  object \n",
      " 11  state                  1296675 non-null  object \n",
      " 12  zip                    1296675 non-null  int64  \n",
      " 13  lat                    1296675 non-null  float64\n",
      " 14  long                   1296675 non-null  float64\n",
      " 15  city_pop               1296675 non-null  int64  \n",
      " 16  job                    1296675 non-null  object \n",
      " 17  dob                    1296675 non-null  object \n",
      " 18  trans_num              1296675 non-null  object \n",
      " 19  unix_time              1296675 non-null  int64  \n",
      " 20  merch_lat              1296675 non-null  float64\n",
      " 21  merch_long             1296675 non-null  float64\n",
      " 22  is_fraud               1296675 non-null  int64  \n",
      "dtypes: float64(5), int64(6), object(12)\n",
      "memory usage: 227.5+ MB\n"
     ]
    }
   ],
   "source": [
    "trng_df.info()"
   ]
  },
  {
   "cell_type": "code",
   "execution_count": 33,
   "id": "f25a9e5d",
   "metadata": {},
   "outputs": [
    {
     "data": {
      "text/plain": [
       "Unnamed: 0               0\n",
       "trans_date_trans_time    0\n",
       "cc_num                   0\n",
       "merchant                 0\n",
       "category                 0\n",
       "amt                      0\n",
       "first                    0\n",
       "last                     0\n",
       "gender                   0\n",
       "street                   0\n",
       "city                     0\n",
       "state                    0\n",
       "zip                      0\n",
       "lat                      0\n",
       "long                     0\n",
       "city_pop                 0\n",
       "job                      0\n",
       "dob                      0\n",
       "trans_num                0\n",
       "unix_time                0\n",
       "merch_lat                0\n",
       "merch_long               0\n",
       "is_fraud                 0\n",
       "dtype: int64"
      ]
     },
     "execution_count": 33,
     "metadata": {},
     "output_type": "execute_result"
    }
   ],
   "source": [
    "trng_df.isnull().sum()"
   ]
  },
  {
   "cell_type": "markdown",
   "id": "6c837e51",
   "metadata": {},
   "source": [
    "## Drop columns that are not relevant to the model"
   ]
  },
  {
   "cell_type": "code",
   "execution_count": 34,
   "id": "ac5a8a39",
   "metadata": {},
   "outputs": [],
   "source": [
    "drop_columns = ['Unnamed: 0', 'cc_num', 'merchant', 'trans_num', 'unix_time', 'first', 'last', 'street', 'zip']\n",
    "trng_df.drop(columns=drop_columns, inplace=True)"
   ]
  },
  {
   "cell_type": "code",
   "execution_count": 35,
   "id": "6625aadc",
   "metadata": {},
   "outputs": [
    {
     "name": "stdout",
     "output_type": "stream",
     "text": [
      "(1296675, 14)\n"
     ]
    }
   ],
   "source": [
    "print(trng_df.shape)"
   ]
  },
  {
   "cell_type": "code",
   "execution_count": 37,
   "id": "99fa5a1b",
   "metadata": {},
   "outputs": [
    {
     "name": "stdout",
     "output_type": "stream",
     "text": [
      "<class 'pandas.core.frame.DataFrame'>\n",
      "RangeIndex: 1296675 entries, 0 to 1296674\n",
      "Data columns (total 14 columns):\n",
      " #   Column                 Non-Null Count    Dtype  \n",
      "---  ------                 --------------    -----  \n",
      " 0   trans_date_trans_time  1296675 non-null  object \n",
      " 1   category               1296675 non-null  object \n",
      " 2   amt                    1296675 non-null  float64\n",
      " 3   gender                 1296675 non-null  object \n",
      " 4   city                   1296675 non-null  object \n",
      " 5   state                  1296675 non-null  object \n",
      " 6   lat                    1296675 non-null  float64\n",
      " 7   long                   1296675 non-null  float64\n",
      " 8   city_pop               1296675 non-null  int64  \n",
      " 9   job                    1296675 non-null  object \n",
      " 10  dob                    1296675 non-null  object \n",
      " 11  merch_lat              1296675 non-null  float64\n",
      " 12  merch_long             1296675 non-null  float64\n",
      " 13  is_fraud               1296675 non-null  int64  \n",
      "dtypes: float64(5), int64(2), object(7)\n",
      "memory usage: 138.5+ MB\n"
     ]
    }
   ],
   "source": [
    "trng_df.info()"
   ]
  },
  {
   "cell_type": "markdown",
   "id": "913ff734",
   "metadata": {},
   "source": [
    "## handle date time"
   ]
  },
  {
   "cell_type": "code",
   "execution_count": 38,
   "id": "53ef064e",
   "metadata": {},
   "outputs": [],
   "source": [
    "trng_df['trans_date_trans_time']=pd.to_datetime(trng_df['trans_date_trans_time'])\n",
    "trng_df['trans_date']=trng_df['trans_date_trans_time'].dt.strftime('%Y-%m-%d')\n",
    "trng_df['trans_date']=pd.to_datetime(trng_df['trans_date'])\n",
    "trng_df['dob']=pd.to_datetime(trng_df['dob'])"
   ]
  },
  {
   "cell_type": "code",
   "execution_count": 39,
   "id": "848f226e",
   "metadata": {},
   "outputs": [
    {
     "name": "stdout",
     "output_type": "stream",
     "text": [
      "<class 'pandas.core.frame.DataFrame'>\n",
      "RangeIndex: 1296675 entries, 0 to 1296674\n",
      "Data columns (total 15 columns):\n",
      " #   Column                 Non-Null Count    Dtype         \n",
      "---  ------                 --------------    -----         \n",
      " 0   trans_date_trans_time  1296675 non-null  datetime64[ns]\n",
      " 1   category               1296675 non-null  object        \n",
      " 2   amt                    1296675 non-null  float64       \n",
      " 3   gender                 1296675 non-null  object        \n",
      " 4   city                   1296675 non-null  object        \n",
      " 5   state                  1296675 non-null  object        \n",
      " 6   lat                    1296675 non-null  float64       \n",
      " 7   long                   1296675 non-null  float64       \n",
      " 8   city_pop               1296675 non-null  int64         \n",
      " 9   job                    1296675 non-null  object        \n",
      " 10  dob                    1296675 non-null  datetime64[ns]\n",
      " 11  merch_lat              1296675 non-null  float64       \n",
      " 12  merch_long             1296675 non-null  float64       \n",
      " 13  is_fraud               1296675 non-null  int64         \n",
      " 14  trans_date             1296675 non-null  datetime64[ns]\n",
      "dtypes: datetime64[ns](3), float64(5), int64(2), object(5)\n",
      "memory usage: 148.4+ MB\n"
     ]
    }
   ],
   "source": [
    "trng_df.info()"
   ]
  },
  {
   "cell_type": "markdown",
   "id": "1a6eb0e8",
   "metadata": {},
   "source": [
    "## feature engineering"
   ]
  },
  {
   "cell_type": "code",
   "execution_count": 41,
   "id": "9f6d1567",
   "metadata": {},
   "outputs": [
    {
     "data": {
      "text/html": [
       "<div>\n",
       "<style scoped>\n",
       "    .dataframe tbody tr th:only-of-type {\n",
       "        vertical-align: middle;\n",
       "    }\n",
       "\n",
       "    .dataframe tbody tr th {\n",
       "        vertical-align: top;\n",
       "    }\n",
       "\n",
       "    .dataframe thead th {\n",
       "        text-align: right;\n",
       "    }\n",
       "</style>\n",
       "<table border=\"1\" class=\"dataframe\">\n",
       "  <thead>\n",
       "    <tr style=\"text-align: right;\">\n",
       "      <th></th>\n",
       "      <th>trans_date_trans_time</th>\n",
       "      <th>category</th>\n",
       "      <th>amt</th>\n",
       "      <th>gender</th>\n",
       "      <th>city</th>\n",
       "      <th>state</th>\n",
       "      <th>lat</th>\n",
       "      <th>long</th>\n",
       "      <th>city_pop</th>\n",
       "      <th>job</th>\n",
       "      <th>dob</th>\n",
       "      <th>merch_lat</th>\n",
       "      <th>merch_long</th>\n",
       "      <th>is_fraud</th>\n",
       "      <th>trans_date</th>\n",
       "      <th>age</th>\n",
       "    </tr>\n",
       "  </thead>\n",
       "  <tbody>\n",
       "    <tr>\n",
       "      <th>0</th>\n",
       "      <td>2019-01-01 00:00:18</td>\n",
       "      <td>misc_net</td>\n",
       "      <td>4.97</td>\n",
       "      <td>F</td>\n",
       "      <td>Moravian Falls</td>\n",
       "      <td>NC</td>\n",
       "      <td>36.0788</td>\n",
       "      <td>-81.1781</td>\n",
       "      <td>3495</td>\n",
       "      <td>Psychologist, counselling</td>\n",
       "      <td>1988-03-09</td>\n",
       "      <td>36.011293</td>\n",
       "      <td>-82.048315</td>\n",
       "      <td>0</td>\n",
       "      <td>2019-01-01</td>\n",
       "      <td>30.0</td>\n",
       "    </tr>\n",
       "    <tr>\n",
       "      <th>1</th>\n",
       "      <td>2019-01-01 00:00:44</td>\n",
       "      <td>grocery_pos</td>\n",
       "      <td>107.23</td>\n",
       "      <td>F</td>\n",
       "      <td>Orient</td>\n",
       "      <td>WA</td>\n",
       "      <td>48.8878</td>\n",
       "      <td>-118.2105</td>\n",
       "      <td>149</td>\n",
       "      <td>Special educational needs teacher</td>\n",
       "      <td>1978-06-21</td>\n",
       "      <td>49.159047</td>\n",
       "      <td>-118.186462</td>\n",
       "      <td>0</td>\n",
       "      <td>2019-01-01</td>\n",
       "      <td>40.0</td>\n",
       "    </tr>\n",
       "    <tr>\n",
       "      <th>2</th>\n",
       "      <td>2019-01-01 00:00:51</td>\n",
       "      <td>entertainment</td>\n",
       "      <td>220.11</td>\n",
       "      <td>M</td>\n",
       "      <td>Malad City</td>\n",
       "      <td>ID</td>\n",
       "      <td>42.1808</td>\n",
       "      <td>-112.2620</td>\n",
       "      <td>4154</td>\n",
       "      <td>Nature conservation officer</td>\n",
       "      <td>1962-01-19</td>\n",
       "      <td>43.150704</td>\n",
       "      <td>-112.154481</td>\n",
       "      <td>0</td>\n",
       "      <td>2019-01-01</td>\n",
       "      <td>56.0</td>\n",
       "    </tr>\n",
       "    <tr>\n",
       "      <th>3</th>\n",
       "      <td>2019-01-01 00:01:16</td>\n",
       "      <td>gas_transport</td>\n",
       "      <td>45.00</td>\n",
       "      <td>M</td>\n",
       "      <td>Boulder</td>\n",
       "      <td>MT</td>\n",
       "      <td>46.2306</td>\n",
       "      <td>-112.1138</td>\n",
       "      <td>1939</td>\n",
       "      <td>Patent attorney</td>\n",
       "      <td>1967-01-12</td>\n",
       "      <td>47.034331</td>\n",
       "      <td>-112.561071</td>\n",
       "      <td>0</td>\n",
       "      <td>2019-01-01</td>\n",
       "      <td>51.0</td>\n",
       "    </tr>\n",
       "    <tr>\n",
       "      <th>4</th>\n",
       "      <td>2019-01-01 00:03:06</td>\n",
       "      <td>misc_pos</td>\n",
       "      <td>41.96</td>\n",
       "      <td>M</td>\n",
       "      <td>Doe Hill</td>\n",
       "      <td>VA</td>\n",
       "      <td>38.4207</td>\n",
       "      <td>-79.4629</td>\n",
       "      <td>99</td>\n",
       "      <td>Dance movement psychotherapist</td>\n",
       "      <td>1986-03-28</td>\n",
       "      <td>38.674999</td>\n",
       "      <td>-78.632459</td>\n",
       "      <td>0</td>\n",
       "      <td>2019-01-01</td>\n",
       "      <td>32.0</td>\n",
       "    </tr>\n",
       "  </tbody>\n",
       "</table>\n",
       "</div>"
      ],
      "text/plain": [
       "  trans_date_trans_time       category     amt gender            city state  \\\n",
       "0   2019-01-01 00:00:18       misc_net    4.97      F  Moravian Falls    NC   \n",
       "1   2019-01-01 00:00:44    grocery_pos  107.23      F          Orient    WA   \n",
       "2   2019-01-01 00:00:51  entertainment  220.11      M      Malad City    ID   \n",
       "3   2019-01-01 00:01:16  gas_transport   45.00      M         Boulder    MT   \n",
       "4   2019-01-01 00:03:06       misc_pos   41.96      M        Doe Hill    VA   \n",
       "\n",
       "       lat      long  city_pop                                job        dob  \\\n",
       "0  36.0788  -81.1781      3495          Psychologist, counselling 1988-03-09   \n",
       "1  48.8878 -118.2105       149  Special educational needs teacher 1978-06-21   \n",
       "2  42.1808 -112.2620      4154        Nature conservation officer 1962-01-19   \n",
       "3  46.2306 -112.1138      1939                    Patent attorney 1967-01-12   \n",
       "4  38.4207  -79.4629        99     Dance movement psychotherapist 1986-03-28   \n",
       "\n",
       "   merch_lat  merch_long  is_fraud trans_date   age  \n",
       "0  36.011293  -82.048315         0 2019-01-01  30.0  \n",
       "1  49.159047 -118.186462         0 2019-01-01  40.0  \n",
       "2  43.150704 -112.154481         0 2019-01-01  56.0  \n",
       "3  47.034331 -112.561071         0 2019-01-01  51.0  \n",
       "4  38.674999  -78.632459         0 2019-01-01  32.0  "
      ]
     },
     "execution_count": 41,
     "metadata": {},
     "output_type": "execute_result"
    }
   ],
   "source": [
    "#Calculate Age\n",
    "trng_df[\"age\"] = trng_df[\"trans_date\"]-trng_df[\"dob\"]\n",
    "trng_df[\"age\"] = trng_df[\"age\"].astype('timedelta64[Y]')\n",
    "trng_df.head()"
   ]
  },
  {
   "cell_type": "code",
   "execution_count": 42,
   "id": "50b9cff5",
   "metadata": {},
   "outputs": [],
   "source": [
    "trng_df['trans_month'] = pd.DatetimeIndex(trng_df['trans_date']).month"
   ]
  },
  {
   "cell_type": "code",
   "execution_count": 44,
   "id": "e4b21728",
   "metadata": {},
   "outputs": [],
   "source": [
    "trng_df['trans_year'] = pd.DatetimeIndex(trng_df['trans_date']).year"
   ]
  },
  {
   "cell_type": "code",
   "execution_count": 45,
   "id": "aa917abb",
   "metadata": {},
   "outputs": [
    {
     "data": {
      "text/html": [
       "<div>\n",
       "<style scoped>\n",
       "    .dataframe tbody tr th:only-of-type {\n",
       "        vertical-align: middle;\n",
       "    }\n",
       "\n",
       "    .dataframe tbody tr th {\n",
       "        vertical-align: top;\n",
       "    }\n",
       "\n",
       "    .dataframe thead th {\n",
       "        text-align: right;\n",
       "    }\n",
       "</style>\n",
       "<table border=\"1\" class=\"dataframe\">\n",
       "  <thead>\n",
       "    <tr style=\"text-align: right;\">\n",
       "      <th></th>\n",
       "      <th>trans_date_trans_time</th>\n",
       "      <th>category</th>\n",
       "      <th>amt</th>\n",
       "      <th>gender</th>\n",
       "      <th>city</th>\n",
       "      <th>state</th>\n",
       "      <th>lat</th>\n",
       "      <th>long</th>\n",
       "      <th>city_pop</th>\n",
       "      <th>job</th>\n",
       "      <th>dob</th>\n",
       "      <th>merch_lat</th>\n",
       "      <th>merch_long</th>\n",
       "      <th>is_fraud</th>\n",
       "      <th>trans_date</th>\n",
       "      <th>age</th>\n",
       "      <th>trans_month</th>\n",
       "      <th>trans_year</th>\n",
       "    </tr>\n",
       "  </thead>\n",
       "  <tbody>\n",
       "    <tr>\n",
       "      <th>0</th>\n",
       "      <td>2019-01-01 00:00:18</td>\n",
       "      <td>misc_net</td>\n",
       "      <td>4.97</td>\n",
       "      <td>F</td>\n",
       "      <td>Moravian Falls</td>\n",
       "      <td>NC</td>\n",
       "      <td>36.0788</td>\n",
       "      <td>-81.1781</td>\n",
       "      <td>3495</td>\n",
       "      <td>Psychologist, counselling</td>\n",
       "      <td>1988-03-09</td>\n",
       "      <td>36.011293</td>\n",
       "      <td>-82.048315</td>\n",
       "      <td>0</td>\n",
       "      <td>2019-01-01</td>\n",
       "      <td>30.0</td>\n",
       "      <td>1</td>\n",
       "      <td>2019</td>\n",
       "    </tr>\n",
       "    <tr>\n",
       "      <th>1</th>\n",
       "      <td>2019-01-01 00:00:44</td>\n",
       "      <td>grocery_pos</td>\n",
       "      <td>107.23</td>\n",
       "      <td>F</td>\n",
       "      <td>Orient</td>\n",
       "      <td>WA</td>\n",
       "      <td>48.8878</td>\n",
       "      <td>-118.2105</td>\n",
       "      <td>149</td>\n",
       "      <td>Special educational needs teacher</td>\n",
       "      <td>1978-06-21</td>\n",
       "      <td>49.159047</td>\n",
       "      <td>-118.186462</td>\n",
       "      <td>0</td>\n",
       "      <td>2019-01-01</td>\n",
       "      <td>40.0</td>\n",
       "      <td>1</td>\n",
       "      <td>2019</td>\n",
       "    </tr>\n",
       "    <tr>\n",
       "      <th>2</th>\n",
       "      <td>2019-01-01 00:00:51</td>\n",
       "      <td>entertainment</td>\n",
       "      <td>220.11</td>\n",
       "      <td>M</td>\n",
       "      <td>Malad City</td>\n",
       "      <td>ID</td>\n",
       "      <td>42.1808</td>\n",
       "      <td>-112.2620</td>\n",
       "      <td>4154</td>\n",
       "      <td>Nature conservation officer</td>\n",
       "      <td>1962-01-19</td>\n",
       "      <td>43.150704</td>\n",
       "      <td>-112.154481</td>\n",
       "      <td>0</td>\n",
       "      <td>2019-01-01</td>\n",
       "      <td>56.0</td>\n",
       "      <td>1</td>\n",
       "      <td>2019</td>\n",
       "    </tr>\n",
       "    <tr>\n",
       "      <th>3</th>\n",
       "      <td>2019-01-01 00:01:16</td>\n",
       "      <td>gas_transport</td>\n",
       "      <td>45.00</td>\n",
       "      <td>M</td>\n",
       "      <td>Boulder</td>\n",
       "      <td>MT</td>\n",
       "      <td>46.2306</td>\n",
       "      <td>-112.1138</td>\n",
       "      <td>1939</td>\n",
       "      <td>Patent attorney</td>\n",
       "      <td>1967-01-12</td>\n",
       "      <td>47.034331</td>\n",
       "      <td>-112.561071</td>\n",
       "      <td>0</td>\n",
       "      <td>2019-01-01</td>\n",
       "      <td>51.0</td>\n",
       "      <td>1</td>\n",
       "      <td>2019</td>\n",
       "    </tr>\n",
       "    <tr>\n",
       "      <th>4</th>\n",
       "      <td>2019-01-01 00:03:06</td>\n",
       "      <td>misc_pos</td>\n",
       "      <td>41.96</td>\n",
       "      <td>M</td>\n",
       "      <td>Doe Hill</td>\n",
       "      <td>VA</td>\n",
       "      <td>38.4207</td>\n",
       "      <td>-79.4629</td>\n",
       "      <td>99</td>\n",
       "      <td>Dance movement psychotherapist</td>\n",
       "      <td>1986-03-28</td>\n",
       "      <td>38.674999</td>\n",
       "      <td>-78.632459</td>\n",
       "      <td>0</td>\n",
       "      <td>2019-01-01</td>\n",
       "      <td>32.0</td>\n",
       "      <td>1</td>\n",
       "      <td>2019</td>\n",
       "    </tr>\n",
       "  </tbody>\n",
       "</table>\n",
       "</div>"
      ],
      "text/plain": [
       "  trans_date_trans_time       category     amt gender            city state  \\\n",
       "0   2019-01-01 00:00:18       misc_net    4.97      F  Moravian Falls    NC   \n",
       "1   2019-01-01 00:00:44    grocery_pos  107.23      F          Orient    WA   \n",
       "2   2019-01-01 00:00:51  entertainment  220.11      M      Malad City    ID   \n",
       "3   2019-01-01 00:01:16  gas_transport   45.00      M         Boulder    MT   \n",
       "4   2019-01-01 00:03:06       misc_pos   41.96      M        Doe Hill    VA   \n",
       "\n",
       "       lat      long  city_pop                                job        dob  \\\n",
       "0  36.0788  -81.1781      3495          Psychologist, counselling 1988-03-09   \n",
       "1  48.8878 -118.2105       149  Special educational needs teacher 1978-06-21   \n",
       "2  42.1808 -112.2620      4154        Nature conservation officer 1962-01-19   \n",
       "3  46.2306 -112.1138      1939                    Patent attorney 1967-01-12   \n",
       "4  38.4207  -79.4629        99     Dance movement psychotherapist 1986-03-28   \n",
       "\n",
       "   merch_lat  merch_long  is_fraud trans_date   age  trans_month  trans_year  \n",
       "0  36.011293  -82.048315         0 2019-01-01  30.0            1        2019  \n",
       "1  49.159047 -118.186462         0 2019-01-01  40.0            1        2019  \n",
       "2  43.150704 -112.154481         0 2019-01-01  56.0            1        2019  \n",
       "3  47.034331 -112.561071         0 2019-01-01  51.0            1        2019  \n",
       "4  38.674999  -78.632459         0 2019-01-01  32.0            1        2019  "
      ]
     },
     "execution_count": 45,
     "metadata": {},
     "output_type": "execute_result"
    }
   ],
   "source": [
    "trng_df.head()"
   ]
  },
  {
   "cell_type": "code",
   "execution_count": 46,
   "id": "00d6e40c",
   "metadata": {},
   "outputs": [],
   "source": [
    "#Calculate distance between merchant and home location\n",
    "trng_df['latitudinal_distance'] = abs(round(trng_df['merch_lat']-trng_df['lat'],3))\n",
    "trng_df['longitudinal_distance'] = abs(round(trng_df['merch_long']-trng_df['long'],3))"
   ]
  },
  {
   "cell_type": "code",
   "execution_count": 47,
   "id": "58532614",
   "metadata": {},
   "outputs": [],
   "source": [
    "#Drop Columns that are not relevant to predicy fraud transaction\n",
    "drop_columns = ['trans_date_trans_time','city','lat','long','job','dob','merch_lat','merch_long','trans_date','state']\n",
    "trng_df.drop(columns=drop_columns,inplace=True)"
   ]
  },
  {
   "cell_type": "code",
   "execution_count": 48,
   "id": "8b51bc6f",
   "metadata": {},
   "outputs": [
    {
     "name": "stdout",
     "output_type": "stream",
     "text": [
      "<class 'pandas.core.frame.DataFrame'>\n",
      "RangeIndex: 1296675 entries, 0 to 1296674\n",
      "Data columns (total 10 columns):\n",
      " #   Column                 Non-Null Count    Dtype  \n",
      "---  ------                 --------------    -----  \n",
      " 0   category               1296675 non-null  object \n",
      " 1   amt                    1296675 non-null  float64\n",
      " 2   gender                 1296675 non-null  object \n",
      " 3   city_pop               1296675 non-null  int64  \n",
      " 4   is_fraud               1296675 non-null  int64  \n",
      " 5   age                    1296675 non-null  float64\n",
      " 6   trans_month            1296675 non-null  int64  \n",
      " 7   trans_year             1296675 non-null  int64  \n",
      " 8   latitudinal_distance   1296675 non-null  float64\n",
      " 9   longitudinal_distance  1296675 non-null  float64\n",
      "dtypes: float64(4), int64(4), object(2)\n",
      "memory usage: 98.9+ MB\n"
     ]
    }
   ],
   "source": [
    "trng_df.info()"
   ]
  },
  {
   "cell_type": "code",
   "execution_count": 49,
   "id": "4868af13",
   "metadata": {},
   "outputs": [
    {
     "data": {
      "text/html": [
       "<div>\n",
       "<style scoped>\n",
       "    .dataframe tbody tr th:only-of-type {\n",
       "        vertical-align: middle;\n",
       "    }\n",
       "\n",
       "    .dataframe tbody tr th {\n",
       "        vertical-align: top;\n",
       "    }\n",
       "\n",
       "    .dataframe thead th {\n",
       "        text-align: right;\n",
       "    }\n",
       "</style>\n",
       "<table border=\"1\" class=\"dataframe\">\n",
       "  <thead>\n",
       "    <tr style=\"text-align: right;\">\n",
       "      <th></th>\n",
       "      <th>category</th>\n",
       "      <th>amt</th>\n",
       "      <th>gender</th>\n",
       "      <th>city_pop</th>\n",
       "      <th>is_fraud</th>\n",
       "      <th>age</th>\n",
       "      <th>trans_month</th>\n",
       "      <th>trans_year</th>\n",
       "      <th>latitudinal_distance</th>\n",
       "      <th>longitudinal_distance</th>\n",
       "    </tr>\n",
       "  </thead>\n",
       "  <tbody>\n",
       "    <tr>\n",
       "      <th>0</th>\n",
       "      <td>misc_net</td>\n",
       "      <td>4.97</td>\n",
       "      <td>F</td>\n",
       "      <td>3495</td>\n",
       "      <td>0</td>\n",
       "      <td>30.0</td>\n",
       "      <td>1</td>\n",
       "      <td>2019</td>\n",
       "      <td>0.068</td>\n",
       "      <td>0.870</td>\n",
       "    </tr>\n",
       "    <tr>\n",
       "      <th>1</th>\n",
       "      <td>grocery_pos</td>\n",
       "      <td>107.23</td>\n",
       "      <td>F</td>\n",
       "      <td>149</td>\n",
       "      <td>0</td>\n",
       "      <td>40.0</td>\n",
       "      <td>1</td>\n",
       "      <td>2019</td>\n",
       "      <td>0.271</td>\n",
       "      <td>0.024</td>\n",
       "    </tr>\n",
       "    <tr>\n",
       "      <th>2</th>\n",
       "      <td>entertainment</td>\n",
       "      <td>220.11</td>\n",
       "      <td>M</td>\n",
       "      <td>4154</td>\n",
       "      <td>0</td>\n",
       "      <td>56.0</td>\n",
       "      <td>1</td>\n",
       "      <td>2019</td>\n",
       "      <td>0.970</td>\n",
       "      <td>0.108</td>\n",
       "    </tr>\n",
       "    <tr>\n",
       "      <th>3</th>\n",
       "      <td>gas_transport</td>\n",
       "      <td>45.00</td>\n",
       "      <td>M</td>\n",
       "      <td>1939</td>\n",
       "      <td>0</td>\n",
       "      <td>51.0</td>\n",
       "      <td>1</td>\n",
       "      <td>2019</td>\n",
       "      <td>0.804</td>\n",
       "      <td>0.447</td>\n",
       "    </tr>\n",
       "    <tr>\n",
       "      <th>4</th>\n",
       "      <td>misc_pos</td>\n",
       "      <td>41.96</td>\n",
       "      <td>M</td>\n",
       "      <td>99</td>\n",
       "      <td>0</td>\n",
       "      <td>32.0</td>\n",
       "      <td>1</td>\n",
       "      <td>2019</td>\n",
       "      <td>0.254</td>\n",
       "      <td>0.830</td>\n",
       "    </tr>\n",
       "  </tbody>\n",
       "</table>\n",
       "</div>"
      ],
      "text/plain": [
       "        category     amt gender  city_pop  is_fraud   age  trans_month  \\\n",
       "0       misc_net    4.97      F      3495         0  30.0            1   \n",
       "1    grocery_pos  107.23      F       149         0  40.0            1   \n",
       "2  entertainment  220.11      M      4154         0  56.0            1   \n",
       "3  gas_transport   45.00      M      1939         0  51.0            1   \n",
       "4       misc_pos   41.96      M        99         0  32.0            1   \n",
       "\n",
       "   trans_year  latitudinal_distance  longitudinal_distance  \n",
       "0        2019                 0.068                  0.870  \n",
       "1        2019                 0.271                  0.024  \n",
       "2        2019                 0.970                  0.108  \n",
       "3        2019                 0.804                  0.447  \n",
       "4        2019                 0.254                  0.830  "
      ]
     },
     "execution_count": 49,
     "metadata": {},
     "output_type": "execute_result"
    }
   ],
   "source": [
    "trng_df.head()"
   ]
  },
  {
   "cell_type": "code",
   "execution_count": 50,
   "id": "ec14e54d",
   "metadata": {},
   "outputs": [],
   "source": [
    "g_trng_df = trng_df[trng_df.is_fraud == 0]\n",
    "f_trng_df = trng_df[trng_df.is_fraud == 1]"
   ]
  },
  {
   "cell_type": "code",
   "execution_count": 52,
   "id": "f4972610",
   "metadata": {},
   "outputs": [
    {
     "data": {
      "text/html": [
       "<div>\n",
       "<style scoped>\n",
       "    .dataframe tbody tr th:only-of-type {\n",
       "        vertical-align: middle;\n",
       "    }\n",
       "\n",
       "    .dataframe tbody tr th {\n",
       "        vertical-align: top;\n",
       "    }\n",
       "\n",
       "    .dataframe thead th {\n",
       "        text-align: right;\n",
       "    }\n",
       "</style>\n",
       "<table border=\"1\" class=\"dataframe\">\n",
       "  <thead>\n",
       "    <tr style=\"text-align: right;\">\n",
       "      <th></th>\n",
       "      <th>category</th>\n",
       "      <th>amt</th>\n",
       "      <th>gender</th>\n",
       "      <th>city_pop</th>\n",
       "      <th>is_fraud</th>\n",
       "      <th>age</th>\n",
       "      <th>trans_month</th>\n",
       "      <th>trans_year</th>\n",
       "      <th>latitudinal_distance</th>\n",
       "      <th>longitudinal_distance</th>\n",
       "    </tr>\n",
       "  </thead>\n",
       "  <tbody>\n",
       "    <tr>\n",
       "      <th>0</th>\n",
       "      <td>misc_net</td>\n",
       "      <td>4.97</td>\n",
       "      <td>F</td>\n",
       "      <td>3495</td>\n",
       "      <td>0</td>\n",
       "      <td>30.0</td>\n",
       "      <td>1</td>\n",
       "      <td>2019</td>\n",
       "      <td>0.068</td>\n",
       "      <td>0.870</td>\n",
       "    </tr>\n",
       "    <tr>\n",
       "      <th>1</th>\n",
       "      <td>grocery_pos</td>\n",
       "      <td>107.23</td>\n",
       "      <td>F</td>\n",
       "      <td>149</td>\n",
       "      <td>0</td>\n",
       "      <td>40.0</td>\n",
       "      <td>1</td>\n",
       "      <td>2019</td>\n",
       "      <td>0.271</td>\n",
       "      <td>0.024</td>\n",
       "    </tr>\n",
       "    <tr>\n",
       "      <th>2</th>\n",
       "      <td>entertainment</td>\n",
       "      <td>220.11</td>\n",
       "      <td>M</td>\n",
       "      <td>4154</td>\n",
       "      <td>0</td>\n",
       "      <td>56.0</td>\n",
       "      <td>1</td>\n",
       "      <td>2019</td>\n",
       "      <td>0.970</td>\n",
       "      <td>0.108</td>\n",
       "    </tr>\n",
       "    <tr>\n",
       "      <th>3</th>\n",
       "      <td>gas_transport</td>\n",
       "      <td>45.00</td>\n",
       "      <td>M</td>\n",
       "      <td>1939</td>\n",
       "      <td>0</td>\n",
       "      <td>51.0</td>\n",
       "      <td>1</td>\n",
       "      <td>2019</td>\n",
       "      <td>0.804</td>\n",
       "      <td>0.447</td>\n",
       "    </tr>\n",
       "    <tr>\n",
       "      <th>4</th>\n",
       "      <td>misc_pos</td>\n",
       "      <td>41.96</td>\n",
       "      <td>M</td>\n",
       "      <td>99</td>\n",
       "      <td>0</td>\n",
       "      <td>32.0</td>\n",
       "      <td>1</td>\n",
       "      <td>2019</td>\n",
       "      <td>0.254</td>\n",
       "      <td>0.830</td>\n",
       "    </tr>\n",
       "  </tbody>\n",
       "</table>\n",
       "</div>"
      ],
      "text/plain": [
       "        category     amt gender  city_pop  is_fraud   age  trans_month  \\\n",
       "0       misc_net    4.97      F      3495         0  30.0            1   \n",
       "1    grocery_pos  107.23      F       149         0  40.0            1   \n",
       "2  entertainment  220.11      M      4154         0  56.0            1   \n",
       "3  gas_transport   45.00      M      1939         0  51.0            1   \n",
       "4       misc_pos   41.96      M        99         0  32.0            1   \n",
       "\n",
       "   trans_year  latitudinal_distance  longitudinal_distance  \n",
       "0        2019                 0.068                  0.870  \n",
       "1        2019                 0.271                  0.024  \n",
       "2        2019                 0.970                  0.108  \n",
       "3        2019                 0.804                  0.447  \n",
       "4        2019                 0.254                  0.830  "
      ]
     },
     "execution_count": 52,
     "metadata": {},
     "output_type": "execute_result"
    }
   ],
   "source": [
    "g_trng_df.head()"
   ]
  },
  {
   "cell_type": "code",
   "execution_count": 53,
   "id": "f1e66e5b",
   "metadata": {},
   "outputs": [
    {
     "data": {
      "text/html": [
       "<div>\n",
       "<style scoped>\n",
       "    .dataframe tbody tr th:only-of-type {\n",
       "        vertical-align: middle;\n",
       "    }\n",
       "\n",
       "    .dataframe tbody tr th {\n",
       "        vertical-align: top;\n",
       "    }\n",
       "\n",
       "    .dataframe thead th {\n",
       "        text-align: right;\n",
       "    }\n",
       "</style>\n",
       "<table border=\"1\" class=\"dataframe\">\n",
       "  <thead>\n",
       "    <tr style=\"text-align: right;\">\n",
       "      <th></th>\n",
       "      <th>category</th>\n",
       "      <th>amt</th>\n",
       "      <th>gender</th>\n",
       "      <th>city_pop</th>\n",
       "      <th>is_fraud</th>\n",
       "      <th>age</th>\n",
       "      <th>trans_month</th>\n",
       "      <th>trans_year</th>\n",
       "      <th>latitudinal_distance</th>\n",
       "      <th>longitudinal_distance</th>\n",
       "    </tr>\n",
       "  </thead>\n",
       "  <tbody>\n",
       "    <tr>\n",
       "      <th>2449</th>\n",
       "      <td>grocery_pos</td>\n",
       "      <td>281.06</td>\n",
       "      <td>M</td>\n",
       "      <td>885</td>\n",
       "      <td>1</td>\n",
       "      <td>30.0</td>\n",
       "      <td>1</td>\n",
       "      <td>2019</td>\n",
       "      <td>0.436</td>\n",
       "      <td>0.547</td>\n",
       "    </tr>\n",
       "    <tr>\n",
       "      <th>2472</th>\n",
       "      <td>gas_transport</td>\n",
       "      <td>11.52</td>\n",
       "      <td>F</td>\n",
       "      <td>1595797</td>\n",
       "      <td>1</td>\n",
       "      <td>58.0</td>\n",
       "      <td>1</td>\n",
       "      <td>2019</td>\n",
       "      <td>0.379</td>\n",
       "      <td>0.684</td>\n",
       "    </tr>\n",
       "    <tr>\n",
       "      <th>2523</th>\n",
       "      <td>grocery_pos</td>\n",
       "      <td>276.31</td>\n",
       "      <td>F</td>\n",
       "      <td>1595797</td>\n",
       "      <td>1</td>\n",
       "      <td>58.0</td>\n",
       "      <td>1</td>\n",
       "      <td>2019</td>\n",
       "      <td>0.167</td>\n",
       "      <td>0.377</td>\n",
       "    </tr>\n",
       "    <tr>\n",
       "      <th>2546</th>\n",
       "      <td>gas_transport</td>\n",
       "      <td>7.03</td>\n",
       "      <td>M</td>\n",
       "      <td>885</td>\n",
       "      <td>1</td>\n",
       "      <td>30.0</td>\n",
       "      <td>1</td>\n",
       "      <td>2019</td>\n",
       "      <td>0.085</td>\n",
       "      <td>0.364</td>\n",
       "    </tr>\n",
       "    <tr>\n",
       "      <th>2553</th>\n",
       "      <td>grocery_pos</td>\n",
       "      <td>275.73</td>\n",
       "      <td>F</td>\n",
       "      <td>1595797</td>\n",
       "      <td>1</td>\n",
       "      <td>58.0</td>\n",
       "      <td>1</td>\n",
       "      <td>2019</td>\n",
       "      <td>0.346</td>\n",
       "      <td>0.224</td>\n",
       "    </tr>\n",
       "  </tbody>\n",
       "</table>\n",
       "</div>"
      ],
      "text/plain": [
       "           category     amt gender  city_pop  is_fraud   age  trans_month  \\\n",
       "2449    grocery_pos  281.06      M       885         1  30.0            1   \n",
       "2472  gas_transport   11.52      F   1595797         1  58.0            1   \n",
       "2523    grocery_pos  276.31      F   1595797         1  58.0            1   \n",
       "2546  gas_transport    7.03      M       885         1  30.0            1   \n",
       "2553    grocery_pos  275.73      F   1595797         1  58.0            1   \n",
       "\n",
       "      trans_year  latitudinal_distance  longitudinal_distance  \n",
       "2449        2019                 0.436                  0.547  \n",
       "2472        2019                 0.379                  0.684  \n",
       "2523        2019                 0.167                  0.377  \n",
       "2546        2019                 0.085                  0.364  \n",
       "2553        2019                 0.346                  0.224  "
      ]
     },
     "execution_count": 53,
     "metadata": {},
     "output_type": "execute_result"
    }
   ],
   "source": [
    "f_trng_df.head()"
   ]
  },
  {
   "cell_type": "code",
   "execution_count": 54,
   "id": "b1540553",
   "metadata": {},
   "outputs": [],
   "source": [
    "g_trng_df = g_trng_df.sample(7506)"
   ]
  },
  {
   "cell_type": "code",
   "execution_count": 55,
   "id": "9353d228",
   "metadata": {},
   "outputs": [
    {
     "name": "stdout",
     "output_type": "stream",
     "text": [
      "<class 'pandas.core.frame.DataFrame'>\n",
      "Int64Index: 7506 entries, 1065308 to 473346\n",
      "Data columns (total 10 columns):\n",
      " #   Column                 Non-Null Count  Dtype  \n",
      "---  ------                 --------------  -----  \n",
      " 0   category               7506 non-null   object \n",
      " 1   amt                    7506 non-null   float64\n",
      " 2   gender                 7506 non-null   object \n",
      " 3   city_pop               7506 non-null   int64  \n",
      " 4   is_fraud               7506 non-null   int64  \n",
      " 5   age                    7506 non-null   float64\n",
      " 6   trans_month            7506 non-null   int64  \n",
      " 7   trans_year             7506 non-null   int64  \n",
      " 8   latitudinal_distance   7506 non-null   float64\n",
      " 9   longitudinal_distance  7506 non-null   float64\n",
      "dtypes: float64(4), int64(4), object(2)\n",
      "memory usage: 645.0+ KB\n"
     ]
    }
   ],
   "source": [
    "g_trng_df.info()"
   ]
  },
  {
   "cell_type": "code",
   "execution_count": 56,
   "id": "fc013da1",
   "metadata": {},
   "outputs": [
    {
     "name": "stdout",
     "output_type": "stream",
     "text": [
      "<class 'pandas.core.frame.DataFrame'>\n",
      "Int64Index: 7506 entries, 2449 to 1295733\n",
      "Data columns (total 10 columns):\n",
      " #   Column                 Non-Null Count  Dtype  \n",
      "---  ------                 --------------  -----  \n",
      " 0   category               7506 non-null   object \n",
      " 1   amt                    7506 non-null   float64\n",
      " 2   gender                 7506 non-null   object \n",
      " 3   city_pop               7506 non-null   int64  \n",
      " 4   is_fraud               7506 non-null   int64  \n",
      " 5   age                    7506 non-null   float64\n",
      " 6   trans_month            7506 non-null   int64  \n",
      " 7   trans_year             7506 non-null   int64  \n",
      " 8   latitudinal_distance   7506 non-null   float64\n",
      " 9   longitudinal_distance  7506 non-null   float64\n",
      "dtypes: float64(4), int64(4), object(2)\n",
      "memory usage: 645.0+ KB\n"
     ]
    }
   ],
   "source": [
    "f_trng_df.info()"
   ]
  },
  {
   "cell_type": "code",
   "execution_count": 57,
   "id": "2ea69270",
   "metadata": {},
   "outputs": [],
   "source": [
    "balanced_trng_df = pd.concat([g_trng_df, f_trng_df], axis=0)"
   ]
  },
  {
   "cell_type": "code",
   "execution_count": 58,
   "id": "da55a635",
   "metadata": {},
   "outputs": [
    {
     "name": "stdout",
     "output_type": "stream",
     "text": [
      "<class 'pandas.core.frame.DataFrame'>\n",
      "Int64Index: 15012 entries, 1065308 to 1295733\n",
      "Data columns (total 10 columns):\n",
      " #   Column                 Non-Null Count  Dtype  \n",
      "---  ------                 --------------  -----  \n",
      " 0   category               15012 non-null  object \n",
      " 1   amt                    15012 non-null  float64\n",
      " 2   gender                 15012 non-null  object \n",
      " 3   city_pop               15012 non-null  int64  \n",
      " 4   is_fraud               15012 non-null  int64  \n",
      " 5   age                    15012 non-null  float64\n",
      " 6   trans_month            15012 non-null  int64  \n",
      " 7   trans_year             15012 non-null  int64  \n",
      " 8   latitudinal_distance   15012 non-null  float64\n",
      " 9   longitudinal_distance  15012 non-null  float64\n",
      "dtypes: float64(4), int64(4), object(2)\n",
      "memory usage: 1.3+ MB\n"
     ]
    }
   ],
   "source": [
    "balanced_trng_df.info()"
   ]
  },
  {
   "cell_type": "code",
   "execution_count": 60,
   "id": "32c53925",
   "metadata": {},
   "outputs": [],
   "source": [
    "balanced_trng_df.gender = balanced_trng_df.gender.apply(lambda x: 1 if x==\"M\" else 0)"
   ]
  },
  {
   "cell_type": "code",
   "execution_count": 61,
   "id": "7ba03d43",
   "metadata": {},
   "outputs": [
    {
     "name": "stdout",
     "output_type": "stream",
     "text": [
      "<class 'pandas.core.frame.DataFrame'>\n",
      "Int64Index: 15012 entries, 1065308 to 1295733\n",
      "Data columns (total 10 columns):\n",
      " #   Column                 Non-Null Count  Dtype  \n",
      "---  ------                 --------------  -----  \n",
      " 0   category               15012 non-null  object \n",
      " 1   amt                    15012 non-null  float64\n",
      " 2   gender                 15012 non-null  int64  \n",
      " 3   city_pop               15012 non-null  int64  \n",
      " 4   is_fraud               15012 non-null  int64  \n",
      " 5   age                    15012 non-null  float64\n",
      " 6   trans_month            15012 non-null  int64  \n",
      " 7   trans_year             15012 non-null  int64  \n",
      " 8   latitudinal_distance   15012 non-null  float64\n",
      " 9   longitudinal_distance  15012 non-null  float64\n",
      "dtypes: float64(4), int64(5), object(1)\n",
      "memory usage: 1.3+ MB\n"
     ]
    }
   ],
   "source": [
    "balanced_trng_df.info()"
   ]
  },
  {
   "cell_type": "code",
   "execution_count": 62,
   "id": "8a5922a2",
   "metadata": {},
   "outputs": [
    {
     "data": {
      "text/html": [
       "<div>\n",
       "<style scoped>\n",
       "    .dataframe tbody tr th:only-of-type {\n",
       "        vertical-align: middle;\n",
       "    }\n",
       "\n",
       "    .dataframe tbody tr th {\n",
       "        vertical-align: top;\n",
       "    }\n",
       "\n",
       "    .dataframe thead th {\n",
       "        text-align: right;\n",
       "    }\n",
       "</style>\n",
       "<table border=\"1\" class=\"dataframe\">\n",
       "  <thead>\n",
       "    <tr style=\"text-align: right;\">\n",
       "      <th></th>\n",
       "      <th>category</th>\n",
       "      <th>amt</th>\n",
       "      <th>gender</th>\n",
       "      <th>city_pop</th>\n",
       "      <th>is_fraud</th>\n",
       "      <th>age</th>\n",
       "      <th>trans_month</th>\n",
       "      <th>trans_year</th>\n",
       "      <th>latitudinal_distance</th>\n",
       "      <th>longitudinal_distance</th>\n",
       "    </tr>\n",
       "  </thead>\n",
       "  <tbody>\n",
       "    <tr>\n",
       "      <th>1065308</th>\n",
       "      <td>personal_care</td>\n",
       "      <td>80.60</td>\n",
       "      <td>0</td>\n",
       "      <td>4056</td>\n",
       "      <td>0</td>\n",
       "      <td>29.0</td>\n",
       "      <td>3</td>\n",
       "      <td>2020</td>\n",
       "      <td>0.914</td>\n",
       "      <td>0.793</td>\n",
       "    </tr>\n",
       "    <tr>\n",
       "      <th>824708</th>\n",
       "      <td>health_fitness</td>\n",
       "      <td>22.87</td>\n",
       "      <td>1</td>\n",
       "      <td>653</td>\n",
       "      <td>0</td>\n",
       "      <td>53.0</td>\n",
       "      <td>12</td>\n",
       "      <td>2019</td>\n",
       "      <td>0.286</td>\n",
       "      <td>0.985</td>\n",
       "    </tr>\n",
       "    <tr>\n",
       "      <th>1044395</th>\n",
       "      <td>grocery_pos</td>\n",
       "      <td>61.93</td>\n",
       "      <td>1</td>\n",
       "      <td>9815</td>\n",
       "      <td>0</td>\n",
       "      <td>44.0</td>\n",
       "      <td>3</td>\n",
       "      <td>2020</td>\n",
       "      <td>0.339</td>\n",
       "      <td>0.467</td>\n",
       "    </tr>\n",
       "    <tr>\n",
       "      <th>1199688</th>\n",
       "      <td>kids_pets</td>\n",
       "      <td>46.27</td>\n",
       "      <td>0</td>\n",
       "      <td>391389</td>\n",
       "      <td>0</td>\n",
       "      <td>26.0</td>\n",
       "      <td>5</td>\n",
       "      <td>2020</td>\n",
       "      <td>0.387</td>\n",
       "      <td>0.207</td>\n",
       "    </tr>\n",
       "    <tr>\n",
       "      <th>333814</th>\n",
       "      <td>gas_transport</td>\n",
       "      <td>71.90</td>\n",
       "      <td>1</td>\n",
       "      <td>198</td>\n",
       "      <td>0</td>\n",
       "      <td>40.0</td>\n",
       "      <td>6</td>\n",
       "      <td>2019</td>\n",
       "      <td>0.027</td>\n",
       "      <td>0.978</td>\n",
       "    </tr>\n",
       "  </tbody>\n",
       "</table>\n",
       "</div>"
      ],
      "text/plain": [
       "               category    amt  gender  city_pop  is_fraud   age  trans_month  \\\n",
       "1065308   personal_care  80.60       0      4056         0  29.0            3   \n",
       "824708   health_fitness  22.87       1       653         0  53.0           12   \n",
       "1044395     grocery_pos  61.93       1      9815         0  44.0            3   \n",
       "1199688       kids_pets  46.27       0    391389         0  26.0            5   \n",
       "333814    gas_transport  71.90       1       198         0  40.0            6   \n",
       "\n",
       "         trans_year  latitudinal_distance  longitudinal_distance  \n",
       "1065308        2020                 0.914                  0.793  \n",
       "824708         2019                 0.286                  0.985  \n",
       "1044395        2020                 0.339                  0.467  \n",
       "1199688        2020                 0.387                  0.207  \n",
       "333814         2019                 0.027                  0.978  "
      ]
     },
     "execution_count": 62,
     "metadata": {},
     "output_type": "execute_result"
    }
   ],
   "source": [
    "balanced_trng_df.head()"
   ]
  },
  {
   "cell_type": "code",
   "execution_count": 63,
   "id": "f9eb0e27",
   "metadata": {},
   "outputs": [],
   "source": [
    "X_train = balanced_trng_df.drop('is_fraud', axis=1)\n",
    "y_train = balanced_trng_df['is_fraud']"
   ]
  },
  {
   "cell_type": "code",
   "execution_count": 66,
   "id": "3dfa28f4",
   "metadata": {},
   "outputs": [
    {
     "data": {
      "text/plain": [
       "1065308    0\n",
       "824708     0\n",
       "1044395    0\n",
       "1199688    0\n",
       "333814     0\n",
       "Name: is_fraud, dtype: int64"
      ]
     },
     "execution_count": 66,
     "metadata": {},
     "output_type": "execute_result"
    }
   ],
   "source": [
    "y_train.head()"
   ]
  },
  {
   "cell_type": "code",
   "execution_count": 69,
   "id": "8882c0bf",
   "metadata": {},
   "outputs": [
    {
     "name": "stdout",
     "output_type": "stream",
     "text": [
      "Collecting imblearn\n",
      "  Downloading imblearn-0.0-py2.py3-none-any.whl (1.9 kB)\n",
      "Collecting imbalanced-learn\n",
      "  Downloading imbalanced_learn-0.11.0-py3-none-any.whl (235 kB)\n",
      "\u001b[K     |████████████████████████████████| 235 kB 1.7 MB/s eta 0:00:01\n",
      "\u001b[?25hCollecting joblib>=1.1.1\n",
      "  Downloading joblib-1.3.2-py3-none-any.whl (302 kB)\n",
      "\u001b[K     |████████████████████████████████| 302 kB 3.0 MB/s eta 0:00:01\n",
      "\u001b[?25hRequirement already satisfied: numpy>=1.17.3 in /Users/rahulsunkari/opt/anaconda3/lib/python3.9/site-packages (from imbalanced-learn->imblearn) (1.21.5)\n",
      "Requirement already satisfied: scipy>=1.5.0 in /Users/rahulsunkari/opt/anaconda3/lib/python3.9/site-packages (from imbalanced-learn->imblearn) (1.7.3)\n",
      "Requirement already satisfied: scikit-learn>=1.0.2 in /Users/rahulsunkari/opt/anaconda3/lib/python3.9/site-packages (from imbalanced-learn->imblearn) (1.0.2)\n",
      "Requirement already satisfied: threadpoolctl>=2.0.0 in /Users/rahulsunkari/opt/anaconda3/lib/python3.9/site-packages (from imbalanced-learn->imblearn) (2.2.0)\n",
      "Installing collected packages: joblib, imbalanced-learn, imblearn\n",
      "  Attempting uninstall: joblib\n",
      "    Found existing installation: joblib 1.1.0\n",
      "    Uninstalling joblib-1.1.0:\n",
      "      Successfully uninstalled joblib-1.1.0\n",
      "Successfully installed imbalanced-learn-0.11.0 imblearn-0.0 joblib-1.3.2\n",
      "Note: you may need to restart the kernel to use updated packages.\n"
     ]
    }
   ],
   "source": [
    "pip install imblearn"
   ]
  },
  {
   "cell_type": "code",
   "execution_count": 70,
   "id": "e6270baf",
   "metadata": {},
   "outputs": [],
   "source": [
    "from imblearn.over_sampling import SMOTE"
   ]
  },
  {
   "cell_type": "code",
   "execution_count": 72,
   "id": "0c9834e4",
   "metadata": {},
   "outputs": [],
   "source": [
    "smote = SMOTE(random_state=42)"
   ]
  },
  {
   "cell_type": "code",
   "execution_count": 73,
   "id": "b752e5ce",
   "metadata": {},
   "outputs": [
    {
     "ename": "ValueError",
     "evalue": "could not convert string to float: 'personal_care'",
     "output_type": "error",
     "traceback": [
      "\u001b[0;31m---------------------------------------------------------------------------\u001b[0m",
      "\u001b[0;31mValueError\u001b[0m                                Traceback (most recent call last)",
      "Input \u001b[0;32mIn [73]\u001b[0m, in \u001b[0;36m<cell line: 1>\u001b[0;34m()\u001b[0m\n\u001b[0;32m----> 1\u001b[0m X_train, y_train \u001b[38;5;241m=\u001b[39m \u001b[43msmote\u001b[49m\u001b[38;5;241;43m.\u001b[39;49m\u001b[43mfit_resample\u001b[49m\u001b[43m(\u001b[49m\u001b[43mX_train\u001b[49m\u001b[43m,\u001b[49m\u001b[43m \u001b[49m\u001b[43my_train\u001b[49m\u001b[43m)\u001b[49m\n",
      "File \u001b[0;32m~/opt/anaconda3/lib/python3.9/site-packages/imblearn/base.py:208\u001b[0m, in \u001b[0;36mBaseSampler.fit_resample\u001b[0;34m(self, X, y)\u001b[0m\n\u001b[1;32m    187\u001b[0m \u001b[38;5;124;03m\"\"\"Resample the dataset.\u001b[39;00m\n\u001b[1;32m    188\u001b[0m \n\u001b[1;32m    189\u001b[0m \u001b[38;5;124;03mParameters\u001b[39;00m\n\u001b[0;32m   (...)\u001b[0m\n\u001b[1;32m    205\u001b[0m \u001b[38;5;124;03m    The corresponding label of `X_resampled`.\u001b[39;00m\n\u001b[1;32m    206\u001b[0m \u001b[38;5;124;03m\"\"\"\u001b[39;00m\n\u001b[1;32m    207\u001b[0m \u001b[38;5;28mself\u001b[39m\u001b[38;5;241m.\u001b[39m_validate_params()\n\u001b[0;32m--> 208\u001b[0m \u001b[38;5;28;01mreturn\u001b[39;00m \u001b[38;5;28;43msuper\u001b[39;49m\u001b[43m(\u001b[49m\u001b[43m)\u001b[49m\u001b[38;5;241;43m.\u001b[39;49m\u001b[43mfit_resample\u001b[49m\u001b[43m(\u001b[49m\u001b[43mX\u001b[49m\u001b[43m,\u001b[49m\u001b[43m \u001b[49m\u001b[43my\u001b[49m\u001b[43m)\u001b[49m\n",
      "File \u001b[0;32m~/opt/anaconda3/lib/python3.9/site-packages/imblearn/base.py:106\u001b[0m, in \u001b[0;36mSamplerMixin.fit_resample\u001b[0;34m(self, X, y)\u001b[0m\n\u001b[1;32m    104\u001b[0m check_classification_targets(y)\n\u001b[1;32m    105\u001b[0m arrays_transformer \u001b[38;5;241m=\u001b[39m ArraysTransformer(X, y)\n\u001b[0;32m--> 106\u001b[0m X, y, binarize_y \u001b[38;5;241m=\u001b[39m \u001b[38;5;28;43mself\u001b[39;49m\u001b[38;5;241;43m.\u001b[39;49m\u001b[43m_check_X_y\u001b[49m\u001b[43m(\u001b[49m\u001b[43mX\u001b[49m\u001b[43m,\u001b[49m\u001b[43m \u001b[49m\u001b[43my\u001b[49m\u001b[43m)\u001b[49m\n\u001b[1;32m    108\u001b[0m \u001b[38;5;28mself\u001b[39m\u001b[38;5;241m.\u001b[39msampling_strategy_ \u001b[38;5;241m=\u001b[39m check_sampling_strategy(\n\u001b[1;32m    109\u001b[0m     \u001b[38;5;28mself\u001b[39m\u001b[38;5;241m.\u001b[39msampling_strategy, y, \u001b[38;5;28mself\u001b[39m\u001b[38;5;241m.\u001b[39m_sampling_type\n\u001b[1;32m    110\u001b[0m )\n\u001b[1;32m    112\u001b[0m output \u001b[38;5;241m=\u001b[39m \u001b[38;5;28mself\u001b[39m\u001b[38;5;241m.\u001b[39m_fit_resample(X, y)\n",
      "File \u001b[0;32m~/opt/anaconda3/lib/python3.9/site-packages/imblearn/base.py:161\u001b[0m, in \u001b[0;36mBaseSampler._check_X_y\u001b[0;34m(self, X, y, accept_sparse)\u001b[0m\n\u001b[1;32m    159\u001b[0m     accept_sparse \u001b[38;5;241m=\u001b[39m [\u001b[38;5;124m\"\u001b[39m\u001b[38;5;124mcsr\u001b[39m\u001b[38;5;124m\"\u001b[39m, \u001b[38;5;124m\"\u001b[39m\u001b[38;5;124mcsc\u001b[39m\u001b[38;5;124m\"\u001b[39m]\n\u001b[1;32m    160\u001b[0m y, binarize_y \u001b[38;5;241m=\u001b[39m check_target_type(y, indicate_one_vs_all\u001b[38;5;241m=\u001b[39m\u001b[38;5;28;01mTrue\u001b[39;00m)\n\u001b[0;32m--> 161\u001b[0m X, y \u001b[38;5;241m=\u001b[39m \u001b[38;5;28;43mself\u001b[39;49m\u001b[38;5;241;43m.\u001b[39;49m\u001b[43m_validate_data\u001b[49m\u001b[43m(\u001b[49m\u001b[43mX\u001b[49m\u001b[43m,\u001b[49m\u001b[43m \u001b[49m\u001b[43my\u001b[49m\u001b[43m,\u001b[49m\u001b[43m \u001b[49m\u001b[43mreset\u001b[49m\u001b[38;5;241;43m=\u001b[39;49m\u001b[38;5;28;43;01mTrue\u001b[39;49;00m\u001b[43m,\u001b[49m\u001b[43m \u001b[49m\u001b[43maccept_sparse\u001b[49m\u001b[38;5;241;43m=\u001b[39;49m\u001b[43maccept_sparse\u001b[49m\u001b[43m)\u001b[49m\n\u001b[1;32m    162\u001b[0m \u001b[38;5;28;01mreturn\u001b[39;00m X, y, binarize_y\n",
      "File \u001b[0;32m~/opt/anaconda3/lib/python3.9/site-packages/sklearn/base.py:581\u001b[0m, in \u001b[0;36mBaseEstimator._validate_data\u001b[0;34m(self, X, y, reset, validate_separately, **check_params)\u001b[0m\n\u001b[1;32m    579\u001b[0m         y \u001b[38;5;241m=\u001b[39m check_array(y, \u001b[38;5;241m*\u001b[39m\u001b[38;5;241m*\u001b[39mcheck_y_params)\n\u001b[1;32m    580\u001b[0m     \u001b[38;5;28;01melse\u001b[39;00m:\n\u001b[0;32m--> 581\u001b[0m         X, y \u001b[38;5;241m=\u001b[39m \u001b[43mcheck_X_y\u001b[49m\u001b[43m(\u001b[49m\u001b[43mX\u001b[49m\u001b[43m,\u001b[49m\u001b[43m \u001b[49m\u001b[43my\u001b[49m\u001b[43m,\u001b[49m\u001b[43m \u001b[49m\u001b[38;5;241;43m*\u001b[39;49m\u001b[38;5;241;43m*\u001b[39;49m\u001b[43mcheck_params\u001b[49m\u001b[43m)\u001b[49m\n\u001b[1;32m    582\u001b[0m     out \u001b[38;5;241m=\u001b[39m X, y\n\u001b[1;32m    584\u001b[0m \u001b[38;5;28;01mif\u001b[39;00m \u001b[38;5;129;01mnot\u001b[39;00m no_val_X \u001b[38;5;129;01mand\u001b[39;00m check_params\u001b[38;5;241m.\u001b[39mget(\u001b[38;5;124m\"\u001b[39m\u001b[38;5;124mensure_2d\u001b[39m\u001b[38;5;124m\"\u001b[39m, \u001b[38;5;28;01mTrue\u001b[39;00m):\n",
      "File \u001b[0;32m~/opt/anaconda3/lib/python3.9/site-packages/sklearn/utils/validation.py:964\u001b[0m, in \u001b[0;36mcheck_X_y\u001b[0;34m(X, y, accept_sparse, accept_large_sparse, dtype, order, copy, force_all_finite, ensure_2d, allow_nd, multi_output, ensure_min_samples, ensure_min_features, y_numeric, estimator)\u001b[0m\n\u001b[1;32m    961\u001b[0m \u001b[38;5;28;01mif\u001b[39;00m y \u001b[38;5;129;01mis\u001b[39;00m \u001b[38;5;28;01mNone\u001b[39;00m:\n\u001b[1;32m    962\u001b[0m     \u001b[38;5;28;01mraise\u001b[39;00m \u001b[38;5;167;01mValueError\u001b[39;00m(\u001b[38;5;124m\"\u001b[39m\u001b[38;5;124my cannot be None\u001b[39m\u001b[38;5;124m\"\u001b[39m)\n\u001b[0;32m--> 964\u001b[0m X \u001b[38;5;241m=\u001b[39m \u001b[43mcheck_array\u001b[49m\u001b[43m(\u001b[49m\n\u001b[1;32m    965\u001b[0m \u001b[43m    \u001b[49m\u001b[43mX\u001b[49m\u001b[43m,\u001b[49m\n\u001b[1;32m    966\u001b[0m \u001b[43m    \u001b[49m\u001b[43maccept_sparse\u001b[49m\u001b[38;5;241;43m=\u001b[39;49m\u001b[43maccept_sparse\u001b[49m\u001b[43m,\u001b[49m\n\u001b[1;32m    967\u001b[0m \u001b[43m    \u001b[49m\u001b[43maccept_large_sparse\u001b[49m\u001b[38;5;241;43m=\u001b[39;49m\u001b[43maccept_large_sparse\u001b[49m\u001b[43m,\u001b[49m\n\u001b[1;32m    968\u001b[0m \u001b[43m    \u001b[49m\u001b[43mdtype\u001b[49m\u001b[38;5;241;43m=\u001b[39;49m\u001b[43mdtype\u001b[49m\u001b[43m,\u001b[49m\n\u001b[1;32m    969\u001b[0m \u001b[43m    \u001b[49m\u001b[43morder\u001b[49m\u001b[38;5;241;43m=\u001b[39;49m\u001b[43morder\u001b[49m\u001b[43m,\u001b[49m\n\u001b[1;32m    970\u001b[0m \u001b[43m    \u001b[49m\u001b[43mcopy\u001b[49m\u001b[38;5;241;43m=\u001b[39;49m\u001b[43mcopy\u001b[49m\u001b[43m,\u001b[49m\n\u001b[1;32m    971\u001b[0m \u001b[43m    \u001b[49m\u001b[43mforce_all_finite\u001b[49m\u001b[38;5;241;43m=\u001b[39;49m\u001b[43mforce_all_finite\u001b[49m\u001b[43m,\u001b[49m\n\u001b[1;32m    972\u001b[0m \u001b[43m    \u001b[49m\u001b[43mensure_2d\u001b[49m\u001b[38;5;241;43m=\u001b[39;49m\u001b[43mensure_2d\u001b[49m\u001b[43m,\u001b[49m\n\u001b[1;32m    973\u001b[0m \u001b[43m    \u001b[49m\u001b[43mallow_nd\u001b[49m\u001b[38;5;241;43m=\u001b[39;49m\u001b[43mallow_nd\u001b[49m\u001b[43m,\u001b[49m\n\u001b[1;32m    974\u001b[0m \u001b[43m    \u001b[49m\u001b[43mensure_min_samples\u001b[49m\u001b[38;5;241;43m=\u001b[39;49m\u001b[43mensure_min_samples\u001b[49m\u001b[43m,\u001b[49m\n\u001b[1;32m    975\u001b[0m \u001b[43m    \u001b[49m\u001b[43mensure_min_features\u001b[49m\u001b[38;5;241;43m=\u001b[39;49m\u001b[43mensure_min_features\u001b[49m\u001b[43m,\u001b[49m\n\u001b[1;32m    976\u001b[0m \u001b[43m    \u001b[49m\u001b[43mestimator\u001b[49m\u001b[38;5;241;43m=\u001b[39;49m\u001b[43mestimator\u001b[49m\u001b[43m,\u001b[49m\n\u001b[1;32m    977\u001b[0m \u001b[43m\u001b[49m\u001b[43m)\u001b[49m\n\u001b[1;32m    979\u001b[0m y \u001b[38;5;241m=\u001b[39m _check_y(y, multi_output\u001b[38;5;241m=\u001b[39mmulti_output, y_numeric\u001b[38;5;241m=\u001b[39my_numeric)\n\u001b[1;32m    981\u001b[0m check_consistent_length(X, y)\n",
      "File \u001b[0;32m~/opt/anaconda3/lib/python3.9/site-packages/sklearn/utils/validation.py:746\u001b[0m, in \u001b[0;36mcheck_array\u001b[0;34m(array, accept_sparse, accept_large_sparse, dtype, order, copy, force_all_finite, ensure_2d, allow_nd, ensure_min_samples, ensure_min_features, estimator)\u001b[0m\n\u001b[1;32m    744\u001b[0m         array \u001b[38;5;241m=\u001b[39m array\u001b[38;5;241m.\u001b[39mastype(dtype, casting\u001b[38;5;241m=\u001b[39m\u001b[38;5;124m\"\u001b[39m\u001b[38;5;124munsafe\u001b[39m\u001b[38;5;124m\"\u001b[39m, copy\u001b[38;5;241m=\u001b[39m\u001b[38;5;28;01mFalse\u001b[39;00m)\n\u001b[1;32m    745\u001b[0m     \u001b[38;5;28;01melse\u001b[39;00m:\n\u001b[0;32m--> 746\u001b[0m         array \u001b[38;5;241m=\u001b[39m \u001b[43mnp\u001b[49m\u001b[38;5;241;43m.\u001b[39;49m\u001b[43masarray\u001b[49m\u001b[43m(\u001b[49m\u001b[43marray\u001b[49m\u001b[43m,\u001b[49m\u001b[43m \u001b[49m\u001b[43morder\u001b[49m\u001b[38;5;241;43m=\u001b[39;49m\u001b[43morder\u001b[49m\u001b[43m,\u001b[49m\u001b[43m \u001b[49m\u001b[43mdtype\u001b[49m\u001b[38;5;241;43m=\u001b[39;49m\u001b[43mdtype\u001b[49m\u001b[43m)\u001b[49m\n\u001b[1;32m    747\u001b[0m \u001b[38;5;28;01mexcept\u001b[39;00m ComplexWarning \u001b[38;5;28;01mas\u001b[39;00m complex_warning:\n\u001b[1;32m    748\u001b[0m     \u001b[38;5;28;01mraise\u001b[39;00m \u001b[38;5;167;01mValueError\u001b[39;00m(\n\u001b[1;32m    749\u001b[0m         \u001b[38;5;124m\"\u001b[39m\u001b[38;5;124mComplex data not supported\u001b[39m\u001b[38;5;130;01m\\n\u001b[39;00m\u001b[38;5;132;01m{}\u001b[39;00m\u001b[38;5;130;01m\\n\u001b[39;00m\u001b[38;5;124m\"\u001b[39m\u001b[38;5;241m.\u001b[39mformat(array)\n\u001b[1;32m    750\u001b[0m     ) \u001b[38;5;28;01mfrom\u001b[39;00m \u001b[38;5;21;01mcomplex_warning\u001b[39;00m\n",
      "File \u001b[0;32m~/opt/anaconda3/lib/python3.9/site-packages/pandas/core/generic.py:2064\u001b[0m, in \u001b[0;36mNDFrame.__array__\u001b[0;34m(self, dtype)\u001b[0m\n\u001b[1;32m   2063\u001b[0m \u001b[38;5;28;01mdef\u001b[39;00m \u001b[38;5;21m__array__\u001b[39m(\u001b[38;5;28mself\u001b[39m, dtype: npt\u001b[38;5;241m.\u001b[39mDTypeLike \u001b[38;5;241m|\u001b[39m \u001b[38;5;28;01mNone\u001b[39;00m \u001b[38;5;241m=\u001b[39m \u001b[38;5;28;01mNone\u001b[39;00m) \u001b[38;5;241m-\u001b[39m\u001b[38;5;241m>\u001b[39m np\u001b[38;5;241m.\u001b[39mndarray:\n\u001b[0;32m-> 2064\u001b[0m     \u001b[38;5;28;01mreturn\u001b[39;00m \u001b[43mnp\u001b[49m\u001b[38;5;241;43m.\u001b[39;49m\u001b[43masarray\u001b[49m\u001b[43m(\u001b[49m\u001b[38;5;28;43mself\u001b[39;49m\u001b[38;5;241;43m.\u001b[39;49m\u001b[43m_values\u001b[49m\u001b[43m,\u001b[49m\u001b[43m \u001b[49m\u001b[43mdtype\u001b[49m\u001b[38;5;241;43m=\u001b[39;49m\u001b[43mdtype\u001b[49m\u001b[43m)\u001b[49m\n",
      "\u001b[0;31mValueError\u001b[0m: could not convert string to float: 'personal_care'"
     ]
    }
   ],
   "source": [
    "X_train, y_train = smote.fit_resample(X_train, y_train)"
   ]
  },
  {
   "cell_type": "code",
   "execution_count": 74,
   "id": "77fcaf49",
   "metadata": {},
   "outputs": [
    {
     "data": {
      "text/plain": [
       "array(['personal_care', 'health_fitness', 'grocery_pos', 'kids_pets',\n",
       "       'gas_transport', 'home', 'misc_pos', 'grocery_net', 'shopping_net',\n",
       "       'shopping_pos', 'misc_net', 'travel', 'food_dining',\n",
       "       'entertainment'], dtype=object)"
      ]
     },
     "execution_count": 74,
     "metadata": {},
     "output_type": "execute_result"
    }
   ],
   "source": [
    "balanced_trng_df['category'].unique()"
   ]
  },
  {
   "cell_type": "code",
   "execution_count": 77,
   "id": "131db719",
   "metadata": {},
   "outputs": [
    {
     "data": {
      "text/plain": [
       "array(['personal_care', 'health_fitness', 'grocery_pos', 'kids_pets',\n",
       "       'gas_transport', 'home', 'misc_pos', 'grocery_net', 'shopping_net',\n",
       "       'shopping_pos', 'misc_net', 'travel', 'food_dining',\n",
       "       'entertainment'], dtype=object)"
      ]
     },
     "execution_count": 77,
     "metadata": {},
     "output_type": "execute_result"
    }
   ],
   "source": [
    "balanced_trng_df['category'].unique()"
   ]
  },
  {
   "cell_type": "code",
   "execution_count": 80,
   "id": "f5af1083",
   "metadata": {},
   "outputs": [],
   "source": [
    "balanced_trng_df = pd.get_dummies(balanced_trng_df, columns=['category'], prefix='category')"
   ]
  },
  {
   "cell_type": "code",
   "execution_count": 81,
   "id": "83632b37",
   "metadata": {},
   "outputs": [
    {
     "data": {
      "text/html": [
       "<div>\n",
       "<style scoped>\n",
       "    .dataframe tbody tr th:only-of-type {\n",
       "        vertical-align: middle;\n",
       "    }\n",
       "\n",
       "    .dataframe tbody tr th {\n",
       "        vertical-align: top;\n",
       "    }\n",
       "\n",
       "    .dataframe thead th {\n",
       "        text-align: right;\n",
       "    }\n",
       "</style>\n",
       "<table border=\"1\" class=\"dataframe\">\n",
       "  <thead>\n",
       "    <tr style=\"text-align: right;\">\n",
       "      <th></th>\n",
       "      <th>amt</th>\n",
       "      <th>gender</th>\n",
       "      <th>city_pop</th>\n",
       "      <th>is_fraud</th>\n",
       "      <th>age</th>\n",
       "      <th>trans_month</th>\n",
       "      <th>trans_year</th>\n",
       "      <th>latitudinal_distance</th>\n",
       "      <th>longitudinal_distance</th>\n",
       "      <th>category_entertainment</th>\n",
       "      <th>...</th>\n",
       "      <th>category_grocery_pos</th>\n",
       "      <th>category_health_fitness</th>\n",
       "      <th>category_home</th>\n",
       "      <th>category_kids_pets</th>\n",
       "      <th>category_misc_net</th>\n",
       "      <th>category_misc_pos</th>\n",
       "      <th>category_personal_care</th>\n",
       "      <th>category_shopping_net</th>\n",
       "      <th>category_shopping_pos</th>\n",
       "      <th>category_travel</th>\n",
       "    </tr>\n",
       "  </thead>\n",
       "  <tbody>\n",
       "    <tr>\n",
       "      <th>1065308</th>\n",
       "      <td>80.60</td>\n",
       "      <td>0</td>\n",
       "      <td>4056</td>\n",
       "      <td>0</td>\n",
       "      <td>29.0</td>\n",
       "      <td>3</td>\n",
       "      <td>2020</td>\n",
       "      <td>0.914</td>\n",
       "      <td>0.793</td>\n",
       "      <td>0</td>\n",
       "      <td>...</td>\n",
       "      <td>0</td>\n",
       "      <td>0</td>\n",
       "      <td>0</td>\n",
       "      <td>0</td>\n",
       "      <td>0</td>\n",
       "      <td>0</td>\n",
       "      <td>1</td>\n",
       "      <td>0</td>\n",
       "      <td>0</td>\n",
       "      <td>0</td>\n",
       "    </tr>\n",
       "    <tr>\n",
       "      <th>824708</th>\n",
       "      <td>22.87</td>\n",
       "      <td>1</td>\n",
       "      <td>653</td>\n",
       "      <td>0</td>\n",
       "      <td>53.0</td>\n",
       "      <td>12</td>\n",
       "      <td>2019</td>\n",
       "      <td>0.286</td>\n",
       "      <td>0.985</td>\n",
       "      <td>0</td>\n",
       "      <td>...</td>\n",
       "      <td>0</td>\n",
       "      <td>1</td>\n",
       "      <td>0</td>\n",
       "      <td>0</td>\n",
       "      <td>0</td>\n",
       "      <td>0</td>\n",
       "      <td>0</td>\n",
       "      <td>0</td>\n",
       "      <td>0</td>\n",
       "      <td>0</td>\n",
       "    </tr>\n",
       "    <tr>\n",
       "      <th>1044395</th>\n",
       "      <td>61.93</td>\n",
       "      <td>1</td>\n",
       "      <td>9815</td>\n",
       "      <td>0</td>\n",
       "      <td>44.0</td>\n",
       "      <td>3</td>\n",
       "      <td>2020</td>\n",
       "      <td>0.339</td>\n",
       "      <td>0.467</td>\n",
       "      <td>0</td>\n",
       "      <td>...</td>\n",
       "      <td>1</td>\n",
       "      <td>0</td>\n",
       "      <td>0</td>\n",
       "      <td>0</td>\n",
       "      <td>0</td>\n",
       "      <td>0</td>\n",
       "      <td>0</td>\n",
       "      <td>0</td>\n",
       "      <td>0</td>\n",
       "      <td>0</td>\n",
       "    </tr>\n",
       "    <tr>\n",
       "      <th>1199688</th>\n",
       "      <td>46.27</td>\n",
       "      <td>0</td>\n",
       "      <td>391389</td>\n",
       "      <td>0</td>\n",
       "      <td>26.0</td>\n",
       "      <td>5</td>\n",
       "      <td>2020</td>\n",
       "      <td>0.387</td>\n",
       "      <td>0.207</td>\n",
       "      <td>0</td>\n",
       "      <td>...</td>\n",
       "      <td>0</td>\n",
       "      <td>0</td>\n",
       "      <td>0</td>\n",
       "      <td>1</td>\n",
       "      <td>0</td>\n",
       "      <td>0</td>\n",
       "      <td>0</td>\n",
       "      <td>0</td>\n",
       "      <td>0</td>\n",
       "      <td>0</td>\n",
       "    </tr>\n",
       "    <tr>\n",
       "      <th>333814</th>\n",
       "      <td>71.90</td>\n",
       "      <td>1</td>\n",
       "      <td>198</td>\n",
       "      <td>0</td>\n",
       "      <td>40.0</td>\n",
       "      <td>6</td>\n",
       "      <td>2019</td>\n",
       "      <td>0.027</td>\n",
       "      <td>0.978</td>\n",
       "      <td>0</td>\n",
       "      <td>...</td>\n",
       "      <td>0</td>\n",
       "      <td>0</td>\n",
       "      <td>0</td>\n",
       "      <td>0</td>\n",
       "      <td>0</td>\n",
       "      <td>0</td>\n",
       "      <td>0</td>\n",
       "      <td>0</td>\n",
       "      <td>0</td>\n",
       "      <td>0</td>\n",
       "    </tr>\n",
       "  </tbody>\n",
       "</table>\n",
       "<p>5 rows × 23 columns</p>\n",
       "</div>"
      ],
      "text/plain": [
       "           amt  gender  city_pop  is_fraud   age  trans_month  trans_year  \\\n",
       "1065308  80.60       0      4056         0  29.0            3        2020   \n",
       "824708   22.87       1       653         0  53.0           12        2019   \n",
       "1044395  61.93       1      9815         0  44.0            3        2020   \n",
       "1199688  46.27       0    391389         0  26.0            5        2020   \n",
       "333814   71.90       1       198         0  40.0            6        2019   \n",
       "\n",
       "         latitudinal_distance  longitudinal_distance  category_entertainment  \\\n",
       "1065308                 0.914                  0.793                       0   \n",
       "824708                  0.286                  0.985                       0   \n",
       "1044395                 0.339                  0.467                       0   \n",
       "1199688                 0.387                  0.207                       0   \n",
       "333814                  0.027                  0.978                       0   \n",
       "\n",
       "         ...  category_grocery_pos  category_health_fitness  category_home  \\\n",
       "1065308  ...                     0                        0              0   \n",
       "824708   ...                     0                        1              0   \n",
       "1044395  ...                     1                        0              0   \n",
       "1199688  ...                     0                        0              0   \n",
       "333814   ...                     0                        0              0   \n",
       "\n",
       "         category_kids_pets  category_misc_net  category_misc_pos  \\\n",
       "1065308                   0                  0                  0   \n",
       "824708                    0                  0                  0   \n",
       "1044395                   0                  0                  0   \n",
       "1199688                   1                  0                  0   \n",
       "333814                    0                  0                  0   \n",
       "\n",
       "         category_personal_care  category_shopping_net  category_shopping_pos  \\\n",
       "1065308                       1                      0                      0   \n",
       "824708                        0                      0                      0   \n",
       "1044395                       0                      0                      0   \n",
       "1199688                       0                      0                      0   \n",
       "333814                        0                      0                      0   \n",
       "\n",
       "         category_travel  \n",
       "1065308                0  \n",
       "824708                 0  \n",
       "1044395                0  \n",
       "1199688                0  \n",
       "333814                 0  \n",
       "\n",
       "[5 rows x 23 columns]"
      ]
     },
     "execution_count": 81,
     "metadata": {},
     "output_type": "execute_result"
    }
   ],
   "source": [
    "balanced_trng_df.head()"
   ]
  },
  {
   "cell_type": "code",
   "execution_count": 82,
   "id": "8e21b9a4",
   "metadata": {},
   "outputs": [],
   "source": [
    "X_train = balanced_trng_df.drop('is_fraud', axis=1)\n",
    "y_train = balanced_trng_df['is_fraud']"
   ]
  },
  {
   "cell_type": "code",
   "execution_count": 83,
   "id": "de3aa7d4",
   "metadata": {},
   "outputs": [
    {
     "data": {
      "text/plain": [
       "1065308    0\n",
       "824708     0\n",
       "1044395    0\n",
       "1199688    0\n",
       "333814     0\n",
       "Name: is_fraud, dtype: int64"
      ]
     },
     "execution_count": 83,
     "metadata": {},
     "output_type": "execute_result"
    }
   ],
   "source": [
    "y_train.head()"
   ]
  },
  {
   "cell_type": "code",
   "execution_count": 84,
   "id": "eb4ba7a6",
   "metadata": {},
   "outputs": [
    {
     "data": {
      "text/html": [
       "<div>\n",
       "<style scoped>\n",
       "    .dataframe tbody tr th:only-of-type {\n",
       "        vertical-align: middle;\n",
       "    }\n",
       "\n",
       "    .dataframe tbody tr th {\n",
       "        vertical-align: top;\n",
       "    }\n",
       "\n",
       "    .dataframe thead th {\n",
       "        text-align: right;\n",
       "    }\n",
       "</style>\n",
       "<table border=\"1\" class=\"dataframe\">\n",
       "  <thead>\n",
       "    <tr style=\"text-align: right;\">\n",
       "      <th></th>\n",
       "      <th>amt</th>\n",
       "      <th>gender</th>\n",
       "      <th>city_pop</th>\n",
       "      <th>age</th>\n",
       "      <th>trans_month</th>\n",
       "      <th>trans_year</th>\n",
       "      <th>latitudinal_distance</th>\n",
       "      <th>longitudinal_distance</th>\n",
       "      <th>category_entertainment</th>\n",
       "      <th>category_food_dining</th>\n",
       "      <th>...</th>\n",
       "      <th>category_grocery_pos</th>\n",
       "      <th>category_health_fitness</th>\n",
       "      <th>category_home</th>\n",
       "      <th>category_kids_pets</th>\n",
       "      <th>category_misc_net</th>\n",
       "      <th>category_misc_pos</th>\n",
       "      <th>category_personal_care</th>\n",
       "      <th>category_shopping_net</th>\n",
       "      <th>category_shopping_pos</th>\n",
       "      <th>category_travel</th>\n",
       "    </tr>\n",
       "  </thead>\n",
       "  <tbody>\n",
       "    <tr>\n",
       "      <th>1065308</th>\n",
       "      <td>80.60</td>\n",
       "      <td>0</td>\n",
       "      <td>4056</td>\n",
       "      <td>29.0</td>\n",
       "      <td>3</td>\n",
       "      <td>2020</td>\n",
       "      <td>0.914</td>\n",
       "      <td>0.793</td>\n",
       "      <td>0</td>\n",
       "      <td>0</td>\n",
       "      <td>...</td>\n",
       "      <td>0</td>\n",
       "      <td>0</td>\n",
       "      <td>0</td>\n",
       "      <td>0</td>\n",
       "      <td>0</td>\n",
       "      <td>0</td>\n",
       "      <td>1</td>\n",
       "      <td>0</td>\n",
       "      <td>0</td>\n",
       "      <td>0</td>\n",
       "    </tr>\n",
       "    <tr>\n",
       "      <th>824708</th>\n",
       "      <td>22.87</td>\n",
       "      <td>1</td>\n",
       "      <td>653</td>\n",
       "      <td>53.0</td>\n",
       "      <td>12</td>\n",
       "      <td>2019</td>\n",
       "      <td>0.286</td>\n",
       "      <td>0.985</td>\n",
       "      <td>0</td>\n",
       "      <td>0</td>\n",
       "      <td>...</td>\n",
       "      <td>0</td>\n",
       "      <td>1</td>\n",
       "      <td>0</td>\n",
       "      <td>0</td>\n",
       "      <td>0</td>\n",
       "      <td>0</td>\n",
       "      <td>0</td>\n",
       "      <td>0</td>\n",
       "      <td>0</td>\n",
       "      <td>0</td>\n",
       "    </tr>\n",
       "    <tr>\n",
       "      <th>1044395</th>\n",
       "      <td>61.93</td>\n",
       "      <td>1</td>\n",
       "      <td>9815</td>\n",
       "      <td>44.0</td>\n",
       "      <td>3</td>\n",
       "      <td>2020</td>\n",
       "      <td>0.339</td>\n",
       "      <td>0.467</td>\n",
       "      <td>0</td>\n",
       "      <td>0</td>\n",
       "      <td>...</td>\n",
       "      <td>1</td>\n",
       "      <td>0</td>\n",
       "      <td>0</td>\n",
       "      <td>0</td>\n",
       "      <td>0</td>\n",
       "      <td>0</td>\n",
       "      <td>0</td>\n",
       "      <td>0</td>\n",
       "      <td>0</td>\n",
       "      <td>0</td>\n",
       "    </tr>\n",
       "    <tr>\n",
       "      <th>1199688</th>\n",
       "      <td>46.27</td>\n",
       "      <td>0</td>\n",
       "      <td>391389</td>\n",
       "      <td>26.0</td>\n",
       "      <td>5</td>\n",
       "      <td>2020</td>\n",
       "      <td>0.387</td>\n",
       "      <td>0.207</td>\n",
       "      <td>0</td>\n",
       "      <td>0</td>\n",
       "      <td>...</td>\n",
       "      <td>0</td>\n",
       "      <td>0</td>\n",
       "      <td>0</td>\n",
       "      <td>1</td>\n",
       "      <td>0</td>\n",
       "      <td>0</td>\n",
       "      <td>0</td>\n",
       "      <td>0</td>\n",
       "      <td>0</td>\n",
       "      <td>0</td>\n",
       "    </tr>\n",
       "    <tr>\n",
       "      <th>333814</th>\n",
       "      <td>71.90</td>\n",
       "      <td>1</td>\n",
       "      <td>198</td>\n",
       "      <td>40.0</td>\n",
       "      <td>6</td>\n",
       "      <td>2019</td>\n",
       "      <td>0.027</td>\n",
       "      <td>0.978</td>\n",
       "      <td>0</td>\n",
       "      <td>0</td>\n",
       "      <td>...</td>\n",
       "      <td>0</td>\n",
       "      <td>0</td>\n",
       "      <td>0</td>\n",
       "      <td>0</td>\n",
       "      <td>0</td>\n",
       "      <td>0</td>\n",
       "      <td>0</td>\n",
       "      <td>0</td>\n",
       "      <td>0</td>\n",
       "      <td>0</td>\n",
       "    </tr>\n",
       "  </tbody>\n",
       "</table>\n",
       "<p>5 rows × 22 columns</p>\n",
       "</div>"
      ],
      "text/plain": [
       "           amt  gender  city_pop   age  trans_month  trans_year  \\\n",
       "1065308  80.60       0      4056  29.0            3        2020   \n",
       "824708   22.87       1       653  53.0           12        2019   \n",
       "1044395  61.93       1      9815  44.0            3        2020   \n",
       "1199688  46.27       0    391389  26.0            5        2020   \n",
       "333814   71.90       1       198  40.0            6        2019   \n",
       "\n",
       "         latitudinal_distance  longitudinal_distance  category_entertainment  \\\n",
       "1065308                 0.914                  0.793                       0   \n",
       "824708                  0.286                  0.985                       0   \n",
       "1044395                 0.339                  0.467                       0   \n",
       "1199688                 0.387                  0.207                       0   \n",
       "333814                  0.027                  0.978                       0   \n",
       "\n",
       "         category_food_dining  ...  category_grocery_pos  \\\n",
       "1065308                     0  ...                     0   \n",
       "824708                      0  ...                     0   \n",
       "1044395                     0  ...                     1   \n",
       "1199688                     0  ...                     0   \n",
       "333814                      0  ...                     0   \n",
       "\n",
       "         category_health_fitness  category_home  category_kids_pets  \\\n",
       "1065308                        0              0                   0   \n",
       "824708                         1              0                   0   \n",
       "1044395                        0              0                   0   \n",
       "1199688                        0              0                   1   \n",
       "333814                         0              0                   0   \n",
       "\n",
       "         category_misc_net  category_misc_pos  category_personal_care  \\\n",
       "1065308                  0                  0                       1   \n",
       "824708                   0                  0                       0   \n",
       "1044395                  0                  0                       0   \n",
       "1199688                  0                  0                       0   \n",
       "333814                   0                  0                       0   \n",
       "\n",
       "         category_shopping_net  category_shopping_pos  category_travel  \n",
       "1065308                      0                      0                0  \n",
       "824708                       0                      0                0  \n",
       "1044395                      0                      0                0  \n",
       "1199688                      0                      0                0  \n",
       "333814                       0                      0                0  \n",
       "\n",
       "[5 rows x 22 columns]"
      ]
     },
     "execution_count": 84,
     "metadata": {},
     "output_type": "execute_result"
    }
   ],
   "source": [
    "X_train.head()"
   ]
  },
  {
   "cell_type": "code",
   "execution_count": 85,
   "id": "92989c32",
   "metadata": {},
   "outputs": [],
   "source": [
    "from imblearn.over_sampling import SMOTE"
   ]
  },
  {
   "cell_type": "code",
   "execution_count": 92,
   "id": "e645800b",
   "metadata": {},
   "outputs": [],
   "source": [
    "smote = SMOTE(random_state=23)"
   ]
  },
  {
   "cell_type": "code",
   "execution_count": 93,
   "id": "21d8d445",
   "metadata": {},
   "outputs": [],
   "source": [
    "# Apply SMOTE to the training data\n",
    "X_train, y_train = smote.fit_resample(X_train, y_train)"
   ]
  },
  {
   "cell_type": "code",
   "execution_count": 94,
   "id": "9f7ac4a4",
   "metadata": {},
   "outputs": [],
   "source": [
    "from sklearn.preprocessing import StandardScaler"
   ]
  },
  {
   "cell_type": "code",
   "execution_count": 95,
   "id": "d479506a",
   "metadata": {},
   "outputs": [
    {
     "data": {
      "text/plain": [
       "StandardScaler()"
      ]
     },
     "execution_count": 95,
     "metadata": {},
     "output_type": "execute_result"
    }
   ],
   "source": [
    "# Step 1: Fit the StandardScaler on the training data\n",
    "scaler = StandardScaler()\n",
    "scaler.fit(X_train)"
   ]
  },
  {
   "cell_type": "code",
   "execution_count": 96,
   "id": "c375b848",
   "metadata": {},
   "outputs": [],
   "source": [
    "# Step 2: Transform both the training and testing data\n",
    "X_train = scaler.transform(X_train)"
   ]
  },
  {
   "cell_type": "code",
   "execution_count": 98,
   "id": "88dea446",
   "metadata": {},
   "outputs": [
    {
     "data": {
      "text/plain": [
       "DecisionTreeClassifier(random_state=23)"
      ]
     },
     "execution_count": 98,
     "metadata": {},
     "output_type": "execute_result"
    }
   ],
   "source": [
    "from sklearn.tree import DecisionTreeClassifier\n",
    "from sklearn.metrics import classification_report\n",
    "\n",
    "# Initialize and fit the Decision Tree classifier on the training data\n",
    "clf = DecisionTreeClassifier(random_state=23)\n",
    "clf.fit(X_train, y_train)"
   ]
  },
  {
   "cell_type": "code",
   "execution_count": null,
   "id": "8eda9b37",
   "metadata": {},
   "outputs": [],
   "source": []
  }
 ],
 "metadata": {
  "kernelspec": {
   "display_name": "Python 3 (ipykernel)",
   "language": "python",
   "name": "python3"
  },
  "language_info": {
   "codemirror_mode": {
    "name": "ipython",
    "version": 3
   },
   "file_extension": ".py",
   "mimetype": "text/x-python",
   "name": "python",
   "nbconvert_exporter": "python",
   "pygments_lexer": "ipython3",
   "version": "3.9.12"
  }
 },
 "nbformat": 4,
 "nbformat_minor": 5
}
